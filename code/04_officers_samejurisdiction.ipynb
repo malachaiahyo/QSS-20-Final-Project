{
 "cells": [
  {
   "cell_type": "markdown",
   "id": "2ed6042c",
   "metadata": {},
   "source": [
    "# Looking at frequencies of officers being in the same country that their respective entities are in the jurisdiction of "
   ]
  },
  {
   "cell_type": "markdown",
   "id": "cf138f18",
   "metadata": {},
   "source": [
    " This is a companion plot to the sankey diagram and is meant to further review  instances where officers live in the their entity's jurisdictions"
   ]
  },
  {
   "cell_type": "code",
   "execution_count": 1,
   "id": "f50ed9dc",
   "metadata": {},
   "outputs": [],
   "source": [
    "## importing packages and libraries that we've used in class\n",
    "import pandas as pd\n",
    "import numpy as np\n",
    "import random\n",
    "import re\n",
    "import string\n",
    "import requests\n",
    "import plotnine \n",
    "from plotnine import *\n",
    "import matplotlib.pyplot as plt\n",
    "import yaml\n",
    "\n",
    "## sklearn imports\n",
    "from sklearn.linear_model import LogisticRegression, LogisticRegressionCV\n",
    "from sklearn.metrics import accuracy_score, f1_score, precision_score, recall_score\n",
    "from sklearn.tree import DecisionTreeClassifier\n",
    "from sklearn import tree\n",
    "from sklearn.ensemble import RandomForestClassifier, GradientBoostingClassifier, AdaBoostClassifier\n",
    "from sklearn import preprocessing\n",
    "from sklearn.preprocessing import StandardScaler\n",
    "\n",
    "## print mult things\n",
    "from IPython.core.interactiveshell import InteractiveShell\n",
    "InteractiveShell.ast_node_interactivity = \"all\"\n",
    "\n"
   ]
  },
  {
   "cell_type": "markdown",
   "id": "7d4ee4de",
   "metadata": {},
   "source": [
    "## Functions used "
   ]
  },
  {
   "cell_type": "code",
   "execution_count": 2,
   "id": "aedaef75",
   "metadata": {},
   "outputs": [
    {
     "name": "stderr",
     "output_type": "stream",
     "text": [
      "/var/folders/5x/0sqjbpy13p3gzjlddpxqjtfw0000gn/T/ipykernel_16369/1195876193.py:1: DtypeWarning: Columns (4,5,6,7,8,10,11,14,16,17,18,19,20,21,22,23,24,25,26,27,28,29,30,31,32,33,34,37,39,40,41,42,43,45,46,47,48,49,50,51,52,53) have mixed types. Specify dtype option on import or set low_memory=False.\n"
     ]
    }
   ],
   "source": [
    "merged_df = pd.read_csv('ICIJ_Merged.csv')"
   ]
  },
  {
   "cell_type": "code",
   "execution_count": 3,
   "id": "7b83e9f6",
   "metadata": {},
   "outputs": [],
   "source": [
    "# Normalize jurisdiction_description as before\n",
    "def normalize_jurisdiction(name):\n",
    "    if pd.isna(name):\n",
    "        return ''\n",
    "    name = name.lower()\n",
    "    name = name.strip().replace('\\n', '')\n",
    "    if 'british anguilla' in name:\n",
    "        name = name.replace('british anguilla', 'anguilla')\n",
    "    name = name.replace('st.', 'saint')\n",
    "    name = name.replace('st ', 'saint ')\n",
    "    name = name.replace('&', 'and')\n",
    "    name = ' '.join(name.split())\n",
    "    name = name.replace('u.s.', 'us')\n",
    "    if 'cookislands' in name:\n",
    "        name = name.replace('cookislands', 'cook islands')\n",
    "    if name == 'nevis':\n",
    "        name = 'saint kitts and nevis'\n",
    "    return name"
   ]
  },
  {
   "cell_type": "code",
   "execution_count": 4,
   "id": "b593ab85",
   "metadata": {},
   "outputs": [
    {
     "data": {
      "application/vnd.microsoft.datawrangler.viewer.v0+json": {
       "columns": [
        {
         "name": "index",
         "rawType": "int64",
         "type": "integer"
        },
        {
         "name": "node_id_start",
         "rawType": "int64",
         "type": "integer"
        },
        {
         "name": "node_id_end",
         "rawType": "int64",
         "type": "integer"
        },
        {
         "name": "rel_type",
         "rawType": "object",
         "type": "string"
        },
        {
         "name": "link",
         "rawType": "object",
         "type": "string"
        },
        {
         "name": "status",
         "rawType": "object",
         "type": "unknown"
        },
        {
         "name": "start_date",
         "rawType": "object",
         "type": "unknown"
        },
        {
         "name": "end_date",
         "rawType": "object",
         "type": "unknown"
        },
        {
         "name": "sourceid",
         "rawType": "object",
         "type": "string"
        },
        {
         "name": "address_start",
         "rawType": "object",
         "type": "string"
        },
        {
         "name": "name_start",
         "rawType": "object",
         "type": "string"
        },
        {
         "name": "countries_start",
         "rawType": "object",
         "type": "string"
        },
        {
         "name": "country_codes_start",
         "rawType": "object",
         "type": "string"
        },
        {
         "name": "sourceid_start",
         "rawType": "object",
         "type": "string"
        },
        {
         "name": "valid_until_start",
         "rawType": "object",
         "type": "string"
        },
        {
         "name": "note_start",
         "rawType": "object",
         "type": "unknown"
        },
        {
         "name": "node_type_start",
         "rawType": "object",
         "type": "string"
        },
        {
         "name": "original_name_start",
         "rawType": "object",
         "type": "string"
        },
        {
         "name": "former_name_start",
         "rawType": "object",
         "type": "unknown"
        },
        {
         "name": "jurisdiction_start",
         "rawType": "object",
         "type": "string"
        },
        {
         "name": "jurisdiction_description_start",
         "rawType": "object",
         "type": "string"
        },
        {
         "name": "company_type_start",
         "rawType": "object",
         "type": "unknown"
        },
        {
         "name": "internal_id_start",
         "rawType": "object",
         "type": "unknown"
        },
        {
         "name": "incorporation_date_start",
         "rawType": "object",
         "type": "string"
        },
        {
         "name": "inactivation_date_start",
         "rawType": "object",
         "type": "unknown"
        },
        {
         "name": "struck_off_date_start",
         "rawType": "object",
         "type": "unknown"
        },
        {
         "name": "dorm_date_start",
         "rawType": "object",
         "type": "unknown"
        },
        {
         "name": "status_start",
         "rawType": "object",
         "type": "string"
        },
        {
         "name": "service_provider_start",
         "rawType": "object",
         "type": "string"
        },
        {
         "name": "ibcruc_start",
         "rawType": "object",
         "type": "unknown"
        },
        {
         "name": "type_start",
         "rawType": "object",
         "type": "unknown"
        },
        {
         "name": "closed_date_start",
         "rawType": "object",
         "type": "unknown"
        },
        {
         "name": "address_end",
         "rawType": "object",
         "type": "string"
        },
        {
         "name": "name_end",
         "rawType": "object",
         "type": "unknown"
        },
        {
         "name": "countries_end",
         "rawType": "object",
         "type": "string"
        },
        {
         "name": "country_codes_end",
         "rawType": "object",
         "type": "string"
        },
        {
         "name": "sourceid_end",
         "rawType": "object",
         "type": "string"
        },
        {
         "name": "valid_until_end",
         "rawType": "object",
         "type": "string"
        },
        {
         "name": "note_end",
         "rawType": "object",
         "type": "unknown"
        },
        {
         "name": "node_type_end",
         "rawType": "object",
         "type": "string"
        },
        {
         "name": "original_name_end",
         "rawType": "object",
         "type": "unknown"
        },
        {
         "name": "former_name_end",
         "rawType": "object",
         "type": "unknown"
        },
        {
         "name": "jurisdiction_end",
         "rawType": "object",
         "type": "unknown"
        },
        {
         "name": "jurisdiction_description_end",
         "rawType": "object",
         "type": "unknown"
        },
        {
         "name": "company_type_end",
         "rawType": "object",
         "type": "unknown"
        },
        {
         "name": "internal_id_end",
         "rawType": "float64",
         "type": "float"
        },
        {
         "name": "incorporation_date_end",
         "rawType": "object",
         "type": "unknown"
        },
        {
         "name": "inactivation_date_end",
         "rawType": "object",
         "type": "unknown"
        },
        {
         "name": "struck_off_date_end",
         "rawType": "object",
         "type": "unknown"
        },
        {
         "name": "dorm_date_end",
         "rawType": "object",
         "type": "unknown"
        },
        {
         "name": "status_end",
         "rawType": "object",
         "type": "unknown"
        },
        {
         "name": "service_provider_end",
         "rawType": "object",
         "type": "unknown"
        },
        {
         "name": "ibcruc_end",
         "rawType": "object",
         "type": "unknown"
        },
        {
         "name": "type_end",
         "rawType": "object",
         "type": "unknown"
        },
        {
         "name": "closed_date_end",
         "rawType": "object",
         "type": "unknown"
        }
       ],
       "ref": "14f40ff6-bc15-43cf-8a5d-1f1dd66c8d88",
       "rows": [
        [
         "0",
         "10002580",
         "14106952",
         "registered_address",
         "registered address",
         null,
         null,
         null,
         "Panama Papers",
         "STEMBRIDGE TRUST (IRELAND) LIMITED 5 THE COURTYARD CARMANHALL ROAD SANDYFORD DUBLIN 18 IRELAND",
         "FUSION TRADING LIMITED",
         "Ireland",
         "IRL",
         "Panama Papers",
         "The Panama Papers data is current through 2015",
         null,
         "entity",
         "FUSION TRADING LIMITED",
         null,
         "SAM",
         "Samoa",
         null,
         null,
         "2006-12-27",
         "21-JUL-2010",
         "15-FEB-2011",
         null,
         "Defaulted",
         "Mossack Fonseca",
         "R29575",
         null,
         null,
         "STEMBRIDGE TRUST (IRELAND) LIMITED 5 THE COURTYARD CARMANHALL ROAD SANDYFORD DUBLIN 18 IRELAND",
         null,
         "Ireland",
         "IRL",
         "Panama Papers",
         "The Panama Papers data is current through 2015",
         null,
         "address",
         null,
         null,
         null,
         null,
         null,
         null,
         null,
         null,
         null,
         null,
         null,
         null,
         null,
         null,
         null
        ],
        [
         "1",
         "10004460",
         "14101133",
         "registered_address",
         "registered address",
         null,
         null,
         null,
         "Panama Papers",
         "MF CORPORATE (UK) LIMITED 520 S. 7TH STREET SUITE C LAS VEGAS, NV 89101 U. S. A.",
         "MF CORPORATE (UK) LIMITED",
         "United States",
         "USA",
         "Panama Papers",
         "The Panama Papers data is current through 2015",
         null,
         "entity",
         "MF CORPORATE (UK) LIMITED",
         null,
         "UK",
         "United Kingdom",
         null,
         null,
         "2005-07-29",
         "22-DEC-2011",
         "29-JUL-2006",
         null,
         "In transition",
         "Mossack Fonseca",
         null,
         null,
         null,
         "MF CORPORATE (UK) LIMITED 520 S. 7TH STREET SUITE C LAS VEGAS, NV 89101 U. S. A.",
         null,
         "United States",
         "USA",
         "Panama Papers",
         "The Panama Papers data is current through 2015",
         null,
         "address",
         null,
         null,
         null,
         null,
         null,
         null,
         null,
         null,
         null,
         null,
         null,
         null,
         null,
         null,
         null
        ],
        [
         "2",
         "10023813",
         "14105100",
         "registered_address",
         "registered address",
         null,
         null,
         null,
         "Panama Papers",
         "REIG INVESTMENTS LLP INVISION HOUSE WILBURY WAY HITCHIN HERTFORDSHIRE SG4 0XE UNITED KINGDOM",
         "REIG INVESTMENTS LLP",
         "United Kingdom",
         "GBR",
         "Panama Papers",
         "The Panama Papers data is current through 2015",
         null,
         "entity",
         "REIG INVESTMENTS LLP",
         null,
         "UK",
         "United Kingdom",
         null,
         null,
         "2009-11-24",
         "27-JUL-2012",
         "24-NOV-2010",
         null,
         "In transition",
         "Mossack Fonseca",
         "OC256795",
         null,
         null,
         "REIG INVESTMENTS LLP INVISION HOUSE WILBURY WAY HITCHIN HERTFORDSHIRE SG4 0XE UNITED KINGDOM",
         null,
         "United Kingdom",
         "GBR",
         "Panama Papers",
         "The Panama Papers data is current through 2015",
         null,
         "address",
         null,
         null,
         null,
         null,
         null,
         null,
         null,
         null,
         null,
         null,
         null,
         null,
         null,
         null,
         null
        ],
        [
         "3",
         "10023840",
         "14100712",
         "registered_address",
         "registered address",
         null,
         null,
         null,
         "Panama Papers",
         "MARCUSSI INTERNATIONAL LLP INVISION HOUSE WILBURY WAY HITCHIN HERTFORDSHIRE SG4 0XE UNITED KINGDOM",
         "MARCUSSI INTERNATIONAL LLP",
         "United Kingdom",
         "GBR",
         "Panama Papers",
         "The Panama Papers data is current through 2015",
         null,
         "entity",
         "MARCUSSI INTERNATIONAL LLP",
         null,
         "UK",
         "United Kingdom",
         null,
         null,
         "2013-09-25",
         null,
         null,
         null,
         "Active",
         "Mossack Fonseca",
         "OC388103",
         null,
         null,
         "MARCUSSI INTERNATIONAL LLP INVISION HOUSE WILBURY WAY HITCHIN HERTFORDSHIRE SG4 0XE UNITED KINGDOM",
         null,
         "United Kingdom",
         "GBR",
         "Panama Papers",
         "The Panama Papers data is current through 2015",
         null,
         "address",
         null,
         null,
         null,
         null,
         null,
         null,
         null,
         null,
         null,
         null,
         null,
         null,
         null,
         null,
         null
        ],
        [
         "4",
         "10010428",
         "14093957",
         "registered_address",
         "registered address",
         null,
         null,
         null,
         "Panama Papers",
         "COLLYER BRISTOW LLP SOLICITORS 4 BEDFORD ROW LONDON WC1R 4TF UNITED KINGDOM *S.I.*",
         "PULSAR HOLDINGS CORPORATION",
         "United Kingdom",
         "GBR",
         "Panama Papers",
         "The Panama Papers data is current through 2015",
         null,
         "entity",
         "PULSAR HOLDINGS CORPORATION",
         null,
         "PMA",
         "Panama",
         null,
         null,
         "1990-09-13",
         "10-OCT-1991",
         "13-DEC-1991",
         null,
         "Defaulted",
         "Mossack Fonseca",
         null,
         null,
         null,
         "COLLYER BRISTOW LLP SOLICITORS 4 BEDFORD ROW LONDON WC1R 4TF UNITED KINGDOM *S.I.*",
         null,
         "United Kingdom",
         "GBR",
         "Panama Papers",
         "The Panama Papers data is current through 2015",
         null,
         "address",
         null,
         null,
         null,
         null,
         null,
         null,
         null,
         null,
         null,
         null,
         null,
         null,
         null,
         null,
         null
        ]
       ],
       "shape": {
        "columns": 54,
        "rows": 5
       }
      },
      "text/html": [
       "<div>\n",
       "<style scoped>\n",
       "    .dataframe tbody tr th:only-of-type {\n",
       "        vertical-align: middle;\n",
       "    }\n",
       "\n",
       "    .dataframe tbody tr th {\n",
       "        vertical-align: top;\n",
       "    }\n",
       "\n",
       "    .dataframe thead th {\n",
       "        text-align: right;\n",
       "    }\n",
       "</style>\n",
       "<table border=\"1\" class=\"dataframe\">\n",
       "  <thead>\n",
       "    <tr style=\"text-align: right;\">\n",
       "      <th></th>\n",
       "      <th>node_id_start</th>\n",
       "      <th>node_id_end</th>\n",
       "      <th>rel_type</th>\n",
       "      <th>link</th>\n",
       "      <th>status</th>\n",
       "      <th>start_date</th>\n",
       "      <th>end_date</th>\n",
       "      <th>sourceid</th>\n",
       "      <th>address_start</th>\n",
       "      <th>name_start</th>\n",
       "      <th>...</th>\n",
       "      <th>internal_id_end</th>\n",
       "      <th>incorporation_date_end</th>\n",
       "      <th>inactivation_date_end</th>\n",
       "      <th>struck_off_date_end</th>\n",
       "      <th>dorm_date_end</th>\n",
       "      <th>status_end</th>\n",
       "      <th>service_provider_end</th>\n",
       "      <th>ibcruc_end</th>\n",
       "      <th>type_end</th>\n",
       "      <th>closed_date_end</th>\n",
       "    </tr>\n",
       "  </thead>\n",
       "  <tbody>\n",
       "    <tr>\n",
       "      <th>0</th>\n",
       "      <td>10002580</td>\n",
       "      <td>14106952</td>\n",
       "      <td>registered_address</td>\n",
       "      <td>registered address</td>\n",
       "      <td>NaN</td>\n",
       "      <td>NaN</td>\n",
       "      <td>NaN</td>\n",
       "      <td>Panama Papers</td>\n",
       "      <td>STEMBRIDGE TRUST (IRELAND) LIMITED 5 THE COURT...</td>\n",
       "      <td>FUSION TRADING LIMITED</td>\n",
       "      <td>...</td>\n",
       "      <td>NaN</td>\n",
       "      <td>NaN</td>\n",
       "      <td>NaN</td>\n",
       "      <td>NaN</td>\n",
       "      <td>NaN</td>\n",
       "      <td>NaN</td>\n",
       "      <td>NaN</td>\n",
       "      <td>NaN</td>\n",
       "      <td>NaN</td>\n",
       "      <td>NaN</td>\n",
       "    </tr>\n",
       "    <tr>\n",
       "      <th>1</th>\n",
       "      <td>10004460</td>\n",
       "      <td>14101133</td>\n",
       "      <td>registered_address</td>\n",
       "      <td>registered address</td>\n",
       "      <td>NaN</td>\n",
       "      <td>NaN</td>\n",
       "      <td>NaN</td>\n",
       "      <td>Panama Papers</td>\n",
       "      <td>MF CORPORATE (UK) LIMITED 520 S. 7TH STREET SU...</td>\n",
       "      <td>MF CORPORATE (UK) LIMITED</td>\n",
       "      <td>...</td>\n",
       "      <td>NaN</td>\n",
       "      <td>NaN</td>\n",
       "      <td>NaN</td>\n",
       "      <td>NaN</td>\n",
       "      <td>NaN</td>\n",
       "      <td>NaN</td>\n",
       "      <td>NaN</td>\n",
       "      <td>NaN</td>\n",
       "      <td>NaN</td>\n",
       "      <td>NaN</td>\n",
       "    </tr>\n",
       "    <tr>\n",
       "      <th>2</th>\n",
       "      <td>10023813</td>\n",
       "      <td>14105100</td>\n",
       "      <td>registered_address</td>\n",
       "      <td>registered address</td>\n",
       "      <td>NaN</td>\n",
       "      <td>NaN</td>\n",
       "      <td>NaN</td>\n",
       "      <td>Panama Papers</td>\n",
       "      <td>REIG INVESTMENTS LLP INVISION HOUSE WILBURY WA...</td>\n",
       "      <td>REIG INVESTMENTS LLP</td>\n",
       "      <td>...</td>\n",
       "      <td>NaN</td>\n",
       "      <td>NaN</td>\n",
       "      <td>NaN</td>\n",
       "      <td>NaN</td>\n",
       "      <td>NaN</td>\n",
       "      <td>NaN</td>\n",
       "      <td>NaN</td>\n",
       "      <td>NaN</td>\n",
       "      <td>NaN</td>\n",
       "      <td>NaN</td>\n",
       "    </tr>\n",
       "    <tr>\n",
       "      <th>3</th>\n",
       "      <td>10023840</td>\n",
       "      <td>14100712</td>\n",
       "      <td>registered_address</td>\n",
       "      <td>registered address</td>\n",
       "      <td>NaN</td>\n",
       "      <td>NaN</td>\n",
       "      <td>NaN</td>\n",
       "      <td>Panama Papers</td>\n",
       "      <td>MARCUSSI INTERNATIONAL LLP INVISION HOUSE WILB...</td>\n",
       "      <td>MARCUSSI INTERNATIONAL LLP</td>\n",
       "      <td>...</td>\n",
       "      <td>NaN</td>\n",
       "      <td>NaN</td>\n",
       "      <td>NaN</td>\n",
       "      <td>NaN</td>\n",
       "      <td>NaN</td>\n",
       "      <td>NaN</td>\n",
       "      <td>NaN</td>\n",
       "      <td>NaN</td>\n",
       "      <td>NaN</td>\n",
       "      <td>NaN</td>\n",
       "    </tr>\n",
       "    <tr>\n",
       "      <th>4</th>\n",
       "      <td>10010428</td>\n",
       "      <td>14093957</td>\n",
       "      <td>registered_address</td>\n",
       "      <td>registered address</td>\n",
       "      <td>NaN</td>\n",
       "      <td>NaN</td>\n",
       "      <td>NaN</td>\n",
       "      <td>Panama Papers</td>\n",
       "      <td>COLLYER BRISTOW LLP SOLICITORS 4 BEDFORD ROW L...</td>\n",
       "      <td>PULSAR HOLDINGS CORPORATION</td>\n",
       "      <td>...</td>\n",
       "      <td>NaN</td>\n",
       "      <td>NaN</td>\n",
       "      <td>NaN</td>\n",
       "      <td>NaN</td>\n",
       "      <td>NaN</td>\n",
       "      <td>NaN</td>\n",
       "      <td>NaN</td>\n",
       "      <td>NaN</td>\n",
       "      <td>NaN</td>\n",
       "      <td>NaN</td>\n",
       "    </tr>\n",
       "  </tbody>\n",
       "</table>\n",
       "<p>5 rows × 54 columns</p>\n",
       "</div>"
      ],
      "text/plain": [
       "   node_id_start  node_id_end            rel_type                link status  \\\n",
       "0       10002580     14106952  registered_address  registered address    NaN   \n",
       "1       10004460     14101133  registered_address  registered address    NaN   \n",
       "2       10023813     14105100  registered_address  registered address    NaN   \n",
       "3       10023840     14100712  registered_address  registered address    NaN   \n",
       "4       10010428     14093957  registered_address  registered address    NaN   \n",
       "\n",
       "  start_date end_date       sourceid  \\\n",
       "0        NaN      NaN  Panama Papers   \n",
       "1        NaN      NaN  Panama Papers   \n",
       "2        NaN      NaN  Panama Papers   \n",
       "3        NaN      NaN  Panama Papers   \n",
       "4        NaN      NaN  Panama Papers   \n",
       "\n",
       "                                       address_start  \\\n",
       "0  STEMBRIDGE TRUST (IRELAND) LIMITED 5 THE COURT...   \n",
       "1  MF CORPORATE (UK) LIMITED 520 S. 7TH STREET SU...   \n",
       "2  REIG INVESTMENTS LLP INVISION HOUSE WILBURY WA...   \n",
       "3  MARCUSSI INTERNATIONAL LLP INVISION HOUSE WILB...   \n",
       "4  COLLYER BRISTOW LLP SOLICITORS 4 BEDFORD ROW L...   \n",
       "\n",
       "                    name_start  ... internal_id_end incorporation_date_end  \\\n",
       "0       FUSION TRADING LIMITED  ...             NaN                    NaN   \n",
       "1    MF CORPORATE (UK) LIMITED  ...             NaN                    NaN   \n",
       "2         REIG INVESTMENTS LLP  ...             NaN                    NaN   \n",
       "3   MARCUSSI INTERNATIONAL LLP  ...             NaN                    NaN   \n",
       "4  PULSAR HOLDINGS CORPORATION  ...             NaN                    NaN   \n",
       "\n",
       "  inactivation_date_end struck_off_date_end dorm_date_end status_end  \\\n",
       "0                   NaN                 NaN           NaN        NaN   \n",
       "1                   NaN                 NaN           NaN        NaN   \n",
       "2                   NaN                 NaN           NaN        NaN   \n",
       "3                   NaN                 NaN           NaN        NaN   \n",
       "4                   NaN                 NaN           NaN        NaN   \n",
       "\n",
       "  service_provider_end ibcruc_end type_end closed_date_end  \n",
       "0                  NaN        NaN      NaN             NaN  \n",
       "1                  NaN        NaN      NaN             NaN  \n",
       "2                  NaN        NaN      NaN             NaN  \n",
       "3                  NaN        NaN      NaN             NaN  \n",
       "4                  NaN        NaN      NaN             NaN  \n",
       "\n",
       "[5 rows x 54 columns]"
      ]
     },
     "execution_count": 4,
     "metadata": {},
     "output_type": "execute_result"
    }
   ],
   "source": [
    "merged_df.head()"
   ]
  },
  {
   "cell_type": "markdown",
   "id": "5c7d7a43",
   "metadata": {},
   "source": [
    "### Plotting to show most popular entity jurisdictions for officers to base themselves in "
   ]
  },
  {
   "cell_type": "code",
   "execution_count": 5,
   "id": "38b7964a",
   "metadata": {},
   "outputs": [
    {
     "name": "stdout",
     "output_type": "stream",
     "text": [
      "--- Officer Registration Analysis ---\n",
      "Percentage of officers registered in the same jurisdiction as their entity: 32.43%\n"
     ]
    },
    {
     "data": {
      "text/plain": [
       "<Figure size 1000x600 with 0 Axes>"
      ]
     },
     "execution_count": 5,
     "metadata": {},
     "output_type": "execute_result"
    },
    {
     "data": {
      "text/plain": [
       "<Axes: ylabel='jurisdiction_norm_end'>"
      ]
     },
     "execution_count": 5,
     "metadata": {},
     "output_type": "execute_result"
    },
    {
     "data": {
      "text/plain": [
       "Text(0.5, 1.0, 'Top 10 Jurisdictions: Officers in Same Jurisdiction as Entity')"
      ]
     },
     "execution_count": 5,
     "metadata": {},
     "output_type": "execute_result"
    },
    {
     "data": {
      "text/plain": [
       "Text(0.5, 0, 'Number of Unique Officers')"
      ]
     },
     "execution_count": 5,
     "metadata": {},
     "output_type": "execute_result"
    },
    {
     "data": {
      "text/plain": [
       "Text(0, 0.5, 'Entity Jurisdiction')"
      ]
     },
     "execution_count": 5,
     "metadata": {},
     "output_type": "execute_result"
    },
    {
     "data": {
      "image/png": "[encoded data removed]",
      "text/plain": [
       "<Figure size 1000x600 with 1 Axes>"
      ]
     },
     "metadata": {},
     "output_type": "display_data"
    }
   ],
   "source": [
    "# Normalize jurisdiction for entities (node_end)\n",
    "merged_df['jurisdiction_norm_end'] = merged_df['jurisdiction_description_end'].apply(normalize_jurisdiction) # Apply normalization to entity jurisdiction descriptions\n",
    "\n",
    "# Normalize country for officers (node_start)\n",
    "merged_df['countries_start_norm'] = merged_df['countries_start'].apply(normalize_jurisdiction) # Apply normalization to officer countries\n",
    "\n",
    "\n",
    "print(\"--- Officer Registration Analysis ---\") # Print header for the analysis\n",
    "# Filter for links where an officer is connected to an entity and both country/jurisdiction are valid\n",
    "officer_entity_links = merged_df[\n",
    "    (merged_df['node_type_start'] == 'officer') & # Check if the starting node is an officer\n",
    "    (merged_df['node_type_end'] == 'entity') & # Check if the ending node is an entity\n",
    "    (merged_df['countries_start_norm'].notna()) & (merged_df['countries_start_norm'] != '') & # Ensure officer's normalized country is not null or empty\n",
    "    (merged_df['jurisdiction_norm_end'].notna()) & (merged_df['jurisdiction_norm_end'] != '') # Ensure entity's normalized jurisdiction is not null or empty\n",
    "].copy() # Create a copy to avoid SettingWithCopyWarning\n",
    "\n",
    "    # Create a boolean column indicating if officer's country matches entity's jurisdiction\n",
    "officer_entity_links['officer_in_entity_jurisdiction'] = \\\n",
    "        officer_entity_links['countries_start_norm'] == officer_entity_links['jurisdiction_norm_end']\n",
    "    \n",
    "    # Calculate the percentage of officers in the same jurisdiction as their entity\n",
    "percentage_same_jurisdiction = (officer_entity_links['officer_in_entity_jurisdiction'].sum() * 100.0 / \n",
    "                                    len(officer_entity_links))\n",
    "    # Print the calculated percentage\n",
    "print(f\"Percentage of officers registered in the same jurisdiction as their entity: {percentage_same_jurisdiction:.2f}%\")\n",
    "\n",
    "    # Count unique officers for each jurisdiction where officer and entity are in the same jurisdiction\n",
    "same_jurisdiction_counts = officer_entity_links[officer_entity_links['officer_in_entity_jurisdiction']] \\\n",
    "        .groupby('jurisdiction_norm_end')['node_id_start'] \\\n",
    "        .nunique() \\\n",
    "        .sort_values(ascending=False) \\\n",
    "        .head(10) # Select the top 10 jurisdictions\n",
    "\n",
    "plt.figure(figsize=(10, 6)) # Set the figure size for the plot\n",
    "\n",
    "# Create a horizontal bar plot of the counts\n",
    "same_jurisdiction_counts.plot(kind='barh', color='skyblue', edgecolor='black')\n",
    "plt.title('Top 10 Jurisdictions: Officers in Same Jurisdiction as Entity') # Set the title of the plot\n",
    "plt.xlabel('Number of Unique Officers') # Set the label for the x-axis\n",
    "plt.ylabel('Entity Jurisdiction') # Set the label for the y-axis\n",
    "plt.gca().invert_yaxis() # Invert y-axis to display the highest count at the top\n",
    "plt.tight_layout() # Adjust plot layout to prevent labels from overlapping\n",
    "plt.show() \n"
   ]
  }
 ],
 "metadata": {
  "kernelspec": {
   "display_name": "myenv",
   "language": "python",
   "name": "myenv"
  },
  "language_info": {
   "codemirror_mode": {
    "name": "ipython",
    "version": 3
   },
   "file_extension": ".py",
   "mimetype": "text/x-python",
   "name": "python",
   "nbconvert_exporter": "python",
   "pygments_lexer": "ipython3",
   "version": "3.12.2"
  }
 },
 "nbformat": 4,
 "nbformat_minor": 5
}
