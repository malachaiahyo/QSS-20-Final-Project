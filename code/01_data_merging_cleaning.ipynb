{
 "cells": [
  {
   "cell_type": "markdown",
   "id": "b6eab063",
   "metadata": {},
   "source": [
    "# Merging and Cleaning ICIJ Data   "
   ]
  },
  {
   "cell_type": "markdown",
   "id": "f1f53aa7",
   "metadata": {},
   "source": [
    "This notebook will merge and clean the raw ICIJ datasets to be used for later analysis "
   ]
  },
  {
   "cell_type": "code",
   "execution_count": 5,
   "id": "a24c1345",
   "metadata": {},
   "outputs": [],
   "source": [
    "## importing packages and libraries that we've used in class\n",
    "import pandas as pd\n",
    "import numpy as np\n",
    "import random\n",
    "import re\n",
    "import string\n",
    "import requests\n",
    "import plotnine \n",
    "from plotnine import *\n",
    "import matplotlib.pyplot as plt\n",
    "import yaml\n",
    "\n",
    "\n",
    "## sklearn imports\n",
    "from sklearn.linear_model import LogisticRegression, LogisticRegressionCV\n",
    "from sklearn.metrics import accuracy_score, f1_score, precision_score, recall_score\n",
    "from sklearn.tree import DecisionTreeClassifier\n",
    "from sklearn import tree\n",
    "from sklearn.ensemble import RandomForestClassifier, GradientBoostingClassifier, AdaBoostClassifier\n",
    "from sklearn import preprocessing\n",
    "from sklearn.preprocessing import StandardScaler\n",
    "\n",
    "## print mult things\n",
    "from IPython.core.interactiveshell import InteractiveShell\n",
    "InteractiveShell.ast_node_interactivity = \"all\"\n",
    "\n"
   ]
  },
  {
   "cell_type": "markdown",
   "id": "5a380b44",
   "metadata": {},
   "source": [
    "### Code to merge datasets"
   ]
  },
  {
   "cell_type": "code",
   "execution_count": 6,
   "id": "a63a5fdc",
   "metadata": {},
   "outputs": [
    {
     "name": "stderr",
     "output_type": "stream",
     "text": [
      "/var/folders/5x/0sqjbpy13p3gzjlddpxqjtfw0000gn/T/ipykernel_15705/2237839886.py:1: DtypeWarning: Columns (4,5,6,7) have mixed types. Specify dtype option on import or set low_memory=False.\n",
      "/var/folders/5x/0sqjbpy13p3gzjlddpxqjtfw0000gn/T/ipykernel_15705/2237839886.py:5: DtypeWarning: Columns (2,3,6,7,10,11,12,13,14,15,16,17,20) have mixed types. Specify dtype option on import or set low_memory=False.\n"
     ]
    },
    {
     "name": "stdout",
     "output_type": "stream",
     "text": [
      "<class 'pandas.core.frame.DataFrame'>\n",
      "RangeIndex: 3339267 entries, 0 to 3339266\n",
      "Data columns (total 54 columns):\n",
      " #   Column                          Dtype \n",
      "---  ------                          ----- \n",
      " 0   node_id_start                   int64 \n",
      " 1   node_id_end                     int64 \n",
      " 2   rel_type                        object\n",
      " 3   link                            object\n",
      " 4   status                          object\n",
      " 5   start_date                      object\n",
      " 6   end_date                        object\n",
      " 7   sourceID                        object\n",
      " 8   address_start                   object\n",
      " 9   name_start                      object\n",
      " 10  countries_start                 object\n",
      " 11  country_codes_start             object\n",
      " 12  sourceID_start                  object\n",
      " 13  valid_until_start               object\n",
      " 14  note_start                      object\n",
      " 15  node_type_start                 object\n",
      " 16  original_name_start             object\n",
      " 17  former_name_start               object\n",
      " 18  jurisdiction_start              object\n",
      " 19  jurisdiction_description_start  object\n",
      " 20  company_type_start              object\n",
      " 21  internal_id_start               object\n",
      " 22  incorporation_date_start        object\n",
      " 23  inactivation_date_start         object\n",
      " 24  struck_off_date_start           object\n",
      " 25  dorm_date_start                 object\n",
      " 26  status_start                    object\n",
      " 27  service_provider_start          object\n",
      " 28  ibcRUC_start                    object\n",
      " 29  type_start                      object\n",
      " 30  closed_date_start               object\n",
      " 31  address_end                     object\n",
      " 32  name_end                        object\n",
      " 33  countries_end                   object\n",
      " 34  country_codes_end               object\n",
      " 35  sourceID_end                    object\n",
      " 36  valid_until_end                 object\n",
      " 37  note_end                        object\n",
      " 38  node_type_end                   object\n",
      " 39  original_name_end               object\n",
      " 40  former_name_end                 object\n",
      " 41  jurisdiction_end                object\n",
      " 42  jurisdiction_description_end    object\n",
      " 43  company_type_end                object\n",
      " 44  internal_id_end                 object\n",
      " 45  incorporation_date_end          object\n",
      " 46  inactivation_date_end           object\n",
      " 47  struck_off_date_end             object\n",
      " 48  dorm_date_end                   object\n",
      " 49  status_end                      object\n",
      " 50  service_provider_end            object\n",
      " 51  ibcRUC_end                      object\n",
      " 52  type_end                        object\n",
      " 53  closed_date_end                 object\n",
      "dtypes: int64(2), object(52)\n",
      "memory usage: 1.3+ GB\n",
      "None\n"
     ]
    }
   ],
   "source": [
    "\n",
    "rels = pd.read_csv(\"relationships.csv\")\n",
    "\n",
    "# Read each node file, and add a 'node_type' column to them\n",
    "addresses       = pd.read_csv(\"nodes-addresses.csv\"     ).assign(node_type=\"address\")\n",
    "entities        = pd.read_csv(\"nodes-entities.csv\"      ).assign(node_type=\"entity\")\n",
    "intermediaries  = pd.read_csv(\"nodes-intermediaries.csv\").assign(node_type=\"intermediary\")\n",
    "officers        = pd.read_csv(\"nodes-officers.csv\"      ).assign(node_type=\"officer\")\n",
    "others         = pd.read_csv(\"nodes-others.csv\"        ).assign(node_type=\"other\")\n",
    "\n",
    "\n",
    "# Stack node files into a single dataset\n",
    "nodes = pd.concat(\n",
    "    [addresses, entities, intermediaries, officers, others],\n",
    "    ignore_index=True,\n",
    "    sort=False\n",
    ")\n",
    "\n",
    "# Merge in the metadata for the 'start' node\n",
    "#    Suffix all node columns with '_start'; this brings in, e.g., name_start, countries_start, node_type_start, etc.\n",
    "rels = rels.merge(\n",
    "    nodes.add_suffix(\"_start\"),\n",
    "    left_on=\"node_id_start\",\n",
    "    right_on=\"node_id_start\",\n",
    "    how=\"left\"\n",
    ")\n",
    "\n",
    "# Merge in the metadata for the 'end' node\n",
    "#    Suffixing with '_end' brings in name_end, countries_end, node_type_end, etc.\n",
    "rels = rels.merge(\n",
    "    nodes.add_suffix(\"_end\"),\n",
    "    left_on=\"node_id_end\",\n",
    "    right_on=\"node_id_end\",\n",
    "    how=\"left\"\n",
    ")\n",
    "\n",
    "print(rels.info())\n"
   ]
  },
  {
   "cell_type": "code",
   "execution_count": 7,
   "id": "11dbd1d6",
   "metadata": {},
   "outputs": [
    {
     "data": {
      "application/vnd.microsoft.datawrangler.viewer.v0+json": {
       "columns": [
        {
         "name": "index",
         "rawType": "int64",
         "type": "integer"
        },
        {
         "name": "node_id_start",
         "rawType": "int64",
         "type": "integer"
        },
        {
         "name": "node_id_end",
         "rawType": "int64",
         "type": "integer"
        },
        {
         "name": "rel_type",
         "rawType": "object",
         "type": "string"
        },
        {
         "name": "link",
         "rawType": "object",
         "type": "string"
        },
        {
         "name": "status",
         "rawType": "object",
         "type": "unknown"
        },
        {
         "name": "start_date",
         "rawType": "object",
         "type": "unknown"
        },
        {
         "name": "end_date",
         "rawType": "object",
         "type": "unknown"
        },
        {
         "name": "sourceID",
         "rawType": "object",
         "type": "string"
        },
        {
         "name": "address_start",
         "rawType": "object",
         "type": "string"
        },
        {
         "name": "name_start",
         "rawType": "object",
         "type": "string"
        },
        {
         "name": "countries_start",
         "rawType": "object",
         "type": "string"
        },
        {
         "name": "country_codes_start",
         "rawType": "object",
         "type": "string"
        },
        {
         "name": "sourceID_start",
         "rawType": "object",
         "type": "string"
        },
        {
         "name": "valid_until_start",
         "rawType": "object",
         "type": "string"
        },
        {
         "name": "note_start",
         "rawType": "object",
         "type": "unknown"
        },
        {
         "name": "node_type_start",
         "rawType": "object",
         "type": "string"
        },
        {
         "name": "original_name_start",
         "rawType": "object",
         "type": "string"
        },
        {
         "name": "former_name_start",
         "rawType": "object",
         "type": "unknown"
        },
        {
         "name": "jurisdiction_start",
         "rawType": "object",
         "type": "string"
        },
        {
         "name": "jurisdiction_description_start",
         "rawType": "object",
         "type": "string"
        },
        {
         "name": "company_type_start",
         "rawType": "object",
         "type": "unknown"
        },
        {
         "name": "internal_id_start",
         "rawType": "object",
         "type": "unknown"
        },
        {
         "name": "incorporation_date_start",
         "rawType": "object",
         "type": "string"
        },
        {
         "name": "inactivation_date_start",
         "rawType": "object",
         "type": "unknown"
        },
        {
         "name": "struck_off_date_start",
         "rawType": "object",
         "type": "unknown"
        },
        {
         "name": "dorm_date_start",
         "rawType": "object",
         "type": "unknown"
        },
        {
         "name": "status_start",
         "rawType": "object",
         "type": "string"
        },
        {
         "name": "service_provider_start",
         "rawType": "object",
         "type": "string"
        },
        {
         "name": "ibcRUC_start",
         "rawType": "object",
         "type": "unknown"
        },
        {
         "name": "type_start",
         "rawType": "object",
         "type": "unknown"
        },
        {
         "name": "closed_date_start",
         "rawType": "object",
         "type": "unknown"
        },
        {
         "name": "address_end",
         "rawType": "object",
         "type": "string"
        },
        {
         "name": "name_end",
         "rawType": "object",
         "type": "unknown"
        },
        {
         "name": "countries_end",
         "rawType": "object",
         "type": "string"
        },
        {
         "name": "country_codes_end",
         "rawType": "object",
         "type": "string"
        },
        {
         "name": "sourceID_end",
         "rawType": "object",
         "type": "string"
        },
        {
         "name": "valid_until_end",
         "rawType": "object",
         "type": "string"
        },
        {
         "name": "note_end",
         "rawType": "object",
         "type": "unknown"
        },
        {
         "name": "node_type_end",
         "rawType": "object",
         "type": "string"
        },
        {
         "name": "original_name_end",
         "rawType": "object",
         "type": "unknown"
        },
        {
         "name": "former_name_end",
         "rawType": "object",
         "type": "unknown"
        },
        {
         "name": "jurisdiction_end",
         "rawType": "object",
         "type": "unknown"
        },
        {
         "name": "jurisdiction_description_end",
         "rawType": "object",
         "type": "unknown"
        },
        {
         "name": "company_type_end",
         "rawType": "object",
         "type": "unknown"
        },
        {
         "name": "internal_id_end",
         "rawType": "object",
         "type": "unknown"
        },
        {
         "name": "incorporation_date_end",
         "rawType": "object",
         "type": "unknown"
        },
        {
         "name": "inactivation_date_end",
         "rawType": "object",
         "type": "unknown"
        },
        {
         "name": "struck_off_date_end",
         "rawType": "object",
         "type": "unknown"
        },
        {
         "name": "dorm_date_end",
         "rawType": "object",
         "type": "unknown"
        },
        {
         "name": "status_end",
         "rawType": "object",
         "type": "unknown"
        },
        {
         "name": "service_provider_end",
         "rawType": "object",
         "type": "unknown"
        },
        {
         "name": "ibcRUC_end",
         "rawType": "object",
         "type": "unknown"
        },
        {
         "name": "type_end",
         "rawType": "object",
         "type": "unknown"
        },
        {
         "name": "closed_date_end",
         "rawType": "object",
         "type": "unknown"
        }
       ],
       "ref": "921a4185-ee8b-4962-91ee-73deeab21379",
       "rows": [
        [
         "0",
         "10002580",
         "14106952",
         "registered_address",
         "registered address",
         null,
         null,
         null,
         "Panama Papers",
         "STEMBRIDGE TRUST (IRELAND) LIMITED 5 THE COURTYARD   CARMANHALL ROAD SANDYFORD DUBLIN 18 IRELAND",
         "FUSION TRADING LIMITED",
         "Ireland",
         "IRL",
         "Panama Papers",
         "The Panama Papers data is current through 2015",
         null,
         "entity",
         "FUSION TRADING LIMITED",
         null,
         "SAM",
         "Samoa",
         null,
         "1002255.0",
         "27-DEC-2006",
         "21-JUL-2010",
         "15-FEB-2011",
         null,
         "Defaulted",
         "Mossack Fonseca",
         "R29575",
         null,
         null,
         "STEMBRIDGE TRUST (IRELAND) LIMITED 5 THE COURTYARD   CARMANHALL ROAD SANDYFORD DUBLIN 18 IRELAND",
         null,
         "Ireland",
         "IRL",
         "Panama Papers",
         "The Panama Papers  data is current through 2015",
         null,
         "address",
         null,
         null,
         null,
         null,
         null,
         null,
         null,
         null,
         null,
         null,
         null,
         null,
         null,
         null,
         null
        ],
        [
         "1",
         "10004460",
         "14101133",
         "registered_address",
         "registered address",
         null,
         null,
         null,
         "Panama Papers",
         "MF CORPORATE (UK) LIMITED 520 S. 7TH STREET  SUITE C LAS VEGAS, NV 89101 U.  S.  A.",
         "MF CORPORATE (UK) LIMITED",
         "United States",
         "USA",
         "Panama Papers",
         "The Panama Papers data is current through 2015",
         null,
         "entity",
         "MF CORPORATE (UK) LIMITED",
         null,
         "UK",
         "United Kingdom",
         null,
         "1100006.0",
         "29-JUL-2005",
         "22-DEC-2011",
         "29-JUL-2006",
         null,
         "In transition",
         "Mossack Fonseca",
         null,
         null,
         null,
         "MF CORPORATE (UK) LIMITED 520 S. 7TH STREET  SUITE C LAS VEGAS, NV 89101 U.  S.  A.",
         null,
         "United States",
         "USA",
         "Panama Papers",
         "The Panama Papers  data is current through 2015",
         null,
         "address",
         null,
         null,
         null,
         null,
         null,
         null,
         null,
         null,
         null,
         null,
         null,
         null,
         null,
         null,
         null
        ],
        [
         "2",
         "10023813",
         "14105100",
         "registered_address",
         "registered address",
         null,
         null,
         null,
         "Panama Papers",
         "REIG INVESTMENTS LLP INVISION HOUSE WILBURY WAY HITCHIN HERTFORDSHIRE SG4 0XE UNITED KINGDOM",
         "REIG INVESTMENTS LLP",
         "United Kingdom",
         "GBR",
         "Panama Papers",
         "The Panama Papers data is current through 2015",
         null,
         "entity",
         "REIG INVESTMENTS LLP",
         null,
         "UK",
         "United Kingdom",
         null,
         "1100086.0",
         "24-NOV-2009",
         "27-JUL-2012",
         "24-NOV-2010",
         null,
         "In transition",
         "Mossack Fonseca",
         "OC256795",
         null,
         null,
         "REIG INVESTMENTS LLP INVISION HOUSE WILBURY WAY HITCHIN HERTFORDSHIRE SG4 0XE UNITED KINGDOM",
         null,
         "United Kingdom",
         "GBR",
         "Panama Papers",
         "The Panama Papers  data is current through 2015",
         null,
         "address",
         null,
         null,
         null,
         null,
         null,
         null,
         null,
         null,
         null,
         null,
         null,
         null,
         null,
         null,
         null
        ],
        [
         "3",
         "10023840",
         "14100712",
         "registered_address",
         "registered address",
         null,
         null,
         null,
         "Panama Papers",
         "MARCUSSI INTERNATIONAL LLP INVISION HOUSE WILBURY WAY HITCHIN HERTFORDSHIRE SG4 0XE UNITED KINGDOM",
         "MARCUSSI INTERNATIONAL LLP",
         "United Kingdom",
         "GBR",
         "Panama Papers",
         "The Panama Papers data is current through 2015",
         null,
         "entity",
         "MARCUSSI INTERNATIONAL LLP",
         null,
         "UK",
         "United Kingdom",
         null,
         "1100172.0",
         "25-SEP-2013",
         null,
         null,
         null,
         "Active",
         "Mossack Fonseca",
         "OC388103",
         null,
         null,
         "MARCUSSI INTERNATIONAL LLP INVISION HOUSE WILBURY WAY HITCHIN HERTFORDSHIRE SG4 0XE UNITED KINGDOM",
         null,
         "United Kingdom",
         "GBR",
         "Panama Papers",
         "The Panama Papers  data is current through 2015",
         null,
         "address",
         null,
         null,
         null,
         null,
         null,
         null,
         null,
         null,
         null,
         null,
         null,
         null,
         null,
         null,
         null
        ],
        [
         "4",
         "10010428",
         "14093957",
         "registered_address",
         "registered address",
         null,
         null,
         null,
         "Panama Papers",
         "COLLYER BRISTOW LLP SOLICITORS 4 BEDFORD ROW LONDON WC1R 4TF UNITED KINGDOM *S.I.*",
         "PULSAR HOLDINGS CORPORATION",
         "United Kingdom",
         "GBR",
         "Panama Papers",
         "The Panama Papers data is current through 2015",
         null,
         "entity",
         "PULSAR HOLDINGS CORPORATION",
         null,
         "PMA",
         "Panama",
         null,
         "12504.0",
         "13-SEP-1990",
         "10-OCT-1991",
         "13-DEC-1991",
         null,
         "Defaulted",
         "Mossack Fonseca",
         null,
         null,
         null,
         "COLLYER BRISTOW LLP SOLICITORS 4 BEDFORD ROW LONDON WC1R 4TF UNITED KINGDOM *S.I.*",
         null,
         "United Kingdom",
         "GBR",
         "Panama Papers",
         "The Panama Papers  data is current through 2015",
         null,
         "address",
         null,
         null,
         null,
         null,
         null,
         null,
         null,
         null,
         null,
         null,
         null,
         null,
         null,
         null,
         null
        ]
       ],
       "shape": {
        "columns": 54,
        "rows": 5
       }
      },
      "text/html": [
       "<div>\n",
       "<style scoped>\n",
       "    .dataframe tbody tr th:only-of-type {\n",
       "        vertical-align: middle;\n",
       "    }\n",
       "\n",
       "    .dataframe tbody tr th {\n",
       "        vertical-align: top;\n",
       "    }\n",
       "\n",
       "    .dataframe thead th {\n",
       "        text-align: right;\n",
       "    }\n",
       "</style>\n",
       "<table border=\"1\" class=\"dataframe\">\n",
       "  <thead>\n",
       "    <tr style=\"text-align: right;\">\n",
       "      <th></th>\n",
       "      <th>node_id_start</th>\n",
       "      <th>node_id_end</th>\n",
       "      <th>rel_type</th>\n",
       "      <th>link</th>\n",
       "      <th>status</th>\n",
       "      <th>start_date</th>\n",
       "      <th>end_date</th>\n",
       "      <th>sourceID</th>\n",
       "      <th>address_start</th>\n",
       "      <th>name_start</th>\n",
       "      <th>...</th>\n",
       "      <th>internal_id_end</th>\n",
       "      <th>incorporation_date_end</th>\n",
       "      <th>inactivation_date_end</th>\n",
       "      <th>struck_off_date_end</th>\n",
       "      <th>dorm_date_end</th>\n",
       "      <th>status_end</th>\n",
       "      <th>service_provider_end</th>\n",
       "      <th>ibcRUC_end</th>\n",
       "      <th>type_end</th>\n",
       "      <th>closed_date_end</th>\n",
       "    </tr>\n",
       "  </thead>\n",
       "  <tbody>\n",
       "    <tr>\n",
       "      <th>0</th>\n",
       "      <td>10002580</td>\n",
       "      <td>14106952</td>\n",
       "      <td>registered_address</td>\n",
       "      <td>registered address</td>\n",
       "      <td>NaN</td>\n",
       "      <td>NaN</td>\n",
       "      <td>NaN</td>\n",
       "      <td>Panama Papers</td>\n",
       "      <td>STEMBRIDGE TRUST (IRELAND) LIMITED 5 THE COURT...</td>\n",
       "      <td>FUSION TRADING LIMITED</td>\n",
       "      <td>...</td>\n",
       "      <td>NaN</td>\n",
       "      <td>NaN</td>\n",
       "      <td>NaN</td>\n",
       "      <td>NaN</td>\n",
       "      <td>NaN</td>\n",
       "      <td>NaN</td>\n",
       "      <td>NaN</td>\n",
       "      <td>NaN</td>\n",
       "      <td>NaN</td>\n",
       "      <td>NaN</td>\n",
       "    </tr>\n",
       "    <tr>\n",
       "      <th>1</th>\n",
       "      <td>10004460</td>\n",
       "      <td>14101133</td>\n",
       "      <td>registered_address</td>\n",
       "      <td>registered address</td>\n",
       "      <td>NaN</td>\n",
       "      <td>NaN</td>\n",
       "      <td>NaN</td>\n",
       "      <td>Panama Papers</td>\n",
       "      <td>MF CORPORATE (UK) LIMITED 520 S. 7TH STREET  S...</td>\n",
       "      <td>MF CORPORATE (UK) LIMITED</td>\n",
       "      <td>...</td>\n",
       "      <td>NaN</td>\n",
       "      <td>NaN</td>\n",
       "      <td>NaN</td>\n",
       "      <td>NaN</td>\n",
       "      <td>NaN</td>\n",
       "      <td>NaN</td>\n",
       "      <td>NaN</td>\n",
       "      <td>NaN</td>\n",
       "      <td>NaN</td>\n",
       "      <td>NaN</td>\n",
       "    </tr>\n",
       "    <tr>\n",
       "      <th>2</th>\n",
       "      <td>10023813</td>\n",
       "      <td>14105100</td>\n",
       "      <td>registered_address</td>\n",
       "      <td>registered address</td>\n",
       "      <td>NaN</td>\n",
       "      <td>NaN</td>\n",
       "      <td>NaN</td>\n",
       "      <td>Panama Papers</td>\n",
       "      <td>REIG INVESTMENTS LLP INVISION HOUSE WILBURY WA...</td>\n",
       "      <td>REIG INVESTMENTS LLP</td>\n",
       "      <td>...</td>\n",
       "      <td>NaN</td>\n",
       "      <td>NaN</td>\n",
       "      <td>NaN</td>\n",
       "      <td>NaN</td>\n",
       "      <td>NaN</td>\n",
       "      <td>NaN</td>\n",
       "      <td>NaN</td>\n",
       "      <td>NaN</td>\n",
       "      <td>NaN</td>\n",
       "      <td>NaN</td>\n",
       "    </tr>\n",
       "    <tr>\n",
       "      <th>3</th>\n",
       "      <td>10023840</td>\n",
       "      <td>14100712</td>\n",
       "      <td>registered_address</td>\n",
       "      <td>registered address</td>\n",
       "      <td>NaN</td>\n",
       "      <td>NaN</td>\n",
       "      <td>NaN</td>\n",
       "      <td>Panama Papers</td>\n",
       "      <td>MARCUSSI INTERNATIONAL LLP INVISION HOUSE WILB...</td>\n",
       "      <td>MARCUSSI INTERNATIONAL LLP</td>\n",
       "      <td>...</td>\n",
       "      <td>NaN</td>\n",
       "      <td>NaN</td>\n",
       "      <td>NaN</td>\n",
       "      <td>NaN</td>\n",
       "      <td>NaN</td>\n",
       "      <td>NaN</td>\n",
       "      <td>NaN</td>\n",
       "      <td>NaN</td>\n",
       "      <td>NaN</td>\n",
       "      <td>NaN</td>\n",
       "    </tr>\n",
       "    <tr>\n",
       "      <th>4</th>\n",
       "      <td>10010428</td>\n",
       "      <td>14093957</td>\n",
       "      <td>registered_address</td>\n",
       "      <td>registered address</td>\n",
       "      <td>NaN</td>\n",
       "      <td>NaN</td>\n",
       "      <td>NaN</td>\n",
       "      <td>Panama Papers</td>\n",
       "      <td>COLLYER BRISTOW LLP SOLICITORS 4 BEDFORD ROW L...</td>\n",
       "      <td>PULSAR HOLDINGS CORPORATION</td>\n",
       "      <td>...</td>\n",
       "      <td>NaN</td>\n",
       "      <td>NaN</td>\n",
       "      <td>NaN</td>\n",
       "      <td>NaN</td>\n",
       "      <td>NaN</td>\n",
       "      <td>NaN</td>\n",
       "      <td>NaN</td>\n",
       "      <td>NaN</td>\n",
       "      <td>NaN</td>\n",
       "      <td>NaN</td>\n",
       "    </tr>\n",
       "  </tbody>\n",
       "</table>\n",
       "<p>5 rows × 54 columns</p>\n",
       "</div>"
      ],
      "text/plain": [
       "   node_id_start  node_id_end            rel_type                link status  \\\n",
       "0       10002580     14106952  registered_address  registered address    NaN   \n",
       "1       10004460     14101133  registered_address  registered address    NaN   \n",
       "2       10023813     14105100  registered_address  registered address    NaN   \n",
       "3       10023840     14100712  registered_address  registered address    NaN   \n",
       "4       10010428     14093957  registered_address  registered address    NaN   \n",
       "\n",
       "  start_date end_date       sourceID  \\\n",
       "0        NaN      NaN  Panama Papers   \n",
       "1        NaN      NaN  Panama Papers   \n",
       "2        NaN      NaN  Panama Papers   \n",
       "3        NaN      NaN  Panama Papers   \n",
       "4        NaN      NaN  Panama Papers   \n",
       "\n",
       "                                       address_start  \\\n",
       "0  STEMBRIDGE TRUST (IRELAND) LIMITED 5 THE COURT...   \n",
       "1  MF CORPORATE (UK) LIMITED 520 S. 7TH STREET  S...   \n",
       "2  REIG INVESTMENTS LLP INVISION HOUSE WILBURY WA...   \n",
       "3  MARCUSSI INTERNATIONAL LLP INVISION HOUSE WILB...   \n",
       "4  COLLYER BRISTOW LLP SOLICITORS 4 BEDFORD ROW L...   \n",
       "\n",
       "                    name_start  ... internal_id_end incorporation_date_end  \\\n",
       "0       FUSION TRADING LIMITED  ...             NaN                    NaN   \n",
       "1    MF CORPORATE (UK) LIMITED  ...             NaN                    NaN   \n",
       "2         REIG INVESTMENTS LLP  ...             NaN                    NaN   \n",
       "3   MARCUSSI INTERNATIONAL LLP  ...             NaN                    NaN   \n",
       "4  PULSAR HOLDINGS CORPORATION  ...             NaN                    NaN   \n",
       "\n",
       "  inactivation_date_end struck_off_date_end dorm_date_end status_end  \\\n",
       "0                   NaN                 NaN           NaN        NaN   \n",
       "1                   NaN                 NaN           NaN        NaN   \n",
       "2                   NaN                 NaN           NaN        NaN   \n",
       "3                   NaN                 NaN           NaN        NaN   \n",
       "4                   NaN                 NaN           NaN        NaN   \n",
       "\n",
       "  service_provider_end ibcRUC_end type_end closed_date_end  \n",
       "0                  NaN        NaN      NaN             NaN  \n",
       "1                  NaN        NaN      NaN             NaN  \n",
       "2                  NaN        NaN      NaN             NaN  \n",
       "3                  NaN        NaN      NaN             NaN  \n",
       "4                  NaN        NaN      NaN             NaN  \n",
       "\n",
       "[5 rows x 54 columns]"
      ]
     },
     "execution_count": 7,
     "metadata": {},
     "output_type": "execute_result"
    },
    {
     "name": "stdout",
     "output_type": "stream",
     "text": [
      "Number of rows in merged relationships dataset:\n"
     ]
    },
    {
     "data": {
      "text/plain": [
       "3339267"
      ]
     },
     "execution_count": 7,
     "metadata": {},
     "output_type": "execute_result"
    }
   ],
   "source": [
    "rels.head()\n",
    "print(\"Number of rows in merged relationships dataset:\")\n",
    "len(rels)\n",
    "\n"
   ]
  },
  {
   "cell_type": "markdown",
   "id": "7224f0d0",
   "metadata": {},
   "source": [
    "### Saving Uncleaned Merged Dataset"
   ]
  },
  {
   "cell_type": "code",
   "execution_count": 8,
   "id": "41757e98",
   "metadata": {},
   "outputs": [],
   "source": [
    "rels.to_csv(\"rels.csv\", index=False)"
   ]
  },
  {
   "cell_type": "markdown",
   "id": "d157d564",
   "metadata": {},
   "source": [
    "### Creating Uncleaned Sample Dataset to experiment on"
   ]
  },
  {
   "cell_type": "code",
   "execution_count": 9,
   "id": "4d51b4b0",
   "metadata": {},
   "outputs": [],
   "source": [
    "rels_sample_dirty = rels.sample(n=300000, random_state=42)  # random_state for reproducibility\n",
    "\n",
    "# saving the \"dirty\" sample to a CSV file\n",
    "rels_sample_dirty.to_csv(\"rels_sample_dirty.csv\", index=False)"
   ]
  },
  {
   "cell_type": "markdown",
   "id": "b0498f0a",
   "metadata": {},
   "source": [
    "# Cleaning Merged Dataset"
   ]
  },
  {
   "cell_type": "code",
   "execution_count": 10,
   "id": "63439328",
   "metadata": {},
   "outputs": [],
   "source": [
    "# creating a copy of the merged dataset to be cleaned \n",
    "df = rels"
   ]
  },
  {
   "cell_type": "code",
   "execution_count": 11,
   "id": "b404233d",
   "metadata": {},
   "outputs": [
    {
     "name": "stdout",
     "output_type": "stream",
     "text": [
      "Standardized columns:\n",
      "['node_id_start', 'node_id_end', 'rel_type', 'link', 'status', 'start_date', 'end_date', 'sourceid', 'address_start', 'name_start', 'countries_start', 'country_codes_start', 'sourceid_start', 'valid_until_start', 'note_start', 'node_type_start', 'original_name_start', 'former_name_start', 'jurisdiction_start', 'jurisdiction_description_start', 'company_type_start', 'internal_id_start', 'incorporation_date_start', 'inactivation_date_start', 'struck_off_date_start', 'dorm_date_start', 'status_start', 'service_provider_start', 'ibcruc_start', 'type_start', 'closed_date_start', 'address_end', 'name_end', 'countries_end', 'country_codes_end', 'sourceid_end', 'valid_until_end', 'note_end', 'node_type_end', 'original_name_end', 'former_name_end', 'jurisdiction_end', 'jurisdiction_description_end', 'company_type_end', 'internal_id_end', 'incorporation_date_end', 'inactivation_date_end', 'struck_off_date_end', 'dorm_date_end', 'status_end', 'service_provider_end', 'ibcruc_end', 'type_end', 'closed_date_end']\n"
     ]
    }
   ],
   "source": [
    "# Standardize column names\n",
    "df.columns = (\n",
    "    df.columns\n",
    "      .str.strip()                       # Remove leading/trailing whitespace\n",
    "      .str.lower()                       # Lowercase\n",
    "      .str.replace(r'[^\\w\\s]', '', regex=True)  # Remove punctuation\n",
    "      .str.replace(r'\\s+', '_', regex=True)     # Replace spaces with underscores\n",
    ")\n",
    "\n",
    "# Display the standardized column names\n",
    "print(\"Standardized columns:\")\n",
    "print(df.columns.tolist())"
   ]
  },
  {
   "cell_type": "code",
   "execution_count": 12,
   "id": "63ebd595",
   "metadata": {},
   "outputs": [
    {
     "name": "stderr",
     "output_type": "stream",
     "text": [
      "/var/folders/5x/0sqjbpy13p3gzjlddpxqjtfw0000gn/T/ipykernel_15705/198421330.py:14: UserWarning: Could not infer format, so each element will be parsed individually, falling back to `dateutil`. To ensure parsing is consistent and as-expected, please specify a format.\n",
      "/var/folders/5x/0sqjbpy13p3gzjlddpxqjtfw0000gn/T/ipykernel_15705/198421330.py:14: UserWarning: Could not infer format, so each element will be parsed individually, falling back to `dateutil`. To ensure parsing is consistent and as-expected, please specify a format.\n",
      "/var/folders/5x/0sqjbpy13p3gzjlddpxqjtfw0000gn/T/ipykernel_15705/198421330.py:14: UserWarning: Could not infer format, so each element will be parsed individually, falling back to `dateutil`. To ensure parsing is consistent and as-expected, please specify a format.\n",
      "/var/folders/5x/0sqjbpy13p3gzjlddpxqjtfw0000gn/T/ipykernel_15705/198421330.py:14: UserWarning: Could not infer format, so each element will be parsed individually, falling back to `dateutil`. To ensure parsing is consistent and as-expected, please specify a format.\n"
     ]
    },
    {
     "name": "stdout",
     "output_type": "stream",
     "text": [
      "Data types after parsing dates:\n",
      "incorporation_date_start    datetime64[ns]\n",
      "incorporation_date_end      datetime64[ns]\n",
      "start_date                  datetime64[ns]\n",
      "end_date                    datetime64[ns]\n",
      "dtype: object\n"
     ]
    }
   ],
   "source": [
    "## converting date columns to datetime format  \n",
    "\n",
    "# Define a list of column names that are expected to contain date information.\n",
    "# These include incorporation dates for start/end nodes and start/end dates for relationships.\n",
    "date_cols = ['incorporation_date_start', 'incorporation_date_end', 'start_date', 'end_date']  \n",
    "\n",
    "# Iterate over each column name in the date_cols list.\n",
    "for col in date_cols:\n",
    "  # Check if the current column exists in the datasets's columns.\n",
    "  if col in df.columns:\n",
    "      # If the column exists, convert its data type to datetime.\n",
    "      # The `errors='coerce'` argument ensures that any values that cannot be converted\n",
    "      # to a datetime format will be replaced with NaT (Not a Time).\n",
    "      df[col] = pd.to_datetime(df[col], errors='coerce')\n",
    "\n",
    "\n",
    "# Columns that were successfully converted to datetime will show as 'datetime64[ns]',\n",
    "# while columns that could not be converted will show as 'object' or 'NaT'.\n",
    "print(\"Data types after parsing dates:\")\n",
    "print(df[date_cols].dtypes)\n"
   ]
  },
  {
   "cell_type": "code",
   "execution_count": 13,
   "id": "589c1d5a",
   "metadata": {},
   "outputs": [
    {
     "name": "stdout",
     "output_type": "stream",
     "text": [
      "Dropped 8177 duplicate rows.\n"
     ]
    }
   ],
   "source": [
    "# Store the initial number of rows in the data to count duplicates later.\n",
    "initial_count = len(df)\n",
    "\n",
    "# Remove duplicate rows from the data\n",
    "# The `inplace=True` argument modifies the dataset `df` directly, meaning it doesn't return a new dataframe but changes `df` itself.\n",
    "df.drop_duplicates(inplace=True)\n",
    "\n",
    "# Calculate and print the number of duplicate rows that were removed.\n",
    "# This is found by subtracting the current number of rows from the initial count.\n",
    "print(f\"Dropped {initial_count - len(df)} duplicate rows.\")\n"
   ]
  },
  {
   "cell_type": "code",
   "execution_count": 14,
   "id": "c69710a3",
   "metadata": {},
   "outputs": [],
   "source": [
    "# Select all columns that have are an 'object' data type, which typically includes text columns.\n",
    "text_cols = df.select_dtypes(include='object').columns.tolist()\n",
    "\n",
    "for col in text_cols:\n",
    "    # Collapse multiple spaces, strip, and convert to title case (or lowercase if preferred)\n",
    "    df[col] = (\n",
    "        df[col]\n",
    "        #.astype(str)\n",
    "        .str.replace(r'\\s+', ' ', regex=True)  # collapse multiple spaces\n",
    "        .str.strip()\n",
    "      # .str.title()                            # or .str.lower() depending on preference\n",
    "    )\n"
   ]
  },
  {
   "cell_type": "code",
   "execution_count": 15,
   "id": "0dd14519",
   "metadata": {},
   "outputs": [
    {
     "name": "stdout",
     "output_type": "stream",
     "text": [
      "Dropped empty columns: []\n"
     ]
    }
   ],
   "source": [
    "## Just in case: drop columns with 100% missing values \n",
    "\n",
    "# Identify columns where all values are missing (NaN)\n",
    "# df.isnull() creates a boolean dataframe of the same shape as df, with True where values are NaN\n",
    "# .all() checks if all values in each column are True (i.e., all are NaN)\n",
    "# df.columns[...] selects the names of these columns\n",
    "# .tolist() converts the column names to a list\n",
    "empty_cols = df.columns[df.isnull().all()].tolist()\n",
    "\n",
    "# Drop the identified empty columns from the dataframe \n",
    "# `inplace=True` modifies the dataframe directly\n",
    "df.drop(columns=empty_cols, inplace=True)\n",
    "\n",
    "# Print the names of the columns that were dropped (if there are any)\n",
    "print(f\"Dropped empty columns: {empty_cols}\")\n",
    "\n"
   ]
  },
  {
   "cell_type": "code",
   "execution_count": 16,
   "id": "66256104",
   "metadata": {},
   "outputs": [
    {
     "data": {
      "application/vnd.microsoft.datawrangler.viewer.v0+json": {
       "columns": [
        {
         "name": "index",
         "rawType": "int64",
         "type": "integer"
        },
        {
         "name": "node_id_start",
         "rawType": "int64",
         "type": "integer"
        },
        {
         "name": "node_id_end",
         "rawType": "int64",
         "type": "integer"
        },
        {
         "name": "rel_type",
         "rawType": "object",
         "type": "string"
        },
        {
         "name": "link",
         "rawType": "object",
         "type": "string"
        },
        {
         "name": "status",
         "rawType": "object",
         "type": "unknown"
        },
        {
         "name": "start_date",
         "rawType": "datetime64[ns]",
         "type": "datetime"
        },
        {
         "name": "end_date",
         "rawType": "datetime64[ns]",
         "type": "datetime"
        },
        {
         "name": "sourceid",
         "rawType": "object",
         "type": "string"
        },
        {
         "name": "address_start",
         "rawType": "object",
         "type": "string"
        },
        {
         "name": "name_start",
         "rawType": "object",
         "type": "string"
        },
        {
         "name": "countries_start",
         "rawType": "object",
         "type": "string"
        },
        {
         "name": "country_codes_start",
         "rawType": "object",
         "type": "string"
        },
        {
         "name": "sourceid_start",
         "rawType": "object",
         "type": "string"
        },
        {
         "name": "valid_until_start",
         "rawType": "object",
         "type": "string"
        },
        {
         "name": "note_start",
         "rawType": "object",
         "type": "unknown"
        },
        {
         "name": "node_type_start",
         "rawType": "object",
         "type": "string"
        },
        {
         "name": "original_name_start",
         "rawType": "object",
         "type": "string"
        },
        {
         "name": "former_name_start",
         "rawType": "object",
         "type": "unknown"
        },
        {
         "name": "jurisdiction_start",
         "rawType": "object",
         "type": "string"
        },
        {
         "name": "jurisdiction_description_start",
         "rawType": "object",
         "type": "string"
        },
        {
         "name": "company_type_start",
         "rawType": "object",
         "type": "unknown"
        },
        {
         "name": "internal_id_start",
         "rawType": "object",
         "type": "unknown"
        },
        {
         "name": "incorporation_date_start",
         "rawType": "datetime64[ns]",
         "type": "datetime"
        },
        {
         "name": "inactivation_date_start",
         "rawType": "object",
         "type": "unknown"
        },
        {
         "name": "struck_off_date_start",
         "rawType": "object",
         "type": "unknown"
        },
        {
         "name": "dorm_date_start",
         "rawType": "object",
         "type": "unknown"
        },
        {
         "name": "status_start",
         "rawType": "object",
         "type": "string"
        },
        {
         "name": "service_provider_start",
         "rawType": "object",
         "type": "string"
        },
        {
         "name": "ibcruc_start",
         "rawType": "object",
         "type": "unknown"
        },
        {
         "name": "type_start",
         "rawType": "object",
         "type": "unknown"
        },
        {
         "name": "closed_date_start",
         "rawType": "object",
         "type": "unknown"
        },
        {
         "name": "address_end",
         "rawType": "object",
         "type": "string"
        },
        {
         "name": "name_end",
         "rawType": "object",
         "type": "unknown"
        },
        {
         "name": "countries_end",
         "rawType": "object",
         "type": "string"
        },
        {
         "name": "country_codes_end",
         "rawType": "object",
         "type": "string"
        },
        {
         "name": "sourceid_end",
         "rawType": "object",
         "type": "string"
        },
        {
         "name": "valid_until_end",
         "rawType": "object",
         "type": "string"
        },
        {
         "name": "note_end",
         "rawType": "object",
         "type": "unknown"
        },
        {
         "name": "node_type_end",
         "rawType": "object",
         "type": "string"
        },
        {
         "name": "original_name_end",
         "rawType": "object",
         "type": "unknown"
        },
        {
         "name": "former_name_end",
         "rawType": "object",
         "type": "unknown"
        },
        {
         "name": "jurisdiction_end",
         "rawType": "object",
         "type": "unknown"
        },
        {
         "name": "jurisdiction_description_end",
         "rawType": "object",
         "type": "unknown"
        },
        {
         "name": "company_type_end",
         "rawType": "object",
         "type": "unknown"
        },
        {
         "name": "internal_id_end",
         "rawType": "object",
         "type": "unknown"
        },
        {
         "name": "incorporation_date_end",
         "rawType": "datetime64[ns]",
         "type": "datetime"
        },
        {
         "name": "inactivation_date_end",
         "rawType": "object",
         "type": "unknown"
        },
        {
         "name": "struck_off_date_end",
         "rawType": "object",
         "type": "unknown"
        },
        {
         "name": "dorm_date_end",
         "rawType": "object",
         "type": "unknown"
        },
        {
         "name": "status_end",
         "rawType": "object",
         "type": "unknown"
        },
        {
         "name": "service_provider_end",
         "rawType": "object",
         "type": "unknown"
        },
        {
         "name": "ibcruc_end",
         "rawType": "object",
         "type": "unknown"
        },
        {
         "name": "type_end",
         "rawType": "object",
         "type": "unknown"
        },
        {
         "name": "closed_date_end",
         "rawType": "object",
         "type": "unknown"
        }
       ],
       "ref": "8dbfc5ac-7569-4c71-8642-ac9b1c108176",
       "rows": [
        [
         "0",
         "10002580",
         "14106952",
         "registered_address",
         "registered address",
         null,
         null,
         null,
         "Panama Papers",
         "STEMBRIDGE TRUST (IRELAND) LIMITED 5 THE COURTYARD CARMANHALL ROAD SANDYFORD DUBLIN 18 IRELAND",
         "FUSION TRADING LIMITED",
         "Ireland",
         "IRL",
         "Panama Papers",
         "The Panama Papers data is current through 2015",
         null,
         "entity",
         "FUSION TRADING LIMITED",
         null,
         "SAM",
         "Samoa",
         null,
         null,
         "2006-12-27 00:00:00",
         "21-JUL-2010",
         "15-FEB-2011",
         null,
         "Defaulted",
         "Mossack Fonseca",
         "R29575",
         null,
         null,
         "STEMBRIDGE TRUST (IRELAND) LIMITED 5 THE COURTYARD CARMANHALL ROAD SANDYFORD DUBLIN 18 IRELAND",
         null,
         "Ireland",
         "IRL",
         "Panama Papers",
         "The Panama Papers data is current through 2015",
         null,
         "address",
         null,
         null,
         null,
         null,
         null,
         null,
         null,
         null,
         null,
         null,
         null,
         null,
         null,
         null,
         null
        ],
        [
         "1",
         "10004460",
         "14101133",
         "registered_address",
         "registered address",
         null,
         null,
         null,
         "Panama Papers",
         "MF CORPORATE (UK) LIMITED 520 S. 7TH STREET SUITE C LAS VEGAS, NV 89101 U. S. A.",
         "MF CORPORATE (UK) LIMITED",
         "United States",
         "USA",
         "Panama Papers",
         "The Panama Papers data is current through 2015",
         null,
         "entity",
         "MF CORPORATE (UK) LIMITED",
         null,
         "UK",
         "United Kingdom",
         null,
         null,
         "2005-07-29 00:00:00",
         "22-DEC-2011",
         "29-JUL-2006",
         null,
         "In transition",
         "Mossack Fonseca",
         null,
         null,
         null,
         "MF CORPORATE (UK) LIMITED 520 S. 7TH STREET SUITE C LAS VEGAS, NV 89101 U. S. A.",
         null,
         "United States",
         "USA",
         "Panama Papers",
         "The Panama Papers data is current through 2015",
         null,
         "address",
         null,
         null,
         null,
         null,
         null,
         null,
         null,
         null,
         null,
         null,
         null,
         null,
         null,
         null,
         null
        ],
        [
         "2",
         "10023813",
         "14105100",
         "registered_address",
         "registered address",
         null,
         null,
         null,
         "Panama Papers",
         "REIG INVESTMENTS LLP INVISION HOUSE WILBURY WAY HITCHIN HERTFORDSHIRE SG4 0XE UNITED KINGDOM",
         "REIG INVESTMENTS LLP",
         "United Kingdom",
         "GBR",
         "Panama Papers",
         "The Panama Papers data is current through 2015",
         null,
         "entity",
         "REIG INVESTMENTS LLP",
         null,
         "UK",
         "United Kingdom",
         null,
         null,
         "2009-11-24 00:00:00",
         "27-JUL-2012",
         "24-NOV-2010",
         null,
         "In transition",
         "Mossack Fonseca",
         "OC256795",
         null,
         null,
         "REIG INVESTMENTS LLP INVISION HOUSE WILBURY WAY HITCHIN HERTFORDSHIRE SG4 0XE UNITED KINGDOM",
         null,
         "United Kingdom",
         "GBR",
         "Panama Papers",
         "The Panama Papers data is current through 2015",
         null,
         "address",
         null,
         null,
         null,
         null,
         null,
         null,
         null,
         null,
         null,
         null,
         null,
         null,
         null,
         null,
         null
        ],
        [
         "3",
         "10023840",
         "14100712",
         "registered_address",
         "registered address",
         null,
         null,
         null,
         "Panama Papers",
         "MARCUSSI INTERNATIONAL LLP INVISION HOUSE WILBURY WAY HITCHIN HERTFORDSHIRE SG4 0XE UNITED KINGDOM",
         "MARCUSSI INTERNATIONAL LLP",
         "United Kingdom",
         "GBR",
         "Panama Papers",
         "The Panama Papers data is current through 2015",
         null,
         "entity",
         "MARCUSSI INTERNATIONAL LLP",
         null,
         "UK",
         "United Kingdom",
         null,
         null,
         "2013-09-25 00:00:00",
         null,
         null,
         null,
         "Active",
         "Mossack Fonseca",
         "OC388103",
         null,
         null,
         "MARCUSSI INTERNATIONAL LLP INVISION HOUSE WILBURY WAY HITCHIN HERTFORDSHIRE SG4 0XE UNITED KINGDOM",
         null,
         "United Kingdom",
         "GBR",
         "Panama Papers",
         "The Panama Papers data is current through 2015",
         null,
         "address",
         null,
         null,
         null,
         null,
         null,
         null,
         null,
         null,
         null,
         null,
         null,
         null,
         null,
         null,
         null
        ],
        [
         "4",
         "10010428",
         "14093957",
         "registered_address",
         "registered address",
         null,
         null,
         null,
         "Panama Papers",
         "COLLYER BRISTOW LLP SOLICITORS 4 BEDFORD ROW LONDON WC1R 4TF UNITED KINGDOM *S.I.*",
         "PULSAR HOLDINGS CORPORATION",
         "United Kingdom",
         "GBR",
         "Panama Papers",
         "The Panama Papers data is current through 2015",
         null,
         "entity",
         "PULSAR HOLDINGS CORPORATION",
         null,
         "PMA",
         "Panama",
         null,
         null,
         "1990-09-13 00:00:00",
         "10-OCT-1991",
         "13-DEC-1991",
         null,
         "Defaulted",
         "Mossack Fonseca",
         null,
         null,
         null,
         "COLLYER BRISTOW LLP SOLICITORS 4 BEDFORD ROW LONDON WC1R 4TF UNITED KINGDOM *S.I.*",
         null,
         "United Kingdom",
         "GBR",
         "Panama Papers",
         "The Panama Papers data is current through 2015",
         null,
         "address",
         null,
         null,
         null,
         null,
         null,
         null,
         null,
         null,
         null,
         null,
         null,
         null,
         null,
         null,
         null
        ]
       ],
       "shape": {
        "columns": 54,
        "rows": 5
       }
      },
      "text/html": [
       "<div>\n",
       "<style scoped>\n",
       "    .dataframe tbody tr th:only-of-type {\n",
       "        vertical-align: middle;\n",
       "    }\n",
       "\n",
       "    .dataframe tbody tr th {\n",
       "        vertical-align: top;\n",
       "    }\n",
       "\n",
       "    .dataframe thead th {\n",
       "        text-align: right;\n",
       "    }\n",
       "</style>\n",
       "<table border=\"1\" class=\"dataframe\">\n",
       "  <thead>\n",
       "    <tr style=\"text-align: right;\">\n",
       "      <th></th>\n",
       "      <th>node_id_start</th>\n",
       "      <th>node_id_end</th>\n",
       "      <th>rel_type</th>\n",
       "      <th>link</th>\n",
       "      <th>status</th>\n",
       "      <th>start_date</th>\n",
       "      <th>end_date</th>\n",
       "      <th>sourceid</th>\n",
       "      <th>address_start</th>\n",
       "      <th>name_start</th>\n",
       "      <th>...</th>\n",
       "      <th>internal_id_end</th>\n",
       "      <th>incorporation_date_end</th>\n",
       "      <th>inactivation_date_end</th>\n",
       "      <th>struck_off_date_end</th>\n",
       "      <th>dorm_date_end</th>\n",
       "      <th>status_end</th>\n",
       "      <th>service_provider_end</th>\n",
       "      <th>ibcruc_end</th>\n",
       "      <th>type_end</th>\n",
       "      <th>closed_date_end</th>\n",
       "    </tr>\n",
       "  </thead>\n",
       "  <tbody>\n",
       "    <tr>\n",
       "      <th>0</th>\n",
       "      <td>10002580</td>\n",
       "      <td>14106952</td>\n",
       "      <td>registered_address</td>\n",
       "      <td>registered address</td>\n",
       "      <td>NaN</td>\n",
       "      <td>NaT</td>\n",
       "      <td>NaT</td>\n",
       "      <td>Panama Papers</td>\n",
       "      <td>STEMBRIDGE TRUST (IRELAND) LIMITED 5 THE COURT...</td>\n",
       "      <td>FUSION TRADING LIMITED</td>\n",
       "      <td>...</td>\n",
       "      <td>NaN</td>\n",
       "      <td>NaT</td>\n",
       "      <td>NaN</td>\n",
       "      <td>NaN</td>\n",
       "      <td>NaN</td>\n",
       "      <td>NaN</td>\n",
       "      <td>NaN</td>\n",
       "      <td>NaN</td>\n",
       "      <td>NaN</td>\n",
       "      <td>NaN</td>\n",
       "    </tr>\n",
       "    <tr>\n",
       "      <th>1</th>\n",
       "      <td>10004460</td>\n",
       "      <td>14101133</td>\n",
       "      <td>registered_address</td>\n",
       "      <td>registered address</td>\n",
       "      <td>NaN</td>\n",
       "      <td>NaT</td>\n",
       "      <td>NaT</td>\n",
       "      <td>Panama Papers</td>\n",
       "      <td>MF CORPORATE (UK) LIMITED 520 S. 7TH STREET SU...</td>\n",
       "      <td>MF CORPORATE (UK) LIMITED</td>\n",
       "      <td>...</td>\n",
       "      <td>NaN</td>\n",
       "      <td>NaT</td>\n",
       "      <td>NaN</td>\n",
       "      <td>NaN</td>\n",
       "      <td>NaN</td>\n",
       "      <td>NaN</td>\n",
       "      <td>NaN</td>\n",
       "      <td>NaN</td>\n",
       "      <td>NaN</td>\n",
       "      <td>NaN</td>\n",
       "    </tr>\n",
       "    <tr>\n",
       "      <th>2</th>\n",
       "      <td>10023813</td>\n",
       "      <td>14105100</td>\n",
       "      <td>registered_address</td>\n",
       "      <td>registered address</td>\n",
       "      <td>NaN</td>\n",
       "      <td>NaT</td>\n",
       "      <td>NaT</td>\n",
       "      <td>Panama Papers</td>\n",
       "      <td>REIG INVESTMENTS LLP INVISION HOUSE WILBURY WA...</td>\n",
       "      <td>REIG INVESTMENTS LLP</td>\n",
       "      <td>...</td>\n",
       "      <td>NaN</td>\n",
       "      <td>NaT</td>\n",
       "      <td>NaN</td>\n",
       "      <td>NaN</td>\n",
       "      <td>NaN</td>\n",
       "      <td>NaN</td>\n",
       "      <td>NaN</td>\n",
       "      <td>NaN</td>\n",
       "      <td>NaN</td>\n",
       "      <td>NaN</td>\n",
       "    </tr>\n",
       "    <tr>\n",
       "      <th>3</th>\n",
       "      <td>10023840</td>\n",
       "      <td>14100712</td>\n",
       "      <td>registered_address</td>\n",
       "      <td>registered address</td>\n",
       "      <td>NaN</td>\n",
       "      <td>NaT</td>\n",
       "      <td>NaT</td>\n",
       "      <td>Panama Papers</td>\n",
       "      <td>MARCUSSI INTERNATIONAL LLP INVISION HOUSE WILB...</td>\n",
       "      <td>MARCUSSI INTERNATIONAL LLP</td>\n",
       "      <td>...</td>\n",
       "      <td>NaN</td>\n",
       "      <td>NaT</td>\n",
       "      <td>NaN</td>\n",
       "      <td>NaN</td>\n",
       "      <td>NaN</td>\n",
       "      <td>NaN</td>\n",
       "      <td>NaN</td>\n",
       "      <td>NaN</td>\n",
       "      <td>NaN</td>\n",
       "      <td>NaN</td>\n",
       "    </tr>\n",
       "    <tr>\n",
       "      <th>4</th>\n",
       "      <td>10010428</td>\n",
       "      <td>14093957</td>\n",
       "      <td>registered_address</td>\n",
       "      <td>registered address</td>\n",
       "      <td>NaN</td>\n",
       "      <td>NaT</td>\n",
       "      <td>NaT</td>\n",
       "      <td>Panama Papers</td>\n",
       "      <td>COLLYER BRISTOW LLP SOLICITORS 4 BEDFORD ROW L...</td>\n",
       "      <td>PULSAR HOLDINGS CORPORATION</td>\n",
       "      <td>...</td>\n",
       "      <td>NaN</td>\n",
       "      <td>NaT</td>\n",
       "      <td>NaN</td>\n",
       "      <td>NaN</td>\n",
       "      <td>NaN</td>\n",
       "      <td>NaN</td>\n",
       "      <td>NaN</td>\n",
       "      <td>NaN</td>\n",
       "      <td>NaN</td>\n",
       "      <td>NaN</td>\n",
       "    </tr>\n",
       "  </tbody>\n",
       "</table>\n",
       "<p>5 rows × 54 columns</p>\n",
       "</div>"
      ],
      "text/plain": [
       "   node_id_start  node_id_end            rel_type                link status  \\\n",
       "0       10002580     14106952  registered_address  registered address    NaN   \n",
       "1       10004460     14101133  registered_address  registered address    NaN   \n",
       "2       10023813     14105100  registered_address  registered address    NaN   \n",
       "3       10023840     14100712  registered_address  registered address    NaN   \n",
       "4       10010428     14093957  registered_address  registered address    NaN   \n",
       "\n",
       "  start_date end_date       sourceid  \\\n",
       "0        NaT      NaT  Panama Papers   \n",
       "1        NaT      NaT  Panama Papers   \n",
       "2        NaT      NaT  Panama Papers   \n",
       "3        NaT      NaT  Panama Papers   \n",
       "4        NaT      NaT  Panama Papers   \n",
       "\n",
       "                                       address_start  \\\n",
       "0  STEMBRIDGE TRUST (IRELAND) LIMITED 5 THE COURT...   \n",
       "1  MF CORPORATE (UK) LIMITED 520 S. 7TH STREET SU...   \n",
       "2  REIG INVESTMENTS LLP INVISION HOUSE WILBURY WA...   \n",
       "3  MARCUSSI INTERNATIONAL LLP INVISION HOUSE WILB...   \n",
       "4  COLLYER BRISTOW LLP SOLICITORS 4 BEDFORD ROW L...   \n",
       "\n",
       "                    name_start  ... internal_id_end incorporation_date_end  \\\n",
       "0       FUSION TRADING LIMITED  ...             NaN                    NaT   \n",
       "1    MF CORPORATE (UK) LIMITED  ...             NaN                    NaT   \n",
       "2         REIG INVESTMENTS LLP  ...             NaN                    NaT   \n",
       "3   MARCUSSI INTERNATIONAL LLP  ...             NaN                    NaT   \n",
       "4  PULSAR HOLDINGS CORPORATION  ...             NaN                    NaT   \n",
       "\n",
       "  inactivation_date_end struck_off_date_end dorm_date_end status_end  \\\n",
       "0                   NaN                 NaN           NaN        NaN   \n",
       "1                   NaN                 NaN           NaN        NaN   \n",
       "2                   NaN                 NaN           NaN        NaN   \n",
       "3                   NaN                 NaN           NaN        NaN   \n",
       "4                   NaN                 NaN           NaN        NaN   \n",
       "\n",
       "  service_provider_end ibcruc_end type_end closed_date_end  \n",
       "0                  NaN        NaN      NaN             NaN  \n",
       "1                  NaN        NaN      NaN             NaN  \n",
       "2                  NaN        NaN      NaN             NaN  \n",
       "3                  NaN        NaN      NaN             NaN  \n",
       "4                  NaN        NaN      NaN             NaN  \n",
       "\n",
       "[5 rows x 54 columns]"
      ]
     },
     "execution_count": 16,
     "metadata": {},
     "output_type": "execute_result"
    }
   ],
   "source": [
    "df.head()"
   ]
  },
  {
   "cell_type": "markdown",
   "id": "7a4e6540",
   "metadata": {},
   "source": [
    "# Saving the full merged and cleaned dataset"
   ]
  },
  {
   "cell_type": "code",
   "execution_count": 17,
   "id": "07dc3422",
   "metadata": {},
   "outputs": [],
   "source": [
    "## Code to save data set\n",
    "df.to_csv(\"ICIJ_Merged.csv\", index=False)"
   ]
  },
  {
   "cell_type": "markdown",
   "id": "05d91b8e",
   "metadata": {},
   "source": [
    "### Saving new sample dataset after merged dataset has been cleaned"
   ]
  },
  {
   "cell_type": "code",
   "execution_count": 18,
   "id": "0c195016",
   "metadata": {},
   "outputs": [],
   "source": [
    "rels_sample2 = df.sample(n=300000, random_state=42)  # random_state for reproducibility\n",
    "\n",
    "rels_sample2.to_csv(\"rels_sample2.csv\", index=False)"
   ]
  }
 ],
 "metadata": {
  "kernelspec": {
   "display_name": "myenv",
   "language": "python",
   "name": "myenv"
  },
  "language_info": {
   "codemirror_mode": {
    "name": "ipython",
    "version": 3
   },
   "file_extension": ".py",
   "mimetype": "text/x-python",
   "name": "python",
   "nbconvert_exporter": "python",
   "pygments_lexer": "ipython3",
   "version": "3.12.2"
  }
 },
 "nbformat": 4,
 "nbformat_minor": 5
}
