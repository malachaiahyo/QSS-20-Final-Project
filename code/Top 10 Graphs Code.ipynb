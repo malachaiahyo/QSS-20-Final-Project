{
 "cells": [
  {
   "cell_type": "code",
   "execution_count": 2,
   "id": "7491ca7f",
   "metadata": {},
   "outputs": [],
   "source": [
    "## helpful packages\n",
    "import pandas as pd\n",
    "import numpy as np\n",
    "import random\n",
    "import re\n",
    "import string\n",
    "import requests\n",
    "import plotnine \n",
    "from plotnine import *\n",
    "import matplotlib.pyplot as plt\n",
    "import yaml\n",
    "#import warnings\n",
    "#warnings.filterwarnings(\"ignore\")\n",
    "\n",
    "## sklearn imports\n",
    "from sklearn.linear_model import LogisticRegression, LogisticRegressionCV\n",
    "from sklearn.metrics import accuracy_score, f1_score, precision_score, recall_score\n",
    "from sklearn.tree import DecisionTreeClassifier\n",
    "from sklearn import tree\n",
    "from sklearn.ensemble import RandomForestClassifier, GradientBoostingClassifier, AdaBoostClassifier\n",
    "from sklearn import preprocessing\n",
    "from sklearn.preprocessing import StandardScaler\n",
    "\n",
    "## print mult things\n",
    "from IPython.core.interactiveshell import InteractiveShell\n",
    "InteractiveShell.ast_node_interactivity = \"all\"\n",
    "\n"
   ]
  },
  {
   "cell_type": "code",
   "execution_count": 3,
   "id": "57dfd04f",
   "metadata": {},
   "outputs": [
    {
     "name": "stderr",
     "output_type": "stream",
     "text": [
      "/var/folders/5x/0sqjbpy13p3gzjlddpxqjtfw0000gn/T/ipykernel_35058/2247697261.py:2: DtypeWarning: Columns (2,3,6,7,10,11,12,13,14,15,16,17,20) have mixed types. Specify dtype option on import or set low_memory=False.\n",
      "/var/folders/5x/0sqjbpy13p3gzjlddpxqjtfw0000gn/T/ipykernel_35058/2247697261.py:5: DtypeWarning: Columns (4,5,6,7) have mixed types. Specify dtype option on import or set low_memory=False.\n"
     ]
    }
   ],
   "source": [
    "\n",
    "addresses_df = pd.read_csv('nodes-addresses.csv')\n",
    "entities_df = pd.read_csv('nodes-entities.csv')\n",
    "intermediaries_df = pd.read_csv('nodes-intermediaries.csv') \n",
    "officers_df = pd.read_csv('nodes-officers.csv')\n",
    "relationships_df = pd.read_csv('relationships.csv')\n",
    "others_df = pd.read_csv('nodes-others.csv')"
   ]
  },
  {
   "cell_type": "code",
   "execution_count": 4,
   "id": "4b53b1a4",
   "metadata": {},
   "outputs": [
    {
     "name": "stderr",
     "output_type": "stream",
     "text": [
      "/var/folders/5x/0sqjbpy13p3gzjlddpxqjtfw0000gn/T/ipykernel_35058/1195876193.py:1: DtypeWarning: Columns (4,5,6,7,8,10,11,14,16,17,18,19,20,21,22,23,24,25,26,27,28,29,30,31,32,33,34,37,39,40,41,42,43,45,46,47,48,49,50,51,52,53) have mixed types. Specify dtype option on import or set low_memory=False.\n"
     ]
    }
   ],
   "source": [
    "merged_df = pd.read_csv('ICIJ_Merged.csv')"
   ]
  },
  {
   "cell_type": "code",
   "execution_count": 5,
   "id": "e1a9b552",
   "metadata": {},
   "outputs": [
    {
     "data": {
      "application/vnd.microsoft.datawrangler.viewer.v0+json": {
       "columns": [
        {
         "name": "index",
         "rawType": "int64",
         "type": "integer"
        },
        {
         "name": "node_id_start",
         "rawType": "int64",
         "type": "integer"
        },
        {
         "name": "node_id_end",
         "rawType": "int64",
         "type": "integer"
        },
        {
         "name": "rel_type",
         "rawType": "object",
         "type": "string"
        },
        {
         "name": "link",
         "rawType": "object",
         "type": "string"
        },
        {
         "name": "status",
         "rawType": "object",
         "type": "unknown"
        },
        {
         "name": "start_date",
         "rawType": "object",
         "type": "unknown"
        },
        {
         "name": "end_date",
         "rawType": "object",
         "type": "unknown"
        },
        {
         "name": "sourceid",
         "rawType": "object",
         "type": "string"
        },
        {
         "name": "address_start",
         "rawType": "object",
         "type": "string"
        },
        {
         "name": "name_start",
         "rawType": "object",
         "type": "string"
        },
        {
         "name": "countries_start",
         "rawType": "object",
         "type": "string"
        },
        {
         "name": "country_codes_start",
         "rawType": "object",
         "type": "string"
        },
        {
         "name": "sourceid_start",
         "rawType": "object",
         "type": "string"
        },
        {
         "name": "valid_until_start",
         "rawType": "object",
         "type": "string"
        },
        {
         "name": "note_start",
         "rawType": "object",
         "type": "unknown"
        },
        {
         "name": "node_type_start",
         "rawType": "object",
         "type": "string"
        },
        {
         "name": "original_name_start",
         "rawType": "object",
         "type": "string"
        },
        {
         "name": "former_name_start",
         "rawType": "object",
         "type": "unknown"
        },
        {
         "name": "jurisdiction_start",
         "rawType": "object",
         "type": "string"
        },
        {
         "name": "jurisdiction_description_start",
         "rawType": "object",
         "type": "string"
        },
        {
         "name": "company_type_start",
         "rawType": "object",
         "type": "unknown"
        },
        {
         "name": "internal_id_start",
         "rawType": "object",
         "type": "unknown"
        },
        {
         "name": "incorporation_date_start",
         "rawType": "object",
         "type": "string"
        },
        {
         "name": "inactivation_date_start",
         "rawType": "object",
         "type": "unknown"
        },
        {
         "name": "struck_off_date_start",
         "rawType": "object",
         "type": "unknown"
        },
        {
         "name": "dorm_date_start",
         "rawType": "object",
         "type": "unknown"
        },
        {
         "name": "status_start",
         "rawType": "object",
         "type": "string"
        },
        {
         "name": "service_provider_start",
         "rawType": "object",
         "type": "string"
        },
        {
         "name": "ibcruc_start",
         "rawType": "object",
         "type": "unknown"
        },
        {
         "name": "type_start",
         "rawType": "object",
         "type": "unknown"
        },
        {
         "name": "closed_date_start",
         "rawType": "object",
         "type": "unknown"
        },
        {
         "name": "address_end",
         "rawType": "object",
         "type": "string"
        },
        {
         "name": "name_end",
         "rawType": "object",
         "type": "unknown"
        },
        {
         "name": "countries_end",
         "rawType": "object",
         "type": "string"
        },
        {
         "name": "country_codes_end",
         "rawType": "object",
         "type": "string"
        },
        {
         "name": "sourceid_end",
         "rawType": "object",
         "type": "string"
        },
        {
         "name": "valid_until_end",
         "rawType": "object",
         "type": "string"
        },
        {
         "name": "note_end",
         "rawType": "object",
         "type": "unknown"
        },
        {
         "name": "node_type_end",
         "rawType": "object",
         "type": "string"
        },
        {
         "name": "original_name_end",
         "rawType": "object",
         "type": "unknown"
        },
        {
         "name": "former_name_end",
         "rawType": "object",
         "type": "unknown"
        },
        {
         "name": "jurisdiction_end",
         "rawType": "object",
         "type": "unknown"
        },
        {
         "name": "jurisdiction_description_end",
         "rawType": "object",
         "type": "unknown"
        },
        {
         "name": "company_type_end",
         "rawType": "object",
         "type": "unknown"
        },
        {
         "name": "internal_id_end",
         "rawType": "float64",
         "type": "float"
        },
        {
         "name": "incorporation_date_end",
         "rawType": "object",
         "type": "unknown"
        },
        {
         "name": "inactivation_date_end",
         "rawType": "object",
         "type": "unknown"
        },
        {
         "name": "struck_off_date_end",
         "rawType": "object",
         "type": "unknown"
        },
        {
         "name": "dorm_date_end",
         "rawType": "object",
         "type": "unknown"
        },
        {
         "name": "status_end",
         "rawType": "object",
         "type": "unknown"
        },
        {
         "name": "service_provider_end",
         "rawType": "object",
         "type": "unknown"
        },
        {
         "name": "ibcruc_end",
         "rawType": "object",
         "type": "unknown"
        },
        {
         "name": "type_end",
         "rawType": "object",
         "type": "unknown"
        },
        {
         "name": "closed_date_end",
         "rawType": "object",
         "type": "unknown"
        }
       ],
       "ref": "20b756bc-24f6-4f6b-a2ad-640beedb4917",
       "rows": [
        [
         "0",
         "10002580",
         "14106952",
         "registered_address",
         "registered address",
         null,
         null,
         null,
         "Panama Papers",
         "STEMBRIDGE TRUST (IRELAND) LIMITED 5 THE COURTYARD CARMANHALL ROAD SANDYFORD DUBLIN 18 IRELAND",
         "FUSION TRADING LIMITED",
         "Ireland",
         "IRL",
         "Panama Papers",
         "The Panama Papers data is current through 2015",
         null,
         "entity",
         "FUSION TRADING LIMITED",
         null,
         "SAM",
         "Samoa",
         null,
         null,
         "2006-12-27",
         "21-JUL-2010",
         "15-FEB-2011",
         null,
         "Defaulted",
         "Mossack Fonseca",
         "R29575",
         null,
         null,
         "STEMBRIDGE TRUST (IRELAND) LIMITED 5 THE COURTYARD CARMANHALL ROAD SANDYFORD DUBLIN 18 IRELAND",
         null,
         "Ireland",
         "IRL",
         "Panama Papers",
         "The Panama Papers data is current through 2015",
         null,
         "address",
         null,
         null,
         null,
         null,
         null,
         null,
         null,
         null,
         null,
         null,
         null,
         null,
         null,
         null,
         null
        ],
        [
         "1",
         "10004460",
         "14101133",
         "registered_address",
         "registered address",
         null,
         null,
         null,
         "Panama Papers",
         "MF CORPORATE (UK) LIMITED 520 S. 7TH STREET SUITE C LAS VEGAS, NV 89101 U. S. A.",
         "MF CORPORATE (UK) LIMITED",
         "United States",
         "USA",
         "Panama Papers",
         "The Panama Papers data is current through 2015",
         null,
         "entity",
         "MF CORPORATE (UK) LIMITED",
         null,
         "UK",
         "United Kingdom",
         null,
         null,
         "2005-07-29",
         "22-DEC-2011",
         "29-JUL-2006",
         null,
         "In transition",
         "Mossack Fonseca",
         null,
         null,
         null,
         "MF CORPORATE (UK) LIMITED 520 S. 7TH STREET SUITE C LAS VEGAS, NV 89101 U. S. A.",
         null,
         "United States",
         "USA",
         "Panama Papers",
         "The Panama Papers data is current through 2015",
         null,
         "address",
         null,
         null,
         null,
         null,
         null,
         null,
         null,
         null,
         null,
         null,
         null,
         null,
         null,
         null,
         null
        ],
        [
         "2",
         "10023813",
         "14105100",
         "registered_address",
         "registered address",
         null,
         null,
         null,
         "Panama Papers",
         "REIG INVESTMENTS LLP INVISION HOUSE WILBURY WAY HITCHIN HERTFORDSHIRE SG4 0XE UNITED KINGDOM",
         "REIG INVESTMENTS LLP",
         "United Kingdom",
         "GBR",
         "Panama Papers",
         "The Panama Papers data is current through 2015",
         null,
         "entity",
         "REIG INVESTMENTS LLP",
         null,
         "UK",
         "United Kingdom",
         null,
         null,
         "2009-11-24",
         "27-JUL-2012",
         "24-NOV-2010",
         null,
         "In transition",
         "Mossack Fonseca",
         "OC256795",
         null,
         null,
         "REIG INVESTMENTS LLP INVISION HOUSE WILBURY WAY HITCHIN HERTFORDSHIRE SG4 0XE UNITED KINGDOM",
         null,
         "United Kingdom",
         "GBR",
         "Panama Papers",
         "The Panama Papers data is current through 2015",
         null,
         "address",
         null,
         null,
         null,
         null,
         null,
         null,
         null,
         null,
         null,
         null,
         null,
         null,
         null,
         null,
         null
        ],
        [
         "3",
         "10023840",
         "14100712",
         "registered_address",
         "registered address",
         null,
         null,
         null,
         "Panama Papers",
         "MARCUSSI INTERNATIONAL LLP INVISION HOUSE WILBURY WAY HITCHIN HERTFORDSHIRE SG4 0XE UNITED KINGDOM",
         "MARCUSSI INTERNATIONAL LLP",
         "United Kingdom",
         "GBR",
         "Panama Papers",
         "The Panama Papers data is current through 2015",
         null,
         "entity",
         "MARCUSSI INTERNATIONAL LLP",
         null,
         "UK",
         "United Kingdom",
         null,
         null,
         "2013-09-25",
         null,
         null,
         null,
         "Active",
         "Mossack Fonseca",
         "OC388103",
         null,
         null,
         "MARCUSSI INTERNATIONAL LLP INVISION HOUSE WILBURY WAY HITCHIN HERTFORDSHIRE SG4 0XE UNITED KINGDOM",
         null,
         "United Kingdom",
         "GBR",
         "Panama Papers",
         "The Panama Papers data is current through 2015",
         null,
         "address",
         null,
         null,
         null,
         null,
         null,
         null,
         null,
         null,
         null,
         null,
         null,
         null,
         null,
         null,
         null
        ],
        [
         "4",
         "10010428",
         "14093957",
         "registered_address",
         "registered address",
         null,
         null,
         null,
         "Panama Papers",
         "COLLYER BRISTOW LLP SOLICITORS 4 BEDFORD ROW LONDON WC1R 4TF UNITED KINGDOM *S.I.*",
         "PULSAR HOLDINGS CORPORATION",
         "United Kingdom",
         "GBR",
         "Panama Papers",
         "The Panama Papers data is current through 2015",
         null,
         "entity",
         "PULSAR HOLDINGS CORPORATION",
         null,
         "PMA",
         "Panama",
         null,
         null,
         "1990-09-13",
         "10-OCT-1991",
         "13-DEC-1991",
         null,
         "Defaulted",
         "Mossack Fonseca",
         null,
         null,
         null,
         "COLLYER BRISTOW LLP SOLICITORS 4 BEDFORD ROW LONDON WC1R 4TF UNITED KINGDOM *S.I.*",
         null,
         "United Kingdom",
         "GBR",
         "Panama Papers",
         "The Panama Papers data is current through 2015",
         null,
         "address",
         null,
         null,
         null,
         null,
         null,
         null,
         null,
         null,
         null,
         null,
         null,
         null,
         null,
         null,
         null
        ]
       ],
       "shape": {
        "columns": 54,
        "rows": 5
       }
      },
      "text/html": [
       "<div>\n",
       "<style scoped>\n",
       "    .dataframe tbody tr th:only-of-type {\n",
       "        vertical-align: middle;\n",
       "    }\n",
       "\n",
       "    .dataframe tbody tr th {\n",
       "        vertical-align: top;\n",
       "    }\n",
       "\n",
       "    .dataframe thead th {\n",
       "        text-align: right;\n",
       "    }\n",
       "</style>\n",
       "<table border=\"1\" class=\"dataframe\">\n",
       "  <thead>\n",
       "    <tr style=\"text-align: right;\">\n",
       "      <th></th>\n",
       "      <th>node_id_start</th>\n",
       "      <th>node_id_end</th>\n",
       "      <th>rel_type</th>\n",
       "      <th>link</th>\n",
       "      <th>status</th>\n",
       "      <th>start_date</th>\n",
       "      <th>end_date</th>\n",
       "      <th>sourceid</th>\n",
       "      <th>address_start</th>\n",
       "      <th>name_start</th>\n",
       "      <th>...</th>\n",
       "      <th>internal_id_end</th>\n",
       "      <th>incorporation_date_end</th>\n",
       "      <th>inactivation_date_end</th>\n",
       "      <th>struck_off_date_end</th>\n",
       "      <th>dorm_date_end</th>\n",
       "      <th>status_end</th>\n",
       "      <th>service_provider_end</th>\n",
       "      <th>ibcruc_end</th>\n",
       "      <th>type_end</th>\n",
       "      <th>closed_date_end</th>\n",
       "    </tr>\n",
       "  </thead>\n",
       "  <tbody>\n",
       "    <tr>\n",
       "      <th>0</th>\n",
       "      <td>10002580</td>\n",
       "      <td>14106952</td>\n",
       "      <td>registered_address</td>\n",
       "      <td>registered address</td>\n",
       "      <td>NaN</td>\n",
       "      <td>NaN</td>\n",
       "      <td>NaN</td>\n",
       "      <td>Panama Papers</td>\n",
       "      <td>STEMBRIDGE TRUST (IRELAND) LIMITED 5 THE COURT...</td>\n",
       "      <td>FUSION TRADING LIMITED</td>\n",
       "      <td>...</td>\n",
       "      <td>NaN</td>\n",
       "      <td>NaN</td>\n",
       "      <td>NaN</td>\n",
       "      <td>NaN</td>\n",
       "      <td>NaN</td>\n",
       "      <td>NaN</td>\n",
       "      <td>NaN</td>\n",
       "      <td>NaN</td>\n",
       "      <td>NaN</td>\n",
       "      <td>NaN</td>\n",
       "    </tr>\n",
       "    <tr>\n",
       "      <th>1</th>\n",
       "      <td>10004460</td>\n",
       "      <td>14101133</td>\n",
       "      <td>registered_address</td>\n",
       "      <td>registered address</td>\n",
       "      <td>NaN</td>\n",
       "      <td>NaN</td>\n",
       "      <td>NaN</td>\n",
       "      <td>Panama Papers</td>\n",
       "      <td>MF CORPORATE (UK) LIMITED 520 S. 7TH STREET SU...</td>\n",
       "      <td>MF CORPORATE (UK) LIMITED</td>\n",
       "      <td>...</td>\n",
       "      <td>NaN</td>\n",
       "      <td>NaN</td>\n",
       "      <td>NaN</td>\n",
       "      <td>NaN</td>\n",
       "      <td>NaN</td>\n",
       "      <td>NaN</td>\n",
       "      <td>NaN</td>\n",
       "      <td>NaN</td>\n",
       "      <td>NaN</td>\n",
       "      <td>NaN</td>\n",
       "    </tr>\n",
       "    <tr>\n",
       "      <th>2</th>\n",
       "      <td>10023813</td>\n",
       "      <td>14105100</td>\n",
       "      <td>registered_address</td>\n",
       "      <td>registered address</td>\n",
       "      <td>NaN</td>\n",
       "      <td>NaN</td>\n",
       "      <td>NaN</td>\n",
       "      <td>Panama Papers</td>\n",
       "      <td>REIG INVESTMENTS LLP INVISION HOUSE WILBURY WA...</td>\n",
       "      <td>REIG INVESTMENTS LLP</td>\n",
       "      <td>...</td>\n",
       "      <td>NaN</td>\n",
       "      <td>NaN</td>\n",
       "      <td>NaN</td>\n",
       "      <td>NaN</td>\n",
       "      <td>NaN</td>\n",
       "      <td>NaN</td>\n",
       "      <td>NaN</td>\n",
       "      <td>NaN</td>\n",
       "      <td>NaN</td>\n",
       "      <td>NaN</td>\n",
       "    </tr>\n",
       "    <tr>\n",
       "      <th>3</th>\n",
       "      <td>10023840</td>\n",
       "      <td>14100712</td>\n",
       "      <td>registered_address</td>\n",
       "      <td>registered address</td>\n",
       "      <td>NaN</td>\n",
       "      <td>NaN</td>\n",
       "      <td>NaN</td>\n",
       "      <td>Panama Papers</td>\n",
       "      <td>MARCUSSI INTERNATIONAL LLP INVISION HOUSE WILB...</td>\n",
       "      <td>MARCUSSI INTERNATIONAL LLP</td>\n",
       "      <td>...</td>\n",
       "      <td>NaN</td>\n",
       "      <td>NaN</td>\n",
       "      <td>NaN</td>\n",
       "      <td>NaN</td>\n",
       "      <td>NaN</td>\n",
       "      <td>NaN</td>\n",
       "      <td>NaN</td>\n",
       "      <td>NaN</td>\n",
       "      <td>NaN</td>\n",
       "      <td>NaN</td>\n",
       "    </tr>\n",
       "    <tr>\n",
       "      <th>4</th>\n",
       "      <td>10010428</td>\n",
       "      <td>14093957</td>\n",
       "      <td>registered_address</td>\n",
       "      <td>registered address</td>\n",
       "      <td>NaN</td>\n",
       "      <td>NaN</td>\n",
       "      <td>NaN</td>\n",
       "      <td>Panama Papers</td>\n",
       "      <td>COLLYER BRISTOW LLP SOLICITORS 4 BEDFORD ROW L...</td>\n",
       "      <td>PULSAR HOLDINGS CORPORATION</td>\n",
       "      <td>...</td>\n",
       "      <td>NaN</td>\n",
       "      <td>NaN</td>\n",
       "      <td>NaN</td>\n",
       "      <td>NaN</td>\n",
       "      <td>NaN</td>\n",
       "      <td>NaN</td>\n",
       "      <td>NaN</td>\n",
       "      <td>NaN</td>\n",
       "      <td>NaN</td>\n",
       "      <td>NaN</td>\n",
       "    </tr>\n",
       "  </tbody>\n",
       "</table>\n",
       "<p>5 rows × 54 columns</p>\n",
       "</div>"
      ],
      "text/plain": [
       "   node_id_start  node_id_end            rel_type                link status  \\\n",
       "0       10002580     14106952  registered_address  registered address    NaN   \n",
       "1       10004460     14101133  registered_address  registered address    NaN   \n",
       "2       10023813     14105100  registered_address  registered address    NaN   \n",
       "3       10023840     14100712  registered_address  registered address    NaN   \n",
       "4       10010428     14093957  registered_address  registered address    NaN   \n",
       "\n",
       "  start_date end_date       sourceid  \\\n",
       "0        NaN      NaN  Panama Papers   \n",
       "1        NaN      NaN  Panama Papers   \n",
       "2        NaN      NaN  Panama Papers   \n",
       "3        NaN      NaN  Panama Papers   \n",
       "4        NaN      NaN  Panama Papers   \n",
       "\n",
       "                                       address_start  \\\n",
       "0  STEMBRIDGE TRUST (IRELAND) LIMITED 5 THE COURT...   \n",
       "1  MF CORPORATE (UK) LIMITED 520 S. 7TH STREET SU...   \n",
       "2  REIG INVESTMENTS LLP INVISION HOUSE WILBURY WA...   \n",
       "3  MARCUSSI INTERNATIONAL LLP INVISION HOUSE WILB...   \n",
       "4  COLLYER BRISTOW LLP SOLICITORS 4 BEDFORD ROW L...   \n",
       "\n",
       "                    name_start  ... internal_id_end incorporation_date_end  \\\n",
       "0       FUSION TRADING LIMITED  ...             NaN                    NaN   \n",
       "1    MF CORPORATE (UK) LIMITED  ...             NaN                    NaN   \n",
       "2         REIG INVESTMENTS LLP  ...             NaN                    NaN   \n",
       "3   MARCUSSI INTERNATIONAL LLP  ...             NaN                    NaN   \n",
       "4  PULSAR HOLDINGS CORPORATION  ...             NaN                    NaN   \n",
       "\n",
       "  inactivation_date_end struck_off_date_end dorm_date_end status_end  \\\n",
       "0                   NaN                 NaN           NaN        NaN   \n",
       "1                   NaN                 NaN           NaN        NaN   \n",
       "2                   NaN                 NaN           NaN        NaN   \n",
       "3                   NaN                 NaN           NaN        NaN   \n",
       "4                   NaN                 NaN           NaN        NaN   \n",
       "\n",
       "  service_provider_end ibcruc_end type_end closed_date_end  \n",
       "0                  NaN        NaN      NaN             NaN  \n",
       "1                  NaN        NaN      NaN             NaN  \n",
       "2                  NaN        NaN      NaN             NaN  \n",
       "3                  NaN        NaN      NaN             NaN  \n",
       "4                  NaN        NaN      NaN             NaN  \n",
       "\n",
       "[5 rows x 54 columns]"
      ]
     },
     "execution_count": 5,
     "metadata": {},
     "output_type": "execute_result"
    }
   ],
   "source": [
    "merged_df.head()"
   ]
  },
  {
   "cell_type": "code",
   "execution_count": 6,
   "id": "c5c2254a",
   "metadata": {},
   "outputs": [
    {
     "name": "stdout",
     "output_type": "stream",
     "text": [
      "Top 10 countries for entities (based on start_country, semicolon separated values counted individually):\n",
      "countries_end\n",
      "British Virgin Islands    56520\n",
      "Aruba                     48683\n",
      "Barbados                  40306\n",
      "Hong Kong                 13735\n",
      "Cayman Islands            10999\n",
      "Bermuda                    9560\n",
      "United Kingdom             9074\n",
      "Russia                     7389\n",
      "United States              5266\n",
      "Seychelles                 3024\n",
      "Name: node_id_start, dtype: int64\n"
     ]
    },
    {
     "data": {
      "text/plain": [
       "<Axes: xlabel='countries_end'>"
      ]
     },
     "execution_count": 6,
     "metadata": {},
     "output_type": "execute_result"
    },
    {
     "data": {
      "text/plain": [
       "Text(0.5, 1.0, 'Top 10 Countries for Entities to be physically based in')"
      ]
     },
     "execution_count": 6,
     "metadata": {},
     "output_type": "execute_result"
    },
    {
     "data": {
      "text/plain": [
       "Text(0.5, 0, 'Country')"
      ]
     },
     "execution_count": 6,
     "metadata": {},
     "output_type": "execute_result"
    },
    {
     "data": {
      "text/plain": [
       "Text(0, 0.5, 'Number of Entities')"
      ]
     },
     "execution_count": 6,
     "metadata": {},
     "output_type": "execute_result"
    },
    {
     "data": {
      "text/plain": [
       "(array([0, 1, 2, 3, 4, 5, 6, 7, 8, 9]),\n",
       " [Text(0, 0, 'British Virgin Islands'),\n",
       "  Text(1, 0, 'Aruba'),\n",
       "  Text(2, 0, 'Barbados'),\n",
       "  Text(3, 0, 'Hong Kong'),\n",
       "  Text(4, 0, 'Cayman Islands'),\n",
       "  Text(5, 0, 'Bermuda'),\n",
       "  Text(6, 0, 'United Kingdom'),\n",
       "  Text(7, 0, 'Russia'),\n",
       "  Text(8, 0, 'United States'),\n",
       "  Text(9, 0, 'Seychelles')])"
      ]
     },
     "execution_count": 6,
     "metadata": {},
     "output_type": "execute_result"
    },
    {
     "data": {
      "image/png": "[encoded data removed]",
      "text/plain": [
       "<Figure size 1200x600 with 1 Axes>"
      ]
     },
     "metadata": {},
     "output_type": "display_data"
    }
   ],
   "source": [
    "# Filter for rows where an “Entity” is linked to an “Address”\n",
    "# (i.e. node_type_start == 'entity' and node_type_end == 'address')\n",
    "entity_to_address = merged_df[\n",
    "    (merged_df[\"node_type_start\"] == \"entity\") &\n",
    "    (merged_df[\"node_type_end\"]   == \"address\")\n",
    "]\n",
    "\n",
    "# Count how many distinct entities are linked to each address‐country\n",
    "# (assuming the address country is in the column \"countries_end\")\n",
    "top_countries = (\n",
    "    entity_to_address\n",
    "    .groupby(\"countries_end\")[\"node_id_start\"]   # “start_id” is the entity’s node ID\n",
    "    .nunique()                              # count distinct entities per country\n",
    "    .sort_values(ascending=False) \n",
    ")\n",
    "\n",
    "\n",
    "top_10_entity_countries = top_countries.nlargest(10)\n",
    "\n",
    "print(\"Top 10 countries for entities (based on start_country, semicolon separated values counted individually):\")\n",
    "print(top_10_entity_countries)\n",
    "\n",
    "# Create a bar plot for the top 10 countries\n",
    "# Sort the data for gradient coloring\n",
    "sorted_countries = top_10_entity_countries.sort_values(ascending=False)\n",
    "# Create a color map from light blue to dark blue\n",
    "colors = plt.cm.Blues(np.linspace(1, 0.4, len(sorted_countries))) # Darkest for highest, lighter for lower\n",
    "\n",
    "sorted_countries.plot(kind='bar', figsize=(12, 6), color=colors)\n",
    "plt.title('Top 10 Countries for Entities to be physically based in')\n",
    "plt.xlabel('Country')\n",
    "plt.ylabel('Number of Entities')\n",
    "plt.xticks(rotation=45, ha='right') # Adjusted rotation for better label visibility\n",
    "plt.tight_layout()\n",
    "plt.show()\n"
   ]
  },
  {
   "cell_type": "code",
   "execution_count": 7,
   "id": "078bfc80",
   "metadata": {},
   "outputs": [],
   "source": [
    "# # Filter for entities\n",
    "\n",
    "# entity_rels = entities_df\n",
    "\n",
    "# # Create a new series by splitting countries_start by semicolon and exploding the list\n",
    "# # This handles NaN values by first filling them with an empty string, then filtering out empty strings after split\n",
    "# split_countries = entity_rels['countries'].fillna('').str.split(';').explode()\n",
    "\n",
    "# # Remove any empty strings that might result from splitting or from original NaNs\n",
    "# split_countries = split_countries[split_countries != '']\n",
    "\n",
    "# # Get the top 10 countries for entities\n",
    "# value_counts = split_countries.value_counts()\n",
    "# # Filter out \"Not identified\" before getting the top 10\n",
    "# filtered_value_counts = value_counts[value_counts.index != 'Not identified']\n",
    "# top_10_entity_countries = filtered_value_counts.nlargest(10)\n",
    "\n",
    "# print(\"Top 10 countries for entities (based on start_country, semicolon separated values counted individually):\")\n",
    "# print(top_10_entity_countries)\n",
    "\n",
    "# # Create a bar plot for the top 10 countries\n",
    "# # Sort the data for gradient coloring\n",
    "# sorted_countries = top_10_entity_countries.sort_values(ascending=False)\n",
    "# # Create a color map from light blue to dark blue\n",
    "# colors = plt.cm.Blues(np.linspace(1, 0.4, len(sorted_countries))) # Darkest for highest, lighter for lower\n",
    "\n",
    "# sorted_countries.plot(kind='bar', figsize=(12, 6), color=colors)\n",
    "# plt.title('Top 10 Countries for Entities to be physically based in')\n",
    "# plt.xlabel('Country')\n",
    "# plt.ylabel('Number of Entities')\n",
    "# plt.xticks(rotation=45, ha='right') # Adjusted rotation for better label visibility\n",
    "# plt.tight_layout()\n",
    "# plt.show()"
   ]
  },
  {
   "cell_type": "code",
   "execution_count": 17,
   "id": "a3cbc5ee",
   "metadata": {},
   "outputs": [
    {
     "name": "stdout",
     "output_type": "stream",
     "text": [
      "Top 10 jurisdictions for entities\n",
      "jurisdiction_description\n",
      "Bahamas                   209713\n",
      "British Virgin Islands    172389\n",
      "Malta                      83939\n",
      "Saint Kitts and Nevis      70604\n",
      "Aruba                      49050\n",
      "Panama                     48691\n",
      "Barbados                   40846\n",
      "Seychelles                 16886\n",
      "Samoa                      15019\n",
      "Niue                        9611\n",
      "Name: count, dtype: int64\n"
     ]
    },
    {
     "data": {
      "text/plain": [
       "<Axes: xlabel='jurisdiction_description'>"
      ]
     },
     "execution_count": 17,
     "metadata": {},
     "output_type": "execute_result"
    },
    {
     "data": {
      "text/plain": [
       "Text(0.5, 1.0, 'Top 10 Jurisdictions for Entities')"
      ]
     },
     "execution_count": 17,
     "metadata": {},
     "output_type": "execute_result"
    },
    {
     "data": {
      "text/plain": [
       "Text(0.5, 0, 'Jurisdiction')"
      ]
     },
     "execution_count": 17,
     "metadata": {},
     "output_type": "execute_result"
    },
    {
     "data": {
      "text/plain": [
       "Text(0, 0.5, 'Number of Entities')"
      ]
     },
     "execution_count": 17,
     "metadata": {},
     "output_type": "execute_result"
    },
    {
     "data": {
      "text/plain": [
       "(array([0, 1, 2, 3, 4, 5, 6, 7, 8, 9]),\n",
       " [Text(0, 0, 'Bahamas'),\n",
       "  Text(1, 0, 'British Virgin Islands'),\n",
       "  Text(2, 0, 'Malta'),\n",
       "  Text(3, 0, 'Saint Kitts and Nevis'),\n",
       "  Text(4, 0, 'Aruba'),\n",
       "  Text(5, 0, 'Panama'),\n",
       "  Text(6, 0, 'Barbados'),\n",
       "  Text(7, 0, 'Seychelles'),\n",
       "  Text(8, 0, 'Samoa'),\n",
       "  Text(9, 0, 'Niue')])"
      ]
     },
     "execution_count": 17,
     "metadata": {},
     "output_type": "execute_result"
    },
    {
     "data": {
      "image/png": "[encoded data removed]",
      "text/plain": [
       "<Figure size 1200x600 with 1 Axes>"
      ]
     },
     "metadata": {},
     "output_type": "display_data"
    }
   ],
   "source": [
    "# Filter for entities\n",
    "entity_rels2 = entities_df\n",
    "\n",
    "# Get the top 10 jurisdictions for entities\n",
    "jurisdiction_counts = entity_rels2['jurisdiction_description'].value_counts()\n",
    "\n",
    "# Filter out \"Undetermined\" before getting the top 10\n",
    "filtered_jurisdiction_counts = jurisdiction_counts[jurisdiction_counts.index != 'Undetermined']\n",
    "top_10_entity_jurisdictions = filtered_jurisdiction_counts.nlargest(10)\n",
    "\n",
    "print(\"Top 10 jurisdictions for entities\")\n",
    "print(top_10_entity_jurisdictions)\n",
    "\n",
    "# Create a bar plot for the top 10 jurisdictions\n",
    "# nlargest already sorts, so top_10_entity_jurisdictions is sorted.\n",
    "sorted_jurisdictions = top_10_entity_jurisdictions\n",
    "\n",
    "# Create a color map from light orange to dark orange\n",
    "colors = plt.cm.Oranges(np.linspace(1, 0.4, len(sorted_jurisdictions))) # Darkest for highest, lighter for lower\n",
    "\n",
    "sorted_jurisdictions.plot(kind='bar', figsize=(12, 6), color=colors)\n",
    "plt.title('Top 10 Jurisdictions for Entities')\n",
    "plt.xlabel('Jurisdiction')\n",
    "plt.ylabel('Number of Entities')\n",
    "plt.xticks(rotation=45, ha='right') # Added ha='right' for better label visibility\n",
    "plt.tight_layout()\n",
    "plt.show()\n"
   ]
  },
  {
   "cell_type": "code",
   "execution_count": 9,
   "id": "08e5b49f",
   "metadata": {},
   "outputs": [
    {
     "data": {
      "application/vnd.microsoft.datawrangler.viewer.v0+json": {
       "columns": [
        {
         "name": "index",
         "rawType": "int64",
         "type": "integer"
        },
        {
         "name": "node_id",
         "rawType": "int64",
         "type": "integer"
        },
        {
         "name": "name",
         "rawType": "object",
         "type": "string"
        },
        {
         "name": "original_name",
         "rawType": "object",
         "type": "string"
        },
        {
         "name": "former_name",
         "rawType": "object",
         "type": "unknown"
        },
        {
         "name": "jurisdiction",
         "rawType": "object",
         "type": "string"
        },
        {
         "name": "jurisdiction_description",
         "rawType": "object",
         "type": "string"
        },
        {
         "name": "company_type",
         "rawType": "object",
         "type": "unknown"
        },
        {
         "name": "address",
         "rawType": "object",
         "type": "string"
        },
        {
         "name": "internal_id",
         "rawType": "float64",
         "type": "float"
        },
        {
         "name": "incorporation_date",
         "rawType": "object",
         "type": "string"
        },
        {
         "name": "inactivation_date",
         "rawType": "object",
         "type": "string"
        },
        {
         "name": "struck_off_date",
         "rawType": "object",
         "type": "string"
        },
        {
         "name": "dorm_date",
         "rawType": "object",
         "type": "unknown"
        },
        {
         "name": "status",
         "rawType": "object",
         "type": "string"
        },
        {
         "name": "service_provider",
         "rawType": "object",
         "type": "string"
        },
        {
         "name": "ibcRUC",
         "rawType": "object",
         "type": "string"
        },
        {
         "name": "country_codes",
         "rawType": "object",
         "type": "string"
        },
        {
         "name": "countries",
         "rawType": "object",
         "type": "string"
        },
        {
         "name": "sourceID",
         "rawType": "object",
         "type": "string"
        },
        {
         "name": "valid_until",
         "rawType": "object",
         "type": "string"
        },
        {
         "name": "note",
         "rawType": "object",
         "type": "unknown"
        }
       ],
       "ref": "150a839d-b650-42d4-9ffc-fea0e63665de",
       "rows": [
        [
         "0",
         "10000001",
         "TIANSHENG INDUSTRY AND TRADING CO., LTD.",
         "TIANSHENG INDUSTRY AND TRADING CO., LTD.",
         null,
         "SAM",
         "Samoa",
         null,
         "ORION HOUSE SERVICES (HK) LIMITED ROOM 1401; 14/F.; WORLD COMMERCE  CENTRE; HARBOUR CITY; 7-11 CANTON ROAD; TSIM SHA TSUI; KOWLOON; HONG KONG",
         "1001256.0",
         "23-MAR-2006",
         "18-FEB-2013",
         "15-FEB-2013",
         null,
         "Defaulted",
         "Mossack Fonseca",
         "25221",
         "HKG",
         "Hong Kong",
         "Panama Papers",
         "The Panama Papers data is current through 2015",
         null
        ],
        [
         "1",
         "10000002",
         "NINGBO SUNRISE ENTERPRISES UNITED CO., LTD.",
         "NINGBO SUNRISE ENTERPRISES UNITED CO., LTD.",
         null,
         "SAM",
         "Samoa",
         null,
         "ORION HOUSE SERVICES (HK) LIMITED ROOM 1401; 14/F.; WORLD COMMERCE  CENTRE; HARBOUR CITY; 7-11 CANTON ROAD; TSIM SHA TSUI; KOWLOON; HONG KONG",
         "1001263.0",
         "27-MAR-2006",
         "27-FEB-2014",
         "15-FEB-2014",
         null,
         "Defaulted",
         "Mossack Fonseca",
         "25249",
         "HKG",
         "Hong Kong",
         "Panama Papers",
         "The Panama Papers data is current through 2015",
         null
        ],
        [
         "2",
         "10000003",
         "HOTFOCUS CO., LTD.",
         "HOTFOCUS CO., LTD.",
         null,
         "SAM",
         "Samoa",
         null,
         "ORION HOUSE SERVICES (HK) LIMITED ROOM 1401; 14/F.; WORLD COMMERCE  CENTRE; HARBOUR CITY; 7-11 CANTON ROAD; TSIM SHA TSUI; KOWLOON; HONG KONG",
         "1000896.0",
         "10-JAN-2006",
         "15-FEB-2012",
         "15-FEB-2012",
         null,
         "Defaulted",
         "Mossack Fonseca",
         "24138",
         "HKG",
         "Hong Kong",
         "Panama Papers",
         "The Panama Papers data is current through 2015",
         null
        ],
        [
         "3",
         "10000004",
         "SKY-BLUE GIFTS & TOYS CO., LTD.",
         "SKY-BLUE GIFTS & TOYS CO., LTD.",
         null,
         "SAM",
         "Samoa",
         null,
         "ORION HOUSE SERVICES (HK) LIMITED ROOM 1401; 14/F.; WORLD COMMERCE  CENTRE; HARBOUR CITY; 7-11 CANTON ROAD; TSIM SHA TSUI; KOWLOON; HONG KONG",
         "1000914.0",
         "06-JAN-2006",
         "16-FEB-2009",
         "15-FEB-2009",
         null,
         "Defaulted",
         "Mossack Fonseca",
         "24012",
         "HKG",
         "Hong Kong",
         "Panama Papers",
         "The Panama Papers data is current through 2015",
         null
        ],
        [
         "4",
         "10000005",
         "FORTUNEMAKER INVESTMENTS CORPORATION",
         "FORTUNEMAKER INVESTMENTS CORPORATION",
         null,
         "SAM",
         "Samoa",
         null,
         "LOYAL PORT LIMITED 8/F; CRAWFORD TOWER 99 JERVOIS STREET SHEUNG WAN; HONG KONG",
         "1001266.0",
         "19-APR-2006",
         "15-MAY-2009",
         "15-FEB-2008",
         null,
         "Changed agent",
         "Mossack Fonseca",
         "R25638",
         "HKG",
         "Hong Kong",
         "Panama Papers",
         "The Panama Papers data is current through 2015",
         null
        ]
       ],
       "shape": {
        "columns": 21,
        "rows": 5
       }
      },
      "text/html": [
       "<div>\n",
       "<style scoped>\n",
       "    .dataframe tbody tr th:only-of-type {\n",
       "        vertical-align: middle;\n",
       "    }\n",
       "\n",
       "    .dataframe tbody tr th {\n",
       "        vertical-align: top;\n",
       "    }\n",
       "\n",
       "    .dataframe thead th {\n",
       "        text-align: right;\n",
       "    }\n",
       "</style>\n",
       "<table border=\"1\" class=\"dataframe\">\n",
       "  <thead>\n",
       "    <tr style=\"text-align: right;\">\n",
       "      <th></th>\n",
       "      <th>node_id</th>\n",
       "      <th>name</th>\n",
       "      <th>original_name</th>\n",
       "      <th>former_name</th>\n",
       "      <th>jurisdiction</th>\n",
       "      <th>jurisdiction_description</th>\n",
       "      <th>company_type</th>\n",
       "      <th>address</th>\n",
       "      <th>internal_id</th>\n",
       "      <th>incorporation_date</th>\n",
       "      <th>...</th>\n",
       "      <th>struck_off_date</th>\n",
       "      <th>dorm_date</th>\n",
       "      <th>status</th>\n",
       "      <th>service_provider</th>\n",
       "      <th>ibcRUC</th>\n",
       "      <th>country_codes</th>\n",
       "      <th>countries</th>\n",
       "      <th>sourceID</th>\n",
       "      <th>valid_until</th>\n",
       "      <th>note</th>\n",
       "    </tr>\n",
       "  </thead>\n",
       "  <tbody>\n",
       "    <tr>\n",
       "      <th>0</th>\n",
       "      <td>10000001</td>\n",
       "      <td>TIANSHENG INDUSTRY AND TRADING CO., LTD.</td>\n",
       "      <td>TIANSHENG INDUSTRY AND TRADING CO., LTD.</td>\n",
       "      <td>NaN</td>\n",
       "      <td>SAM</td>\n",
       "      <td>Samoa</td>\n",
       "      <td>NaN</td>\n",
       "      <td>ORION HOUSE SERVICES (HK) LIMITED ROOM 1401; 1...</td>\n",
       "      <td>1001256.0</td>\n",
       "      <td>23-MAR-2006</td>\n",
       "      <td>...</td>\n",
       "      <td>15-FEB-2013</td>\n",
       "      <td>NaN</td>\n",
       "      <td>Defaulted</td>\n",
       "      <td>Mossack Fonseca</td>\n",
       "      <td>25221</td>\n",
       "      <td>HKG</td>\n",
       "      <td>Hong Kong</td>\n",
       "      <td>Panama Papers</td>\n",
       "      <td>The Panama Papers data is current through 2015</td>\n",
       "      <td>NaN</td>\n",
       "    </tr>\n",
       "    <tr>\n",
       "      <th>1</th>\n",
       "      <td>10000002</td>\n",
       "      <td>NINGBO SUNRISE ENTERPRISES UNITED CO., LTD.</td>\n",
       "      <td>NINGBO SUNRISE ENTERPRISES UNITED CO., LTD.</td>\n",
       "      <td>NaN</td>\n",
       "      <td>SAM</td>\n",
       "      <td>Samoa</td>\n",
       "      <td>NaN</td>\n",
       "      <td>ORION HOUSE SERVICES (HK) LIMITED ROOM 1401; 1...</td>\n",
       "      <td>1001263.0</td>\n",
       "      <td>27-MAR-2006</td>\n",
       "      <td>...</td>\n",
       "      <td>15-FEB-2014</td>\n",
       "      <td>NaN</td>\n",
       "      <td>Defaulted</td>\n",
       "      <td>Mossack Fonseca</td>\n",
       "      <td>25249</td>\n",
       "      <td>HKG</td>\n",
       "      <td>Hong Kong</td>\n",
       "      <td>Panama Papers</td>\n",
       "      <td>The Panama Papers data is current through 2015</td>\n",
       "      <td>NaN</td>\n",
       "    </tr>\n",
       "    <tr>\n",
       "      <th>2</th>\n",
       "      <td>10000003</td>\n",
       "      <td>HOTFOCUS CO., LTD.</td>\n",
       "      <td>HOTFOCUS CO., LTD.</td>\n",
       "      <td>NaN</td>\n",
       "      <td>SAM</td>\n",
       "      <td>Samoa</td>\n",
       "      <td>NaN</td>\n",
       "      <td>ORION HOUSE SERVICES (HK) LIMITED ROOM 1401; 1...</td>\n",
       "      <td>1000896.0</td>\n",
       "      <td>10-JAN-2006</td>\n",
       "      <td>...</td>\n",
       "      <td>15-FEB-2012</td>\n",
       "      <td>NaN</td>\n",
       "      <td>Defaulted</td>\n",
       "      <td>Mossack Fonseca</td>\n",
       "      <td>24138</td>\n",
       "      <td>HKG</td>\n",
       "      <td>Hong Kong</td>\n",
       "      <td>Panama Papers</td>\n",
       "      <td>The Panama Papers data is current through 2015</td>\n",
       "      <td>NaN</td>\n",
       "    </tr>\n",
       "    <tr>\n",
       "      <th>3</th>\n",
       "      <td>10000004</td>\n",
       "      <td>SKY-BLUE GIFTS &amp; TOYS CO., LTD.</td>\n",
       "      <td>SKY-BLUE GIFTS &amp; TOYS CO., LTD.</td>\n",
       "      <td>NaN</td>\n",
       "      <td>SAM</td>\n",
       "      <td>Samoa</td>\n",
       "      <td>NaN</td>\n",
       "      <td>ORION HOUSE SERVICES (HK) LIMITED ROOM 1401; 1...</td>\n",
       "      <td>1000914.0</td>\n",
       "      <td>06-JAN-2006</td>\n",
       "      <td>...</td>\n",
       "      <td>15-FEB-2009</td>\n",
       "      <td>NaN</td>\n",
       "      <td>Defaulted</td>\n",
       "      <td>Mossack Fonseca</td>\n",
       "      <td>24012</td>\n",
       "      <td>HKG</td>\n",
       "      <td>Hong Kong</td>\n",
       "      <td>Panama Papers</td>\n",
       "      <td>The Panama Papers data is current through 2015</td>\n",
       "      <td>NaN</td>\n",
       "    </tr>\n",
       "    <tr>\n",
       "      <th>4</th>\n",
       "      <td>10000005</td>\n",
       "      <td>FORTUNEMAKER INVESTMENTS CORPORATION</td>\n",
       "      <td>FORTUNEMAKER INVESTMENTS CORPORATION</td>\n",
       "      <td>NaN</td>\n",
       "      <td>SAM</td>\n",
       "      <td>Samoa</td>\n",
       "      <td>NaN</td>\n",
       "      <td>LOYAL PORT LIMITED 8/F; CRAWFORD TOWER 99 JERV...</td>\n",
       "      <td>1001266.0</td>\n",
       "      <td>19-APR-2006</td>\n",
       "      <td>...</td>\n",
       "      <td>15-FEB-2008</td>\n",
       "      <td>NaN</td>\n",
       "      <td>Changed agent</td>\n",
       "      <td>Mossack Fonseca</td>\n",
       "      <td>R25638</td>\n",
       "      <td>HKG</td>\n",
       "      <td>Hong Kong</td>\n",
       "      <td>Panama Papers</td>\n",
       "      <td>The Panama Papers data is current through 2015</td>\n",
       "      <td>NaN</td>\n",
       "    </tr>\n",
       "  </tbody>\n",
       "</table>\n",
       "<p>5 rows × 21 columns</p>\n",
       "</div>"
      ],
      "text/plain": [
       "    node_id                                         name  \\\n",
       "0  10000001     TIANSHENG INDUSTRY AND TRADING CO., LTD.   \n",
       "1  10000002  NINGBO SUNRISE ENTERPRISES UNITED CO., LTD.   \n",
       "2  10000003                           HOTFOCUS CO., LTD.   \n",
       "3  10000004              SKY-BLUE GIFTS & TOYS CO., LTD.   \n",
       "4  10000005         FORTUNEMAKER INVESTMENTS CORPORATION   \n",
       "\n",
       "                                 original_name former_name jurisdiction  \\\n",
       "0     TIANSHENG INDUSTRY AND TRADING CO., LTD.         NaN          SAM   \n",
       "1  NINGBO SUNRISE ENTERPRISES UNITED CO., LTD.         NaN          SAM   \n",
       "2                           HOTFOCUS CO., LTD.         NaN          SAM   \n",
       "3              SKY-BLUE GIFTS & TOYS CO., LTD.         NaN          SAM   \n",
       "4         FORTUNEMAKER INVESTMENTS CORPORATION         NaN          SAM   \n",
       "\n",
       "  jurisdiction_description company_type  \\\n",
       "0                    Samoa          NaN   \n",
       "1                    Samoa          NaN   \n",
       "2                    Samoa          NaN   \n",
       "3                    Samoa          NaN   \n",
       "4                    Samoa          NaN   \n",
       "\n",
       "                                             address  internal_id  \\\n",
       "0  ORION HOUSE SERVICES (HK) LIMITED ROOM 1401; 1...    1001256.0   \n",
       "1  ORION HOUSE SERVICES (HK) LIMITED ROOM 1401; 1...    1001263.0   \n",
       "2  ORION HOUSE SERVICES (HK) LIMITED ROOM 1401; 1...    1000896.0   \n",
       "3  ORION HOUSE SERVICES (HK) LIMITED ROOM 1401; 1...    1000914.0   \n",
       "4  LOYAL PORT LIMITED 8/F; CRAWFORD TOWER 99 JERV...    1001266.0   \n",
       "\n",
       "  incorporation_date  ... struck_off_date dorm_date         status  \\\n",
       "0        23-MAR-2006  ...     15-FEB-2013       NaN      Defaulted   \n",
       "1        27-MAR-2006  ...     15-FEB-2014       NaN      Defaulted   \n",
       "2        10-JAN-2006  ...     15-FEB-2012       NaN      Defaulted   \n",
       "3        06-JAN-2006  ...     15-FEB-2009       NaN      Defaulted   \n",
       "4        19-APR-2006  ...     15-FEB-2008       NaN  Changed agent   \n",
       "\n",
       "  service_provider  ibcRUC country_codes  countries       sourceID  \\\n",
       "0  Mossack Fonseca   25221           HKG  Hong Kong  Panama Papers   \n",
       "1  Mossack Fonseca   25249           HKG  Hong Kong  Panama Papers   \n",
       "2  Mossack Fonseca   24138           HKG  Hong Kong  Panama Papers   \n",
       "3  Mossack Fonseca   24012           HKG  Hong Kong  Panama Papers   \n",
       "4  Mossack Fonseca  R25638           HKG  Hong Kong  Panama Papers   \n",
       "\n",
       "                                      valid_until note  \n",
       "0  The Panama Papers data is current through 2015  NaN  \n",
       "1  The Panama Papers data is current through 2015  NaN  \n",
       "2  The Panama Papers data is current through 2015  NaN  \n",
       "3  The Panama Papers data is current through 2015  NaN  \n",
       "4  The Panama Papers data is current through 2015  NaN  \n",
       "\n",
       "[5 rows x 21 columns]"
      ]
     },
     "execution_count": 9,
     "metadata": {},
     "output_type": "execute_result"
    }
   ],
   "source": [
    "entities_df.head()"
   ]
  },
  {
   "cell_type": "code",
   "execution_count": 10,
   "id": "010addd3",
   "metadata": {},
   "outputs": [
    {
     "name": "stdout",
     "output_type": "stream",
     "text": [
      "Top 10 entity types:\n",
      "company_type\n",
      "Standard International Company                 40072\n",
      "Standard Company under IBC Act                 26214\n",
      "Business Company Limited by Shares             25130\n",
      "Regular (Local) Company                        17599\n",
      "Business Corporation                           16244\n",
      "Client Sundry Account                           8692\n",
      "International Trust                              999\n",
      "Cook Islands Asset Protection Trust              547\n",
      "Domestic Company                                 462\n",
      "Cook Islands Asset Protection Trust - 3520A      445\n",
      "Name: count, dtype: int64\n"
     ]
    },
    {
     "data": {
      "text/plain": [
       "<Axes: xlabel='company_type'>"
      ]
     },
     "execution_count": 10,
     "metadata": {},
     "output_type": "execute_result"
    },
    {
     "data": {
      "text/plain": [
       "Text(0.5, 1.0, 'Top 10 Entity Types')"
      ]
     },
     "execution_count": 10,
     "metadata": {},
     "output_type": "execute_result"
    },
    {
     "data": {
      "text/plain": [
       "Text(0.5, 0, 'Entity Type')"
      ]
     },
     "execution_count": 10,
     "metadata": {},
     "output_type": "execute_result"
    },
    {
     "data": {
      "text/plain": [
       "Text(0, 0.5, 'Number of Entities')"
      ]
     },
     "execution_count": 10,
     "metadata": {},
     "output_type": "execute_result"
    },
    {
     "data": {
      "text/plain": [
       "(array([0, 1, 2, 3, 4, 5, 6, 7, 8, 9]),\n",
       " [Text(0, 0, 'Standard International Company'),\n",
       "  Text(1, 0, 'Standard Company under IBC Act'),\n",
       "  Text(2, 0, 'Business Company Limited by Shares'),\n",
       "  Text(3, 0, 'Regular (Local) Company'),\n",
       "  Text(4, 0, 'Business Corporation'),\n",
       "  Text(5, 0, 'Client Sundry Account'),\n",
       "  Text(6, 0, 'International Trust'),\n",
       "  Text(7, 0, 'Cook Islands Asset Protection Trust'),\n",
       "  Text(8, 0, 'Domestic Company'),\n",
       "  Text(9, 0, 'Cook Islands Asset Protection Trust - 3520A')])"
      ]
     },
     "execution_count": 10,
     "metadata": {},
     "output_type": "execute_result"
    },
    {
     "data": {
      "image/png": "[encoded data removed]",
      "text/plain": [
       "<Figure size 1200x600 with 1 Axes>"
      ]
     },
     "metadata": {},
     "output_type": "display_data"
    }
   ],
   "source": [
    "# Get the top 10 entity types\n",
    "entity_type_counts = entities_df['company_type'].value_counts()\n",
    "top_10_entity_types = entity_type_counts.nlargest(10)\n",
    "\n",
    "print(\"Top 10 entity types:\")\n",
    "print(top_10_entity_types)\n",
    "\n",
    "# Create a bar plot for the top 10 entity types\n",
    "# Sort the data for gradient coloring\n",
    "sorted_entity_types = top_10_entity_types.sort_values(ascending=False)\n",
    "\n",
    "# Create a color map from light green to dark green\n",
    "colors = plt.cm.Greens(np.linspace(1, 0.4, len(sorted_entity_types))) # Darkest for highest, lighter for lower\n",
    "\n",
    "sorted_entity_types.plot(kind='bar', figsize=(12, 6), color=colors)\n",
    "plt.title('Top 10 Entity Types')\n",
    "plt.xlabel('Entity Type')\n",
    "plt.ylabel('Number of Entities')\n",
    "plt.xticks(rotation=45, ha='right')\n",
    "plt.tight_layout()\n",
    "plt.show()"
   ]
  },
  {
   "cell_type": "code",
   "execution_count": null,
   "id": "eb987c00",
   "metadata": {},
   "outputs": [
    {
     "data": {
      "application/vnd.microsoft.datawrangler.viewer.v0+json": {
       "columns": [
        {
         "name": "company_type",
         "rawType": "object",
         "type": "string"
        },
        {
         "name": "count",
         "rawType": "int64",
         "type": "integer"
        }
       ],
       "ref": "c6518ada-c29f-41ea-94cd-7304a7626711",
       "rows": [
        [
         "Standard International Company",
         "40072"
        ],
        [
         "Standard Company under IBC Act",
         "26214"
        ],
        [
         "Business Company Limited by Shares",
         "25130"
        ],
        [
         "Regular (Local) Company",
         "17599"
        ],
        [
         "Business Corporation",
         "16244"
        ],
        [
         "Client Sundry Account",
         "8692"
        ],
        [
         "International Trust",
         "999"
        ],
        [
         "Cook Islands Asset Protection Trust",
         "547"
        ],
        [
         "Domestic Company",
         "462"
        ],
        [
         "Cook Islands Asset Protection Trust - 3520A",
         "445"
        ]
       ],
       "shape": {
        "columns": 1,
        "rows": 10
       }
      },
      "text/plain": [
       "company_type\n",
       "Standard International Company                 40072\n",
       "Standard Company under IBC Act                 26214\n",
       "Business Company Limited by Shares             25130\n",
       "Regular (Local) Company                        17599\n",
       "Business Corporation                           16244\n",
       "Client Sundry Account                           8692\n",
       "International Trust                              999\n",
       "Cook Islands Asset Protection Trust              547\n",
       "Domestic Company                                 462\n",
       "Cook Islands Asset Protection Trust - 3520A      445\n",
       "Name: count, dtype: int64"
      ]
     },
     "execution_count": 14,
     "metadata": {},
     "output_type": "execute_result"
    },
    {
     "data": {
      "application/vnd.microsoft.datawrangler.viewer.v0+json": {
       "columns": [
        {
         "name": "jurisdiction_description",
         "rawType": "object",
         "type": "string"
        },
        {
         "name": "count",
         "rawType": "int64",
         "type": "integer"
        }
       ],
       "ref": "2bc5ab78-aa8e-445d-bd5d-8d0b16a66fd3",
       "rows": [
        [
         "Bahamas",
         "209713"
        ],
        [
         "British Virgin Islands",
         "172389"
        ],
        [
         "Malta",
         "83939"
        ],
        [
         "Saint Kitts and Nevis",
         "70604"
        ],
        [
         "Aruba",
         "49050"
        ],
        [
         "Panama",
         "48691"
        ],
        [
         "Barbados",
         "40846"
        ],
        [
         "Seychelles",
         "16886"
        ],
        [
         "Samoa",
         "15019"
        ],
        [
         "Niue",
         "9611"
        ]
       ],
       "shape": {
        "columns": 1,
        "rows": 10
       }
      },
      "text/plain": [
       "jurisdiction_description\n",
       "Bahamas                   209713\n",
       "British Virgin Islands    172389\n",
       "Malta                      83939\n",
       "Saint Kitts and Nevis      70604\n",
       "Aruba                      49050\n",
       "Panama                     48691\n",
       "Barbados                   40846\n",
       "Seychelles                 16886\n",
       "Samoa                      15019\n",
       "Niue                        9611\n",
       "Name: count, dtype: int64"
      ]
     },
     "execution_count": 14,
     "metadata": {},
     "output_type": "execute_result"
    },
    {
     "data": {
      "application/vnd.microsoft.datawrangler.viewer.v0+json": {
       "columns": [
        {
         "name": "countries_end",
         "rawType": "object",
         "type": "string"
        },
        {
         "name": "node_id_start",
         "rawType": "int64",
         "type": "integer"
        }
       ],
       "ref": "827b9f7f-5222-4ae2-a197-0a895b95eed2",
       "rows": [
        [
         "British Virgin Islands",
         "56520"
        ],
        [
         "Aruba",
         "48683"
        ],
        [
         "Barbados",
         "40306"
        ],
        [
         "Hong Kong",
         "13735"
        ],
        [
         "Cayman Islands",
         "10999"
        ],
        [
         "Bermuda",
         "9560"
        ],
        [
         "United Kingdom",
         "9074"
        ],
        [
         "Russia",
         "7389"
        ],
        [
         "United States",
         "5266"
        ],
        [
         "Seychelles",
         "3024"
        ]
       ],
       "shape": {
        "columns": 1,
        "rows": 10
       }
      },
      "text/plain": [
       "countries_end\n",
       "British Virgin Islands    56520\n",
       "Aruba                     48683\n",
       "Barbados                  40306\n",
       "Hong Kong                 13735\n",
       "Cayman Islands            10999\n",
       "Bermuda                    9560\n",
       "United Kingdom             9074\n",
       "Russia                     7389\n",
       "United States              5266\n",
       "Seychelles                 3024\n",
       "Name: node_id_start, dtype: int64"
      ]
     },
     "execution_count": 14,
     "metadata": {},
     "output_type": "execute_result"
    },
    {
     "data": {
      "application/vnd.microsoft.datawrangler.viewer.v0+json": {
       "columns": [
        {
         "name": "index",
         "rawType": "int64",
         "type": "integer"
        },
        {
         "name": "Top 10 Countries",
         "rawType": "object",
         "type": "string"
        },
        {
         "name": "Top 10 Jurisdictions",
         "rawType": "object",
         "type": "string"
        },
        {
         "name": "Top 10 Entity Types",
         "rawType": "object",
         "type": "string"
        }
       ],
       "ref": "9f76f413-545a-4cb9-8254-d67386bb825a",
       "rows": [
        [
         "0",
         "British Virgin Islands",
         "Bahamas",
         "Standard International Company"
        ],
        [
         "1",
         "Aruba",
         "British Virgin Islands",
         "Standard Company under IBC Act"
        ],
        [
         "2",
         "Barbados",
         "Malta",
         "Business Company Limited by Shares"
        ],
        [
         "3",
         "Hong Kong",
         "Saint Kitts and Nevis",
         "Regular (Local) Company"
        ],
        [
         "4",
         "Cayman Islands",
         "Aruba",
         "Business Corporation"
        ],
        [
         "5",
         "Bermuda",
         "Panama",
         "Client Sundry Account"
        ],
        [
         "6",
         "United Kingdom",
         "Barbados",
         "International Trust"
        ],
        [
         "7",
         "Russia",
         "Seychelles",
         "Cook Islands Asset Protection Trust"
        ],
        [
         "8",
         "United States",
         "Samoa",
         "Domestic Company"
        ],
        [
         "9",
         "Seychelles",
         "Niue",
         "Cook Islands Asset Protection Trust - 3520A"
        ]
       ],
       "shape": {
        "columns": 3,
        "rows": 10
       }
      },
      "text/html": [
       "<div>\n",
       "<style scoped>\n",
       "    .dataframe tbody tr th:only-of-type {\n",
       "        vertical-align: middle;\n",
       "    }\n",
       "\n",
       "    .dataframe tbody tr th {\n",
       "        vertical-align: top;\n",
       "    }\n",
       "\n",
       "    .dataframe thead th {\n",
       "        text-align: right;\n",
       "    }\n",
       "</style>\n",
       "<table border=\"1\" class=\"dataframe\">\n",
       "  <thead>\n",
       "    <tr style=\"text-align: right;\">\n",
       "      <th></th>\n",
       "      <th>Top 10 Countries</th>\n",
       "      <th>Top 10 Jurisdictions</th>\n",
       "      <th>Top 10 Entity Types</th>\n",
       "    </tr>\n",
       "  </thead>\n",
       "  <tbody>\n",
       "    <tr>\n",
       "      <th>0</th>\n",
       "      <td>British Virgin Islands</td>\n",
       "      <td>Bahamas</td>\n",
       "      <td>Standard International Company</td>\n",
       "    </tr>\n",
       "    <tr>\n",
       "      <th>1</th>\n",
       "      <td>Aruba</td>\n",
       "      <td>British Virgin Islands</td>\n",
       "      <td>Standard Company under IBC Act</td>\n",
       "    </tr>\n",
       "    <tr>\n",
       "      <th>2</th>\n",
       "      <td>Barbados</td>\n",
       "      <td>Malta</td>\n",
       "      <td>Business Company Limited by Shares</td>\n",
       "    </tr>\n",
       "    <tr>\n",
       "      <th>3</th>\n",
       "      <td>Hong Kong</td>\n",
       "      <td>Saint Kitts and Nevis</td>\n",
       "      <td>Regular (Local) Company</td>\n",
       "    </tr>\n",
       "    <tr>\n",
       "      <th>4</th>\n",
       "      <td>Cayman Islands</td>\n",
       "      <td>Aruba</td>\n",
       "      <td>Business Corporation</td>\n",
       "    </tr>\n",
       "    <tr>\n",
       "      <th>5</th>\n",
       "      <td>Bermuda</td>\n",
       "      <td>Panama</td>\n",
       "      <td>Client Sundry Account</td>\n",
       "    </tr>\n",
       "    <tr>\n",
       "      <th>6</th>\n",
       "      <td>United Kingdom</td>\n",
       "      <td>Barbados</td>\n",
       "      <td>International Trust</td>\n",
       "    </tr>\n",
       "    <tr>\n",
       "      <th>7</th>\n",
       "      <td>Russia</td>\n",
       "      <td>Seychelles</td>\n",
       "      <td>Cook Islands Asset Protection Trust</td>\n",
       "    </tr>\n",
       "    <tr>\n",
       "      <th>8</th>\n",
       "      <td>United States</td>\n",
       "      <td>Samoa</td>\n",
       "      <td>Domestic Company</td>\n",
       "    </tr>\n",
       "    <tr>\n",
       "      <th>9</th>\n",
       "      <td>Seychelles</td>\n",
       "      <td>Niue</td>\n",
       "      <td>Cook Islands Asset Protection Trust - 3520A</td>\n",
       "    </tr>\n",
       "  </tbody>\n",
       "</table>\n",
       "</div>"
      ],
      "text/plain": [
       "         Top 10 Countries    Top 10 Jurisdictions  \\\n",
       "0  British Virgin Islands                 Bahamas   \n",
       "1                   Aruba  British Virgin Islands   \n",
       "2                Barbados                   Malta   \n",
       "3               Hong Kong   Saint Kitts and Nevis   \n",
       "4          Cayman Islands                   Aruba   \n",
       "5                 Bermuda                  Panama   \n",
       "6          United Kingdom                Barbados   \n",
       "7                  Russia              Seychelles   \n",
       "8           United States                   Samoa   \n",
       "9              Seychelles                    Niue   \n",
       "\n",
       "                           Top 10 Entity Types  \n",
       "0               Standard International Company  \n",
       "1               Standard Company under IBC Act  \n",
       "2           Business Company Limited by Shares  \n",
       "3                      Regular (Local) Company  \n",
       "4                         Business Corporation  \n",
       "5                        Client Sundry Account  \n",
       "6                          International Trust  \n",
       "7          Cook Islands Asset Protection Trust  \n",
       "8                             Domestic Company  \n",
       "9  Cook Islands Asset Protection Trust - 3520A  "
      ]
     },
     "execution_count": 14,
     "metadata": {},
     "output_type": "execute_result"
    }
   ],
   "source": [
    "top_10_entity_types\n",
    "\n",
    "top_10_entity_jurisdictions\n",
    "\n",
    "top_10_entity_countries"
   ]
  },
  {
   "cell_type": "code",
   "execution_count": 16,
   "id": "bfc97102",
   "metadata": {},
   "outputs": [
    {
     "data": {
      "application/vnd.microsoft.datawrangler.viewer.v0+json": {
       "columns": [
        {
         "name": "index",
         "rawType": "int64",
         "type": "integer"
        },
        {
         "name": "Top 10 countries for entities to be physically based in",
         "rawType": "object",
         "type": "string"
        },
        {
         "name": "Top 10 jurisdictions for entities",
         "rawType": "object",
         "type": "string"
        },
        {
         "name": "Top 10 entity types",
         "rawType": "object",
         "type": "string"
        }
       ],
       "ref": "682af68c-b326-4644-93c9-b2689e00f3de",
       "rows": [
        [
         "1",
         "British Virgin Islands",
         "Bahamas",
         "Standard International Company"
        ],
        [
         "2",
         "Aruba",
         "British Virgin Islands",
         "Standard Company under IBC Act"
        ],
        [
         "3",
         "Barbados",
         "Malta",
         "Business Company Limited by Shares"
        ],
        [
         "4",
         "Hong Kong",
         "Saint Kitts and Nevis",
         "Regular (Local) Company"
        ],
        [
         "5",
         "Cayman Islands",
         "Aruba",
         "Business Corporation"
        ],
        [
         "6",
         "Bermuda",
         "Panama",
         "Client Sundry Account"
        ],
        [
         "7",
         "United Kingdom",
         "Barbados",
         "International Trust"
        ],
        [
         "8",
         "Russia",
         "Seychelles",
         "Cook Islands Asset Protection Trust"
        ],
        [
         "9",
         "United States",
         "Samoa",
         "Domestic Company"
        ],
        [
         "10",
         "Seychelles",
         "Niue",
         "Cook Islands Asset Protection Trust - 3520A"
        ]
       ],
       "shape": {
        "columns": 3,
        "rows": 10
       }
      },
      "text/html": [
       "<div>\n",
       "<style scoped>\n",
       "    .dataframe tbody tr th:only-of-type {\n",
       "        vertical-align: middle;\n",
       "    }\n",
       "\n",
       "    .dataframe tbody tr th {\n",
       "        vertical-align: top;\n",
       "    }\n",
       "\n",
       "    .dataframe thead th {\n",
       "        text-align: right;\n",
       "    }\n",
       "</style>\n",
       "<table border=\"1\" class=\"dataframe\">\n",
       "  <thead>\n",
       "    <tr style=\"text-align: right;\">\n",
       "      <th></th>\n",
       "      <th>Top 10 countries for entities to be physically based in</th>\n",
       "      <th>Top 10 jurisdictions for entities</th>\n",
       "      <th>Top 10 entity types</th>\n",
       "    </tr>\n",
       "  </thead>\n",
       "  <tbody>\n",
       "    <tr>\n",
       "      <th>1</th>\n",
       "      <td>British Virgin Islands</td>\n",
       "      <td>Bahamas</td>\n",
       "      <td>Standard International Company</td>\n",
       "    </tr>\n",
       "    <tr>\n",
       "      <th>2</th>\n",
       "      <td>Aruba</td>\n",
       "      <td>British Virgin Islands</td>\n",
       "      <td>Standard Company under IBC Act</td>\n",
       "    </tr>\n",
       "    <tr>\n",
       "      <th>3</th>\n",
       "      <td>Barbados</td>\n",
       "      <td>Malta</td>\n",
       "      <td>Business Company Limited by Shares</td>\n",
       "    </tr>\n",
       "    <tr>\n",
       "      <th>4</th>\n",
       "      <td>Hong Kong</td>\n",
       "      <td>Saint Kitts and Nevis</td>\n",
       "      <td>Regular (Local) Company</td>\n",
       "    </tr>\n",
       "    <tr>\n",
       "      <th>5</th>\n",
       "      <td>Cayman Islands</td>\n",
       "      <td>Aruba</td>\n",
       "      <td>Business Corporation</td>\n",
       "    </tr>\n",
       "    <tr>\n",
       "      <th>6</th>\n",
       "      <td>Bermuda</td>\n",
       "      <td>Panama</td>\n",
       "      <td>Client Sundry Account</td>\n",
       "    </tr>\n",
       "    <tr>\n",
       "      <th>7</th>\n",
       "      <td>United Kingdom</td>\n",
       "      <td>Barbados</td>\n",
       "      <td>International Trust</td>\n",
       "    </tr>\n",
       "    <tr>\n",
       "      <th>8</th>\n",
       "      <td>Russia</td>\n",
       "      <td>Seychelles</td>\n",
       "      <td>Cook Islands Asset Protection Trust</td>\n",
       "    </tr>\n",
       "    <tr>\n",
       "      <th>9</th>\n",
       "      <td>United States</td>\n",
       "      <td>Samoa</td>\n",
       "      <td>Domestic Company</td>\n",
       "    </tr>\n",
       "    <tr>\n",
       "      <th>10</th>\n",
       "      <td>Seychelles</td>\n",
       "      <td>Niue</td>\n",
       "      <td>Cook Islands Asset Protection Trust - 3520A</td>\n",
       "    </tr>\n",
       "  </tbody>\n",
       "</table>\n",
       "</div>"
      ],
      "text/plain": [
       "   Top 10 countries for entities to be physically based in  \\\n",
       "1                              British Virgin Islands        \n",
       "2                                               Aruba        \n",
       "3                                            Barbados        \n",
       "4                                           Hong Kong        \n",
       "5                                      Cayman Islands        \n",
       "6                                             Bermuda        \n",
       "7                                      United Kingdom        \n",
       "8                                              Russia        \n",
       "9                                       United States        \n",
       "10                                         Seychelles        \n",
       "\n",
       "   Top 10 jurisdictions for entities  \\\n",
       "1                            Bahamas   \n",
       "2             British Virgin Islands   \n",
       "3                              Malta   \n",
       "4              Saint Kitts and Nevis   \n",
       "5                              Aruba   \n",
       "6                             Panama   \n",
       "7                           Barbados   \n",
       "8                         Seychelles   \n",
       "9                              Samoa   \n",
       "10                              Niue   \n",
       "\n",
       "                            Top 10 entity types  \n",
       "1                Standard International Company  \n",
       "2                Standard Company under IBC Act  \n",
       "3            Business Company Limited by Shares  \n",
       "4                       Regular (Local) Company  \n",
       "5                          Business Corporation  \n",
       "6                         Client Sundry Account  \n",
       "7                           International Trust  \n",
       "8           Cook Islands Asset Protection Trust  \n",
       "9                              Domestic Company  \n",
       "10  Cook Islands Asset Protection Trust - 3520A  "
      ]
     },
     "execution_count": 16,
     "metadata": {},
     "output_type": "execute_result"
    }
   ],
   "source": [
    "# Extract the names (indices) from each Series\n",
    "countries_list = top_10_entity_countries.index.tolist()\n",
    "jurisdictions_list = top_10_entity_jurisdictions.index.tolist()\n",
    "entity_types_list = top_10_entity_types.index.tolist()\n",
    "\n",
    "# Ensure all lists have the same length (e.g., 10 for top 10)\n",
    "# Pad with None or an empty string if lengths are different,\n",
    "# though nlargest(10) should ideally give 10 items if available.\n",
    "# Pandas DataFrame creation handles differing lengths by padding with NaN by default.\n",
    "# For explicit control, you might want to pad them to a common length (e.g., 10)\n",
    "max_len = 10 # Assuming you always want up to 10 items\n",
    "\n",
    "countries_list_padded = (countries_list + [None] * max_len)[:max_len]\n",
    "jurisdictions_list_padded = (jurisdictions_list + [None] * max_len)[:max_len]\n",
    "entity_types_list_padded = (entity_types_list + [None] * max_len)[:max_len]\n",
    "\n",
    "\n",
    "# Create the DataFrame\n",
    "combined_top_10_df = pd.DataFrame({\n",
    "    \"Top 10 countries for entities to be physically based in\": countries_list_padded,\n",
    "    \"Top 10 jurisdictions for entities\": jurisdictions_list_padded,\n",
    "    \"Top 10 entity types\": entity_types_list_padded\n",
    "})\n",
    "\n",
    "# Set the index to start from 1\n",
    "combined_top_10_df.index = np.arange(1, len(combined_top_10_df) + 1)\n",
    "\n",
    "# Display the DataFrame\n",
    "combined_top_10_df"
   ]
  }
 ],
 "metadata": {
  "kernelspec": {
   "display_name": "myenv",
   "language": "python",
   "name": "myenv"
  },
  "language_info": {
   "codemirror_mode": {
    "name": "ipython",
    "version": 3
   },
   "file_extension": ".py",
   "mimetype": "text/x-python",
   "name": "python",
   "nbconvert_exporter": "python",
   "pygments_lexer": "ipython3",
   "version": "3.12.2"
  }
 },
 "nbformat": 4,
 "nbformat_minor": 5
}
