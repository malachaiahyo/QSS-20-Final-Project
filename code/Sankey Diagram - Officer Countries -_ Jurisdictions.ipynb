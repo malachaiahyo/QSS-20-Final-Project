{
 "cells": [
  {
   "cell_type": "code",
   "execution_count": 217,
   "id": "dd19c5c0-9bb6-463e-a316-f43c6186191f",
   "metadata": {},
   "outputs": [],
   "source": [
    "# import necessary packages\n",
    "import plotly.graph_objects as go\n",
    "import pandas as pd\n",
    "import plotly.express as px"
   ]
  },
  {
   "cell_type": "code",
   "execution_count": 159,
   "id": "72ceeabd-435f-45b1-84e0-556b65119661",
   "metadata": {},
   "outputs": [
    {
     "name": "stderr",
     "output_type": "stream",
     "text": [
      "/var/folders/tw/3wzvw38122z72njtkggxtt6m0000gn/T/ipykernel_34121/440955792.py:3: DtypeWarning:\n",
      "\n",
      "Columns (12,16) have mixed types. Specify dtype option on import or set low_memory=False.\n",
      "\n"
     ]
    },
    {
     "data": {
      "text/html": [
       "<div>\n",
       "<style scoped>\n",
       "    .dataframe tbody tr th:only-of-type {\n",
       "        vertical-align: middle;\n",
       "    }\n",
       "\n",
       "    .dataframe tbody tr th {\n",
       "        vertical-align: top;\n",
       "    }\n",
       "\n",
       "    .dataframe thead th {\n",
       "        text-align: right;\n",
       "    }\n",
       "</style>\n",
       "<table border=\"1\" class=\"dataframe\">\n",
       "  <thead>\n",
       "    <tr style=\"text-align: right;\">\n",
       "      <th></th>\n",
       "      <th>node_id_start</th>\n",
       "      <th>node_id_end</th>\n",
       "      <th>rel_type</th>\n",
       "      <th>link</th>\n",
       "      <th>sourceID</th>\n",
       "      <th>address_start</th>\n",
       "      <th>name_start</th>\n",
       "      <th>countries_start</th>\n",
       "      <th>country_codes_start</th>\n",
       "      <th>sourceID_start</th>\n",
       "      <th>...</th>\n",
       "      <th>jurisdiction_description_end</th>\n",
       "      <th>company_type_end</th>\n",
       "      <th>internal_id_end</th>\n",
       "      <th>incorporation_date_end</th>\n",
       "      <th>inactivation_date_end</th>\n",
       "      <th>struck_off_date_end</th>\n",
       "      <th>dorm_date_end</th>\n",
       "      <th>status_end</th>\n",
       "      <th>service_provider_end</th>\n",
       "      <th>ibcRUC_end</th>\n",
       "    </tr>\n",
       "  </thead>\n",
       "  <tbody>\n",
       "    <tr>\n",
       "      <th>0</th>\n",
       "      <td>23000436</td>\n",
       "      <td>20111548</td>\n",
       "      <td>intermediary_of</td>\n",
       "      <td>intermediary of</td>\n",
       "      <td>Bahamas Leaks</td>\n",
       "      <td>NaN</td>\n",
       "      <td>UNIVERSAL LEGAL SERVICES</td>\n",
       "      <td>Bahamas</td>\n",
       "      <td>BHS</td>\n",
       "      <td>Bahamas Leaks</td>\n",
       "      <td>...</td>\n",
       "      <td>Bahamas</td>\n",
       "      <td>NaN</td>\n",
       "      <td>111548.0</td>\n",
       "      <td>17-JUL-2000</td>\n",
       "      <td>NaN</td>\n",
       "      <td>31-AUG-2002</td>\n",
       "      <td>NaN</td>\n",
       "      <td>NaN</td>\n",
       "      <td>NaN</td>\n",
       "      <td>111548B</td>\n",
       "    </tr>\n",
       "    <tr>\n",
       "      <th>1</th>\n",
       "      <td>23000246</td>\n",
       "      <td>20050981</td>\n",
       "      <td>intermediary_of</td>\n",
       "      <td>intermediary of</td>\n",
       "      <td>Bahamas Leaks</td>\n",
       "      <td>NaN</td>\n",
       "      <td>SMITH, SMITH &amp; COMPANY</td>\n",
       "      <td>Bahamas</td>\n",
       "      <td>BHS</td>\n",
       "      <td>Bahamas Leaks</td>\n",
       "      <td>...</td>\n",
       "      <td>Bahamas</td>\n",
       "      <td>NaN</td>\n",
       "      <td>50981.0</td>\n",
       "      <td>19-DEC-1996</td>\n",
       "      <td>NaN</td>\n",
       "      <td>01-JAN-1998</td>\n",
       "      <td>NaN</td>\n",
       "      <td>NaN</td>\n",
       "      <td>NaN</td>\n",
       "      <td>50981B</td>\n",
       "    </tr>\n",
       "    <tr>\n",
       "      <th>2</th>\n",
       "      <td>56008636</td>\n",
       "      <td>58080065</td>\n",
       "      <td>registered_address</td>\n",
       "      <td>registered address</td>\n",
       "      <td>Paradise Papers - Malta corporate registry</td>\n",
       "      <td>NaN</td>\n",
       "      <td>FLORIAN BREGASI</td>\n",
       "      <td>Albania</td>\n",
       "      <td>ALB</td>\n",
       "      <td>Paradise Papers - Malta corporate registry</td>\n",
       "      <td>...</td>\n",
       "      <td>NaN</td>\n",
       "      <td>NaN</td>\n",
       "      <td>NaN</td>\n",
       "      <td>NaN</td>\n",
       "      <td>NaN</td>\n",
       "      <td>NaN</td>\n",
       "      <td>NaN</td>\n",
       "      <td>NaN</td>\n",
       "      <td>NaN</td>\n",
       "      <td>NaN</td>\n",
       "    </tr>\n",
       "    <tr>\n",
       "      <th>3</th>\n",
       "      <td>110020422</td>\n",
       "      <td>110088539</td>\n",
       "      <td>same_name_as</td>\n",
       "      <td>same name as</td>\n",
       "      <td>NaN</td>\n",
       "      <td>NaN</td>\n",
       "      <td>WARD BRIAN C.</td>\n",
       "      <td>NaN</td>\n",
       "      <td>NaN</td>\n",
       "      <td>Paradise Papers - Barbados corporate registry</td>\n",
       "      <td>...</td>\n",
       "      <td>NaN</td>\n",
       "      <td>NaN</td>\n",
       "      <td>NaN</td>\n",
       "      <td>NaN</td>\n",
       "      <td>NaN</td>\n",
       "      <td>NaN</td>\n",
       "      <td>NaN</td>\n",
       "      <td>NaN</td>\n",
       "      <td>NaN</td>\n",
       "      <td>NaN</td>\n",
       "    </tr>\n",
       "    <tr>\n",
       "      <th>4</th>\n",
       "      <td>12171472</td>\n",
       "      <td>12180735</td>\n",
       "      <td>similar</td>\n",
       "      <td>similar name and address as</td>\n",
       "      <td>NaN</td>\n",
       "      <td>NaN</td>\n",
       "      <td>XU FENG</td>\n",
       "      <td>China</td>\n",
       "      <td>CHN</td>\n",
       "      <td>Panama Papers</td>\n",
       "      <td>...</td>\n",
       "      <td>NaN</td>\n",
       "      <td>NaN</td>\n",
       "      <td>NaN</td>\n",
       "      <td>NaN</td>\n",
       "      <td>NaN</td>\n",
       "      <td>NaN</td>\n",
       "      <td>NaN</td>\n",
       "      <td>NaN</td>\n",
       "      <td>NaN</td>\n",
       "      <td>NaN</td>\n",
       "    </tr>\n",
       "  </tbody>\n",
       "</table>\n",
       "<p>5 rows × 42 columns</p>\n",
       "</div>"
      ],
      "text/plain": [
       "   node_id_start  node_id_end            rel_type  \\\n",
       "0       23000436     20111548     intermediary_of   \n",
       "1       23000246     20050981     intermediary_of   \n",
       "2       56008636     58080065  registered_address   \n",
       "3      110020422    110088539        same_name_as   \n",
       "4       12171472     12180735             similar   \n",
       "\n",
       "                          link                                    sourceID  \\\n",
       "0              intermediary of                               Bahamas Leaks   \n",
       "1              intermediary of                               Bahamas Leaks   \n",
       "2           registered address  Paradise Papers - Malta corporate registry   \n",
       "3                 same name as                                         NaN   \n",
       "4  similar name and address as                                         NaN   \n",
       "\n",
       "  address_start                name_start countries_start country_codes_start  \\\n",
       "0           NaN  UNIVERSAL LEGAL SERVICES         Bahamas                 BHS   \n",
       "1           NaN    SMITH, SMITH & COMPANY         Bahamas                 BHS   \n",
       "2           NaN           FLORIAN BREGASI         Albania                 ALB   \n",
       "3           NaN             WARD BRIAN C.             NaN                 NaN   \n",
       "4           NaN                   XU FENG           China                 CHN   \n",
       "\n",
       "                                  sourceID_start  ...  \\\n",
       "0                                  Bahamas Leaks  ...   \n",
       "1                                  Bahamas Leaks  ...   \n",
       "2     Paradise Papers - Malta corporate registry  ...   \n",
       "3  Paradise Papers - Barbados corporate registry  ...   \n",
       "4                                  Panama Papers  ...   \n",
       "\n",
       "  jurisdiction_description_end company_type_end internal_id_end  \\\n",
       "0                      Bahamas              NaN        111548.0   \n",
       "1                      Bahamas              NaN         50981.0   \n",
       "2                          NaN              NaN             NaN   \n",
       "3                          NaN              NaN             NaN   \n",
       "4                          NaN              NaN             NaN   \n",
       "\n",
       "  incorporation_date_end inactivation_date_end struck_off_date_end  \\\n",
       "0            17-JUL-2000                   NaN         31-AUG-2002   \n",
       "1            19-DEC-1996                   NaN         01-JAN-1998   \n",
       "2                    NaN                   NaN                 NaN   \n",
       "3                    NaN                   NaN                 NaN   \n",
       "4                    NaN                   NaN                 NaN   \n",
       "\n",
       "  dorm_date_end status_end service_provider_end ibcRUC_end  \n",
       "0           NaN        NaN                  NaN    111548B  \n",
       "1           NaN        NaN                  NaN     50981B  \n",
       "2           NaN        NaN                  NaN        NaN  \n",
       "3           NaN        NaN                  NaN        NaN  \n",
       "4           NaN        NaN                  NaN        NaN  \n",
       "\n",
       "[5 rows x 42 columns]"
      ]
     },
     "execution_count": 159,
     "metadata": {},
     "output_type": "execute_result"
    }
   ],
   "source": [
    "# load data\n",
    "\n",
    "df = pd.read_csv(\"rels_sample.csv\")\n",
    "df.head()"
   ]
  },
  {
   "cell_type": "code",
   "execution_count": 160,
   "id": "484bcafd-02fd-4b89-bb07-00b893392520",
   "metadata": {},
   "outputs": [],
   "source": [
    "top_jurisdictions = (\n",
    "    df[df['node_type_end'] == 'entity']['jurisdiction_description_end']\n",
    "    .value_counts()\n",
    "    .nlargest(5)\n",
    "    .index\n",
    "    .tolist()\n",
    ")\n",
    "\n",
    "df_filtered = df[\n",
    "    (df['node_type_start'] == 'officer') & \n",
    "    (df['node_type_end'] == 'entity') &\n",
    "    (df['jurisdiction_description_end'].isin(top_jurisdictions))\n",
    "]"
   ]
  },
  {
   "cell_type": "code",
   "execution_count": 161,
   "id": "a0e83204-6fee-4f51-8a4e-39f0db012868",
   "metadata": {},
   "outputs": [
    {
     "name": "stdout",
     "output_type": "stream",
     "text": [
      "jurisdiction_description_end\n",
      "Malta                     84806\n",
      "British Virgin Islands    58990\n",
      "Bermuda                   24656\n",
      "Barbados                  21284\n",
      "Bahamas                    7970\n",
      "Name: count, dtype: int64\n"
     ]
    }
   ],
   "source": [
    "print(df_filtered['jurisdiction_description_end'].value_counts())"
   ]
  },
  {
   "cell_type": "code",
   "execution_count": 162,
   "id": "74b528ed-e77e-4d6f-a09c-dee040ab6709",
   "metadata": {},
   "outputs": [
    {
     "name": "stdout",
     "output_type": "stream",
     "text": [
      "['Malta', 'British Virgin Islands', 'Bahamas', 'Bermuda', 'Barbados']\n"
     ]
    }
   ],
   "source": [
    "print(top_jurisdictions)"
   ]
  },
  {
   "cell_type": "code",
   "execution_count": 163,
   "id": "a1227b83-cbc8-46bf-af2b-bfe4a0e9eea0",
   "metadata": {},
   "outputs": [
    {
     "name": "stdout",
     "output_type": "stream",
     "text": [
      "             jurisdiction  count\n",
      "0                   Malta  84806\n",
      "1  British Virgin Islands  58990\n",
      "2                 Bermuda  24656\n",
      "3                Barbados  21284\n",
      "4                 Bahamas   7970\n"
     ]
    }
   ],
   "source": [
    "juris_counts = (\n",
    "    df_filtered[df_filtered['jurisdiction_description_end'].isin(top_jurisdictions)]\n",
    "    ['jurisdiction_description_end']\n",
    "    .value_counts()\n",
    "    .reset_index()\n",
    ")\n",
    "\n",
    "juris_counts.columns = ['jurisdiction', 'count']\n",
    "print(juris_counts)"
   ]
  },
  {
   "cell_type": "code",
   "execution_count": 185,
   "id": "d259bd4e-df3a-4810-8c3e-90f95335b5cd",
   "metadata": {},
   "outputs": [
    {
     "name": "stdout",
     "output_type": "stream",
     "text": [
      "                  country  count\n",
      "0                   Malta  58394\n",
      "1          United Kingdom  14592\n",
      "2  British Virgin Islands  11171\n",
      "3           United States  11108\n",
      "4                 Bermuda   9815\n",
      "5               Hong Kong   8816\n",
      "6               Singapore   8683\n",
      "7               Indonesia   7317\n",
      "8                   China   6927\n",
      "9                Thailand   6219\n"
     ]
    }
   ],
   "source": [
    "df_filtered['countries_start'] = df_filtered['countries_start'].fillna(\"\").astype(str)\n",
    "df_filtered['countries_start'] = df_filtered['countries_start'].str.split(';')\n",
    "df_filtered = df_filtered.explode('countries_start')\n",
    "\n",
    "df_filtered['countries_start'] = df_filtered['countries_start'].str.strip()\n",
    "\n",
    "df_filtered = df_filtered[df_filtered['countries_start'] != \"\"]\n",
    "\n",
    "df_filtered = df_filtered[\n",
    "    (df_filtered['countries_start'].str.lower() != \"not identified\") &\n",
    "    (df_filtered['countries_start'] != \"\")\n",
    "]\n",
    "country_counts = df_filtered['countries_start'].value_counts().reset_index()\n",
    "country_counts.columns = ['country', 'count']\n",
    "\n",
    "print(country_counts.head(10))"
   ]
  },
  {
   "cell_type": "code",
   "execution_count": 186,
   "id": "35bfc9d0-aabb-412c-bb08-a80d90cfcaaa",
   "metadata": {},
   "outputs": [],
   "source": [
    "flow_counts = df_filtered.groupby(['countries_start', 'jurisdiction_description_end']).size().reset_index(name='count')\n",
    "\n",
    "top_jurisdictions = ['Malta', 'British Virgin Islands', 'Bahamas', 'Bermuda', 'Barbados']\n",
    "flow_counts = flow_counts[flow_counts['jurisdiction_description_end'].isin(top_jurisdictions)]\n",
    "\n",
    "top_origins = (\n",
    "    flow_counts.groupby('countries_start')['count']\n",
    "    .sum()\n",
    "    .nlargest(10)\n",
    "    .index\n",
    "    .tolist()\n",
    ")\n",
    "labels = list(top_origins) + [j for j in top_jurisdictions if j not in top_origins]\n",
    "label_to_index = {label: i for i, label in enumerate(labels)}\n",
    "\n",
    "flow_counts['source'] = flow_counts['countries_start'].map(label_to_index)\n",
    "flow_counts['target'] = flow_counts['jurisdiction_description_end'].map(label_to_index)\n"
   ]
  },
  {
   "cell_type": "code",
   "execution_count": 187,
   "id": "6e8314f1-d3ef-41f5-ac66-9b51216f8741",
   "metadata": {},
   "outputs": [
    {
     "name": "stdout",
     "output_type": "stream",
     "text": [
      "jurisdiction_description_end\n",
      "British Virgin Islands    208\n",
      "Malta                     176\n",
      "Bermuda                   129\n",
      "Bahamas                   114\n",
      "Barbados                    5\n",
      "Name: count, dtype: int64\n"
     ]
    }
   ],
   "source": [
    "print(flow_counts['jurisdiction_description_end'].value_counts())"
   ]
  },
  {
   "cell_type": "code",
   "execution_count": 218,
   "id": "5e4e6002-319f-41f5-89df-7db697d4354d",
   "metadata": {},
   "outputs": [
    {
     "data": {
      "application/vnd.plotly.v1+json": {
       "config": {
        "plotlyServerURL": "https://plot.ly"
       },
       "data": [
        {
         "link": {
          "color": [
           "#FFA15A",
           "#FFA15A",
           "#FFA15A",
           "#FFA15A",
           "#FFA15A",
           "#00CC96",
           "#00CC96",
           "#00CC96",
           "#00CC96",
           "#FF97FF",
           "#FF97FF",
           "#FF97FF",
           "#FF97FF",
           "#19D3F3",
           "#19D3F3",
           "#19D3F3",
           "#19D3F3",
           "#B6E880",
           "#B6E880",
           "#B6E880",
           "#B6E880",
           "#636EFA",
           "#636EFA",
           "#636EFA",
           "#FF6692",
           "#FF6692",
           "#FF6692",
           "#FF6692",
           "#FECB52",
           "#FECB52",
           "#FECB52",
           "#FECB52",
           "#EF553B",
           "#EF553B",
           "#EF553B",
           "#EF553B",
           "#AB63FA",
           "#AB63FA",
           "#AB63FA",
           "#AB63FA",
           "#AB63FA"
          ],
          "source": [
           13,
           13,
           13,
           13,
           13,
           11,
           11,
           11,
           11,
           8,
           8,
           8,
           8,
           5,
           5,
           5,
           5,
           7,
           7,
           7,
           7,
           10,
           10,
           10,
           6,
           6,
           6,
           6,
           9,
           9,
           9,
           9,
           1,
           1,
           1,
           1,
           3,
           3,
           3,
           3,
           3
          ],
          "target": [
           12,
           14,
           13,
           11,
           10,
           12,
           13,
           11,
           10,
           12,
           13,
           11,
           10,
           12,
           13,
           11,
           10,
           12,
           13,
           11,
           10,
           13,
           11,
           10,
           12,
           13,
           11,
           10,
           12,
           13,
           11,
           10,
           12,
           13,
           11,
           10,
           12,
           14,
           13,
           11,
           10
          ],
          "value": [
           1,
           1,
           9596,
           164,
           53,
           148,
           190,
           10356,
           477,
           20,
           663,
           5915,
           329,
           44,
           1337,
           7315,
           120,
           8,
           48,
           7252,
           9,
           11,
           63,
           58320,
           13,
           333,
           8227,
           110,
           9,
           55,
           6130,
           25,
           76,
           7813,
           1817,
           4886,
           30,
           2,
           8559,
           1165,
           1352
          ]
         },
         "node": {
          "color": [
           "#636EFA",
           "#EF553B",
           "#00CC96",
           "#AB63FA",
           "#FFA15A",
           "#19D3F3",
           "#FF6692",
           "#B6E880",
           "#FF97FF",
           "#FECB52",
           "#636EFA",
           "#00CC96",
           "lightgray",
           "#FFA15A",
           "lightgray"
          ],
          "label": [
           "Malta",
           "United Kingdom",
           "British Virgin Islands",
           "United States",
           "Bermuda",
           "Hong Kong",
           "Singapore",
           "Indonesia",
           "China",
           "Thailand",
           "Malta",
           "British Virgin Islands",
           "Bahamas",
           "Bermuda",
           "Barbados"
          ],
          "line": {
           "color": "black",
           "width": 0.5
          },
          "pad": 30,
          "thickness": 20
         },
         "type": "sankey"
        }
       ],
       "layout": {
        "font": {
         "size": 12
        },
        "height": 600,
        "template": {
         "data": {
          "bar": [
           {
            "error_x": {
             "color": "#2a3f5f"
            },
            "error_y": {
             "color": "#2a3f5f"
            },
            "marker": {
             "line": {
              "color": "#E5ECF6",
              "width": 0.5
             },
             "pattern": {
              "fillmode": "overlay",
              "size": 10,
              "solidity": 0.2
             }
            },
            "type": "bar"
           }
          ],
          "barpolar": [
           {
            "marker": {
             "line": {
              "color": "#E5ECF6",
              "width": 0.5
             },
             "pattern": {
              "fillmode": "overlay",
              "size": 10,
              "solidity": 0.2
             }
            },
            "type": "barpolar"
           }
          ],
          "carpet": [
           {
            "aaxis": {
             "endlinecolor": "#2a3f5f",
             "gridcolor": "white",
             "linecolor": "white",
             "minorgridcolor": "white",
             "startlinecolor": "#2a3f5f"
            },
            "baxis": {
             "endlinecolor": "#2a3f5f",
             "gridcolor": "white",
             "linecolor": "white",
             "minorgridcolor": "white",
             "startlinecolor": "#2a3f5f"
            },
            "type": "carpet"
           }
          ],
          "choropleth": [
           {
            "colorbar": {
             "outlinewidth": 0,
             "ticks": ""
            },
            "type": "choropleth"
           }
          ],
          "contour": [
           {
            "colorbar": {
             "outlinewidth": 0,
             "ticks": ""
            },
            "colorscale": [
             [
              0,
              "#0d0887"
             ],
             [
              0.1111111111111111,
              "#46039f"
             ],
             [
              0.2222222222222222,
              "#7201a8"
             ],
             [
              0.3333333333333333,
              "#9c179e"
             ],
             [
              0.4444444444444444,
              "#bd3786"
             ],
             [
              0.5555555555555556,
              "#d8576b"
             ],
             [
              0.6666666666666666,
              "#ed7953"
             ],
             [
              0.7777777777777778,
              "#fb9f3a"
             ],
             [
              0.8888888888888888,
              "#fdca26"
             ],
             [
              1,
              "#f0f921"
             ]
            ],
            "type": "contour"
           }
          ],
          "contourcarpet": [
           {
            "colorbar": {
             "outlinewidth": 0,
             "ticks": ""
            },
            "type": "contourcarpet"
           }
          ],
          "heatmap": [
           {
            "colorbar": {
             "outlinewidth": 0,
             "ticks": ""
            },
            "colorscale": [
             [
              0,
              "#0d0887"
             ],
             [
              0.1111111111111111,
              "#46039f"
             ],
             [
              0.2222222222222222,
              "#7201a8"
             ],
             [
              0.3333333333333333,
              "#9c179e"
             ],
             [
              0.4444444444444444,
              "#bd3786"
             ],
             [
              0.5555555555555556,
              "#d8576b"
             ],
             [
              0.6666666666666666,
              "#ed7953"
             ],
             [
              0.7777777777777778,
              "#fb9f3a"
             ],
             [
              0.8888888888888888,
              "#fdca26"
             ],
             [
              1,
              "#f0f921"
             ]
            ],
            "type": "heatmap"
           }
          ],
          "heatmapgl": [
           {
            "colorbar": {
             "outlinewidth": 0,
             "ticks": ""
            },
            "colorscale": [
             [
              0,
              "#0d0887"
             ],
             [
              0.1111111111111111,
              "#46039f"
             ],
             [
              0.2222222222222222,
              "#7201a8"
             ],
             [
              0.3333333333333333,
              "#9c179e"
             ],
             [
              0.4444444444444444,
              "#bd3786"
             ],
             [
              0.5555555555555556,
              "#d8576b"
             ],
             [
              0.6666666666666666,
              "#ed7953"
             ],
             [
              0.7777777777777778,
              "#fb9f3a"
             ],
             [
              0.8888888888888888,
              "#fdca26"
             ],
             [
              1,
              "#f0f921"
             ]
            ],
            "type": "heatmapgl"
           }
          ],
          "histogram": [
           {
            "marker": {
             "pattern": {
              "fillmode": "overlay",
              "size": 10,
              "solidity": 0.2
             }
            },
            "type": "histogram"
           }
          ],
          "histogram2d": [
           {
            "colorbar": {
             "outlinewidth": 0,
             "ticks": ""
            },
            "colorscale": [
             [
              0,
              "#0d0887"
             ],
             [
              0.1111111111111111,
              "#46039f"
             ],
             [
              0.2222222222222222,
              "#7201a8"
             ],
             [
              0.3333333333333333,
              "#9c179e"
             ],
             [
              0.4444444444444444,
              "#bd3786"
             ],
             [
              0.5555555555555556,
              "#d8576b"
             ],
             [
              0.6666666666666666,
              "#ed7953"
             ],
             [
              0.7777777777777778,
              "#fb9f3a"
             ],
             [
              0.8888888888888888,
              "#fdca26"
             ],
             [
              1,
              "#f0f921"
             ]
            ],
            "type": "histogram2d"
           }
          ],
          "histogram2dcontour": [
           {
            "colorbar": {
             "outlinewidth": 0,
             "ticks": ""
            },
            "colorscale": [
             [
              0,
              "#0d0887"
             ],
             [
              0.1111111111111111,
              "#46039f"
             ],
             [
              0.2222222222222222,
              "#7201a8"
             ],
             [
              0.3333333333333333,
              "#9c179e"
             ],
             [
              0.4444444444444444,
              "#bd3786"
             ],
             [
              0.5555555555555556,
              "#d8576b"
             ],
             [
              0.6666666666666666,
              "#ed7953"
             ],
             [
              0.7777777777777778,
              "#fb9f3a"
             ],
             [
              0.8888888888888888,
              "#fdca26"
             ],
             [
              1,
              "#f0f921"
             ]
            ],
            "type": "histogram2dcontour"
           }
          ],
          "mesh3d": [
           {
            "colorbar": {
             "outlinewidth": 0,
             "ticks": ""
            },
            "type": "mesh3d"
           }
          ],
          "parcoords": [
           {
            "line": {
             "colorbar": {
              "outlinewidth": 0,
              "ticks": ""
             }
            },
            "type": "parcoords"
           }
          ],
          "pie": [
           {
            "automargin": true,
            "type": "pie"
           }
          ],
          "scatter": [
           {
            "fillpattern": {
             "fillmode": "overlay",
             "size": 10,
             "solidity": 0.2
            },
            "type": "scatter"
           }
          ],
          "scatter3d": [
           {
            "line": {
             "colorbar": {
              "outlinewidth": 0,
              "ticks": ""
             }
            },
            "marker": {
             "colorbar": {
              "outlinewidth": 0,
              "ticks": ""
             }
            },
            "type": "scatter3d"
           }
          ],
          "scattercarpet": [
           {
            "marker": {
             "colorbar": {
              "outlinewidth": 0,
              "ticks": ""
             }
            },
            "type": "scattercarpet"
           }
          ],
          "scattergeo": [
           {
            "marker": {
             "colorbar": {
              "outlinewidth": 0,
              "ticks": ""
             }
            },
            "type": "scattergeo"
           }
          ],
          "scattergl": [
           {
            "marker": {
             "colorbar": {
              "outlinewidth": 0,
              "ticks": ""
             }
            },
            "type": "scattergl"
           }
          ],
          "scattermapbox": [
           {
            "marker": {
             "colorbar": {
              "outlinewidth": 0,
              "ticks": ""
             }
            },
            "type": "scattermapbox"
           }
          ],
          "scatterpolar": [
           {
            "marker": {
             "colorbar": {
              "outlinewidth": 0,
              "ticks": ""
             }
            },
            "type": "scatterpolar"
           }
          ],
          "scatterpolargl": [
           {
            "marker": {
             "colorbar": {
              "outlinewidth": 0,
              "ticks": ""
             }
            },
            "type": "scatterpolargl"
           }
          ],
          "scatterternary": [
           {
            "marker": {
             "colorbar": {
              "outlinewidth": 0,
              "ticks": ""
             }
            },
            "type": "scatterternary"
           }
          ],
          "surface": [
           {
            "colorbar": {
             "outlinewidth": 0,
             "ticks": ""
            },
            "colorscale": [
             [
              0,
              "#0d0887"
             ],
             [
              0.1111111111111111,
              "#46039f"
             ],
             [
              0.2222222222222222,
              "#7201a8"
             ],
             [
              0.3333333333333333,
              "#9c179e"
             ],
             [
              0.4444444444444444,
              "#bd3786"
             ],
             [
              0.5555555555555556,
              "#d8576b"
             ],
             [
              0.6666666666666666,
              "#ed7953"
             ],
             [
              0.7777777777777778,
              "#fb9f3a"
             ],
             [
              0.8888888888888888,
              "#fdca26"
             ],
             [
              1,
              "#f0f921"
             ]
            ],
            "type": "surface"
           }
          ],
          "table": [
           {
            "cells": {
             "fill": {
              "color": "#EBF0F8"
             },
             "line": {
              "color": "white"
             }
            },
            "header": {
             "fill": {
              "color": "#C8D4E3"
             },
             "line": {
              "color": "white"
             }
            },
            "type": "table"
           }
          ]
         },
         "layout": {
          "annotationdefaults": {
           "arrowcolor": "#2a3f5f",
           "arrowhead": 0,
           "arrowwidth": 1
          },
          "autotypenumbers": "strict",
          "coloraxis": {
           "colorbar": {
            "outlinewidth": 0,
            "ticks": ""
           }
          },
          "colorscale": {
           "diverging": [
            [
             0,
             "#8e0152"
            ],
            [
             0.1,
             "#c51b7d"
            ],
            [
             0.2,
             "#de77ae"
            ],
            [
             0.3,
             "#f1b6da"
            ],
            [
             0.4,
             "#fde0ef"
            ],
            [
             0.5,
             "#f7f7f7"
            ],
            [
             0.6,
             "#e6f5d0"
            ],
            [
             0.7,
             "#b8e186"
            ],
            [
             0.8,
             "#7fbc41"
            ],
            [
             0.9,
             "#4d9221"
            ],
            [
             1,
             "#276419"
            ]
           ],
           "sequential": [
            [
             0,
             "#0d0887"
            ],
            [
             0.1111111111111111,
             "#46039f"
            ],
            [
             0.2222222222222222,
             "#7201a8"
            ],
            [
             0.3333333333333333,
             "#9c179e"
            ],
            [
             0.4444444444444444,
             "#bd3786"
            ],
            [
             0.5555555555555556,
             "#d8576b"
            ],
            [
             0.6666666666666666,
             "#ed7953"
            ],
            [
             0.7777777777777778,
             "#fb9f3a"
            ],
            [
             0.8888888888888888,
             "#fdca26"
            ],
            [
             1,
             "#f0f921"
            ]
           ],
           "sequentialminus": [
            [
             0,
             "#0d0887"
            ],
            [
             0.1111111111111111,
             "#46039f"
            ],
            [
             0.2222222222222222,
             "#7201a8"
            ],
            [
             0.3333333333333333,
             "#9c179e"
            ],
            [
             0.4444444444444444,
             "#bd3786"
            ],
            [
             0.5555555555555556,
             "#d8576b"
            ],
            [
             0.6666666666666666,
             "#ed7953"
            ],
            [
             0.7777777777777778,
             "#fb9f3a"
            ],
            [
             0.8888888888888888,
             "#fdca26"
            ],
            [
             1,
             "#f0f921"
            ]
           ]
          },
          "colorway": [
           "#636efa",
           "#EF553B",
           "#00cc96",
           "#ab63fa",
           "#FFA15A",
           "#19d3f3",
           "#FF6692",
           "#B6E880",
           "#FF97FF",
           "#FECB52"
          ],
          "font": {
           "color": "#2a3f5f"
          },
          "geo": {
           "bgcolor": "white",
           "lakecolor": "white",
           "landcolor": "#E5ECF6",
           "showlakes": true,
           "showland": true,
           "subunitcolor": "white"
          },
          "hoverlabel": {
           "align": "left"
          },
          "hovermode": "closest",
          "mapbox": {
           "style": "light"
          },
          "paper_bgcolor": "white",
          "plot_bgcolor": "#E5ECF6",
          "polar": {
           "angularaxis": {
            "gridcolor": "white",
            "linecolor": "white",
            "ticks": ""
           },
           "bgcolor": "#E5ECF6",
           "radialaxis": {
            "gridcolor": "white",
            "linecolor": "white",
            "ticks": ""
           }
          },
          "scene": {
           "xaxis": {
            "backgroundcolor": "#E5ECF6",
            "gridcolor": "white",
            "gridwidth": 2,
            "linecolor": "white",
            "showbackground": true,
            "ticks": "",
            "zerolinecolor": "white"
           },
           "yaxis": {
            "backgroundcolor": "#E5ECF6",
            "gridcolor": "white",
            "gridwidth": 2,
            "linecolor": "white",
            "showbackground": true,
            "ticks": "",
            "zerolinecolor": "white"
           },
           "zaxis": {
            "backgroundcolor": "#E5ECF6",
            "gridcolor": "white",
            "gridwidth": 2,
            "linecolor": "white",
            "showbackground": true,
            "ticks": "",
            "zerolinecolor": "white"
           }
          },
          "shapedefaults": {
           "line": {
            "color": "#2a3f5f"
           }
          },
          "ternary": {
           "aaxis": {
            "gridcolor": "white",
            "linecolor": "white",
            "ticks": ""
           },
           "baxis": {
            "gridcolor": "white",
            "linecolor": "white",
            "ticks": ""
           },
           "bgcolor": "#E5ECF6",
           "caxis": {
            "gridcolor": "white",
            "linecolor": "white",
            "ticks": ""
           }
          },
          "title": {
           "x": 0.05
          },
          "xaxis": {
           "automargin": true,
           "gridcolor": "white",
           "linecolor": "white",
           "ticks": "",
           "title": {
            "standoff": 15
           },
           "zerolinecolor": "white",
           "zerolinewidth": 2
          },
          "yaxis": {
           "automargin": true,
           "gridcolor": "white",
           "linecolor": "white",
           "ticks": "",
           "title": {
            "standoff": 15
           },
           "zerolinecolor": "white",
           "zerolinewidth": 2
          }
         }
        },
        "title": {
         "text": "Top Officer Countries → Top 5 Entity Jurisdictions"
        },
        "width": 1000
       }
      },
      "image/png": "[encoded data removed]",
      "text/html": [
       "<div>                            <div id=\"6cb17494-c2c0-47c2-9822-ddceac7b6d02\" class=\"plotly-graph-div\" style=\"height:600px; width:1000px;\"></div>            <script type=\"text/javascript\">                require([\"plotly\"], function(Plotly) {                    window.PLOTLYENV=window.PLOTLYENV || {};                                    if (document.getElementById(\"6cb17494-c2c0-47c2-9822-ddceac7b6d02\")) {                    Plotly.newPlot(                        \"6cb17494-c2c0-47c2-9822-ddceac7b6d02\",                        [{\"link\":{\"color\":[\"#FFA15A\",\"#FFA15A\",\"#FFA15A\",\"#FFA15A\",\"#FFA15A\",\"#00CC96\",\"#00CC96\",\"#00CC96\",\"#00CC96\",\"#FF97FF\",\"#FF97FF\",\"#FF97FF\",\"#FF97FF\",\"#19D3F3\",\"#19D3F3\",\"#19D3F3\",\"#19D3F3\",\"#B6E880\",\"#B6E880\",\"#B6E880\",\"#B6E880\",\"#636EFA\",\"#636EFA\",\"#636EFA\",\"#FF6692\",\"#FF6692\",\"#FF6692\",\"#FF6692\",\"#FECB52\",\"#FECB52\",\"#FECB52\",\"#FECB52\",\"#EF553B\",\"#EF553B\",\"#EF553B\",\"#EF553B\",\"#AB63FA\",\"#AB63FA\",\"#AB63FA\",\"#AB63FA\",\"#AB63FA\"],\"source\":[13,13,13,13,13,11,11,11,11,8,8,8,8,5,5,5,5,7,7,7,7,10,10,10,6,6,6,6,9,9,9,9,1,1,1,1,3,3,3,3,3],\"target\":[12,14,13,11,10,12,13,11,10,12,13,11,10,12,13,11,10,12,13,11,10,13,11,10,12,13,11,10,12,13,11,10,12,13,11,10,12,14,13,11,10],\"value\":[1,1,9596,164,53,148,190,10356,477,20,663,5915,329,44,1337,7315,120,8,48,7252,9,11,63,58320,13,333,8227,110,9,55,6130,25,76,7813,1817,4886,30,2,8559,1165,1352]},\"node\":{\"color\":[\"#636EFA\",\"#EF553B\",\"#00CC96\",\"#AB63FA\",\"#FFA15A\",\"#19D3F3\",\"#FF6692\",\"#B6E880\",\"#FF97FF\",\"#FECB52\",\"#636EFA\",\"#00CC96\",\"lightgray\",\"#FFA15A\",\"lightgray\"],\"label\":[\"Malta\",\"United Kingdom\",\"British Virgin Islands\",\"United States\",\"Bermuda\",\"Hong Kong\",\"Singapore\",\"Indonesia\",\"China\",\"Thailand\",\"Malta\",\"British Virgin Islands\",\"Bahamas\",\"Bermuda\",\"Barbados\"],\"line\":{\"color\":\"black\",\"width\":0.5},\"pad\":30,\"thickness\":20},\"type\":\"sankey\"}],                        {\"template\":{\"data\":{\"histogram2dcontour\":[{\"type\":\"histogram2dcontour\",\"colorbar\":{\"outlinewidth\":0,\"ticks\":\"\"},\"colorscale\":[[0.0,\"#0d0887\"],[0.1111111111111111,\"#46039f\"],[0.2222222222222222,\"#7201a8\"],[0.3333333333333333,\"#9c179e\"],[0.4444444444444444,\"#bd3786\"],[0.5555555555555556,\"#d8576b\"],[0.6666666666666666,\"#ed7953\"],[0.7777777777777778,\"#fb9f3a\"],[0.8888888888888888,\"#fdca26\"],[1.0,\"#f0f921\"]]}],\"choropleth\":[{\"type\":\"choropleth\",\"colorbar\":{\"outlinewidth\":0,\"ticks\":\"\"}}],\"histogram2d\":[{\"type\":\"histogram2d\",\"colorbar\":{\"outlinewidth\":0,\"ticks\":\"\"},\"colorscale\":[[0.0,\"#0d0887\"],[0.1111111111111111,\"#46039f\"],[0.2222222222222222,\"#7201a8\"],[0.3333333333333333,\"#9c179e\"],[0.4444444444444444,\"#bd3786\"],[0.5555555555555556,\"#d8576b\"],[0.6666666666666666,\"#ed7953\"],[0.7777777777777778,\"#fb9f3a\"],[0.8888888888888888,\"#fdca26\"],[1.0,\"#f0f921\"]]}],\"heatmap\":[{\"type\":\"heatmap\",\"colorbar\":{\"outlinewidth\":0,\"ticks\":\"\"},\"colorscale\":[[0.0,\"#0d0887\"],[0.1111111111111111,\"#46039f\"],[0.2222222222222222,\"#7201a8\"],[0.3333333333333333,\"#9c179e\"],[0.4444444444444444,\"#bd3786\"],[0.5555555555555556,\"#d8576b\"],[0.6666666666666666,\"#ed7953\"],[0.7777777777777778,\"#fb9f3a\"],[0.8888888888888888,\"#fdca26\"],[1.0,\"#f0f921\"]]}],\"heatmapgl\":[{\"type\":\"heatmapgl\",\"colorbar\":{\"outlinewidth\":0,\"ticks\":\"\"},\"colorscale\":[[0.0,\"#0d0887\"],[0.1111111111111111,\"#46039f\"],[0.2222222222222222,\"#7201a8\"],[0.3333333333333333,\"#9c179e\"],[0.4444444444444444,\"#bd3786\"],[0.5555555555555556,\"#d8576b\"],[0.6666666666666666,\"#ed7953\"],[0.7777777777777778,\"#fb9f3a\"],[0.8888888888888888,\"#fdca26\"],[1.0,\"#f0f921\"]]}],\"contourcarpet\":[{\"type\":\"contourcarpet\",\"colorbar\":{\"outlinewidth\":0,\"ticks\":\"\"}}],\"contour\":[{\"type\":\"contour\",\"colorbar\":{\"outlinewidth\":0,\"ticks\":\"\"},\"colorscale\":[[0.0,\"#0d0887\"],[0.1111111111111111,\"#46039f\"],[0.2222222222222222,\"#7201a8\"],[0.3333333333333333,\"#9c179e\"],[0.4444444444444444,\"#bd3786\"],[0.5555555555555556,\"#d8576b\"],[0.6666666666666666,\"#ed7953\"],[0.7777777777777778,\"#fb9f3a\"],[0.8888888888888888,\"#fdca26\"],[1.0,\"#f0f921\"]]}],\"surface\":[{\"type\":\"surface\",\"colorbar\":{\"outlinewidth\":0,\"ticks\":\"\"},\"colorscale\":[[0.0,\"#0d0887\"],[0.1111111111111111,\"#46039f\"],[0.2222222222222222,\"#7201a8\"],[0.3333333333333333,\"#9c179e\"],[0.4444444444444444,\"#bd3786\"],[0.5555555555555556,\"#d8576b\"],[0.6666666666666666,\"#ed7953\"],[0.7777777777777778,\"#fb9f3a\"],[0.8888888888888888,\"#fdca26\"],[1.0,\"#f0f921\"]]}],\"mesh3d\":[{\"type\":\"mesh3d\",\"colorbar\":{\"outlinewidth\":0,\"ticks\":\"\"}}],\"scatter\":[{\"fillpattern\":{\"fillmode\":\"overlay\",\"size\":10,\"solidity\":0.2},\"type\":\"scatter\"}],\"parcoords\":[{\"type\":\"parcoords\",\"line\":{\"colorbar\":{\"outlinewidth\":0,\"ticks\":\"\"}}}],\"scatterpolargl\":[{\"type\":\"scatterpolargl\",\"marker\":{\"colorbar\":{\"outlinewidth\":0,\"ticks\":\"\"}}}],\"bar\":[{\"error_x\":{\"color\":\"#2a3f5f\"},\"error_y\":{\"color\":\"#2a3f5f\"},\"marker\":{\"line\":{\"color\":\"#E5ECF6\",\"width\":0.5},\"pattern\":{\"fillmode\":\"overlay\",\"size\":10,\"solidity\":0.2}},\"type\":\"bar\"}],\"scattergeo\":[{\"type\":\"scattergeo\",\"marker\":{\"colorbar\":{\"outlinewidth\":0,\"ticks\":\"\"}}}],\"scatterpolar\":[{\"type\":\"scatterpolar\",\"marker\":{\"colorbar\":{\"outlinewidth\":0,\"ticks\":\"\"}}}],\"histogram\":[{\"marker\":{\"pattern\":{\"fillmode\":\"overlay\",\"size\":10,\"solidity\":0.2}},\"type\":\"histogram\"}],\"scattergl\":[{\"type\":\"scattergl\",\"marker\":{\"colorbar\":{\"outlinewidth\":0,\"ticks\":\"\"}}}],\"scatter3d\":[{\"type\":\"scatter3d\",\"line\":{\"colorbar\":{\"outlinewidth\":0,\"ticks\":\"\"}},\"marker\":{\"colorbar\":{\"outlinewidth\":0,\"ticks\":\"\"}}}],\"scattermapbox\":[{\"type\":\"scattermapbox\",\"marker\":{\"colorbar\":{\"outlinewidth\":0,\"ticks\":\"\"}}}],\"scatterternary\":[{\"type\":\"scatterternary\",\"marker\":{\"colorbar\":{\"outlinewidth\":0,\"ticks\":\"\"}}}],\"scattercarpet\":[{\"type\":\"scattercarpet\",\"marker\":{\"colorbar\":{\"outlinewidth\":0,\"ticks\":\"\"}}}],\"carpet\":[{\"aaxis\":{\"endlinecolor\":\"#2a3f5f\",\"gridcolor\":\"white\",\"linecolor\":\"white\",\"minorgridcolor\":\"white\",\"startlinecolor\":\"#2a3f5f\"},\"baxis\":{\"endlinecolor\":\"#2a3f5f\",\"gridcolor\":\"white\",\"linecolor\":\"white\",\"minorgridcolor\":\"white\",\"startlinecolor\":\"#2a3f5f\"},\"type\":\"carpet\"}],\"table\":[{\"cells\":{\"fill\":{\"color\":\"#EBF0F8\"},\"line\":{\"color\":\"white\"}},\"header\":{\"fill\":{\"color\":\"#C8D4E3\"},\"line\":{\"color\":\"white\"}},\"type\":\"table\"}],\"barpolar\":[{\"marker\":{\"line\":{\"color\":\"#E5ECF6\",\"width\":0.5},\"pattern\":{\"fillmode\":\"overlay\",\"size\":10,\"solidity\":0.2}},\"type\":\"barpolar\"}],\"pie\":[{\"automargin\":true,\"type\":\"pie\"}]},\"layout\":{\"autotypenumbers\":\"strict\",\"colorway\":[\"#636efa\",\"#EF553B\",\"#00cc96\",\"#ab63fa\",\"#FFA15A\",\"#19d3f3\",\"#FF6692\",\"#B6E880\",\"#FF97FF\",\"#FECB52\"],\"font\":{\"color\":\"#2a3f5f\"},\"hovermode\":\"closest\",\"hoverlabel\":{\"align\":\"left\"},\"paper_bgcolor\":\"white\",\"plot_bgcolor\":\"#E5ECF6\",\"polar\":{\"bgcolor\":\"#E5ECF6\",\"angularaxis\":{\"gridcolor\":\"white\",\"linecolor\":\"white\",\"ticks\":\"\"},\"radialaxis\":{\"gridcolor\":\"white\",\"linecolor\":\"white\",\"ticks\":\"\"}},\"ternary\":{\"bgcolor\":\"#E5ECF6\",\"aaxis\":{\"gridcolor\":\"white\",\"linecolor\":\"white\",\"ticks\":\"\"},\"baxis\":{\"gridcolor\":\"white\",\"linecolor\":\"white\",\"ticks\":\"\"},\"caxis\":{\"gridcolor\":\"white\",\"linecolor\":\"white\",\"ticks\":\"\"}},\"coloraxis\":{\"colorbar\":{\"outlinewidth\":0,\"ticks\":\"\"}},\"colorscale\":{\"sequential\":[[0.0,\"#0d0887\"],[0.1111111111111111,\"#46039f\"],[0.2222222222222222,\"#7201a8\"],[0.3333333333333333,\"#9c179e\"],[0.4444444444444444,\"#bd3786\"],[0.5555555555555556,\"#d8576b\"],[0.6666666666666666,\"#ed7953\"],[0.7777777777777778,\"#fb9f3a\"],[0.8888888888888888,\"#fdca26\"],[1.0,\"#f0f921\"]],\"sequentialminus\":[[0.0,\"#0d0887\"],[0.1111111111111111,\"#46039f\"],[0.2222222222222222,\"#7201a8\"],[0.3333333333333333,\"#9c179e\"],[0.4444444444444444,\"#bd3786\"],[0.5555555555555556,\"#d8576b\"],[0.6666666666666666,\"#ed7953\"],[0.7777777777777778,\"#fb9f3a\"],[0.8888888888888888,\"#fdca26\"],[1.0,\"#f0f921\"]],\"diverging\":[[0,\"#8e0152\"],[0.1,\"#c51b7d\"],[0.2,\"#de77ae\"],[0.3,\"#f1b6da\"],[0.4,\"#fde0ef\"],[0.5,\"#f7f7f7\"],[0.6,\"#e6f5d0\"],[0.7,\"#b8e186\"],[0.8,\"#7fbc41\"],[0.9,\"#4d9221\"],[1,\"#276419\"]]},\"xaxis\":{\"gridcolor\":\"white\",\"linecolor\":\"white\",\"ticks\":\"\",\"title\":{\"standoff\":15},\"zerolinecolor\":\"white\",\"automargin\":true,\"zerolinewidth\":2},\"yaxis\":{\"gridcolor\":\"white\",\"linecolor\":\"white\",\"ticks\":\"\",\"title\":{\"standoff\":15},\"zerolinecolor\":\"white\",\"automargin\":true,\"zerolinewidth\":2},\"scene\":{\"xaxis\":{\"backgroundcolor\":\"#E5ECF6\",\"gridcolor\":\"white\",\"linecolor\":\"white\",\"showbackground\":true,\"ticks\":\"\",\"zerolinecolor\":\"white\",\"gridwidth\":2},\"yaxis\":{\"backgroundcolor\":\"#E5ECF6\",\"gridcolor\":\"white\",\"linecolor\":\"white\",\"showbackground\":true,\"ticks\":\"\",\"zerolinecolor\":\"white\",\"gridwidth\":2},\"zaxis\":{\"backgroundcolor\":\"#E5ECF6\",\"gridcolor\":\"white\",\"linecolor\":\"white\",\"showbackground\":true,\"ticks\":\"\",\"zerolinecolor\":\"white\",\"gridwidth\":2}},\"shapedefaults\":{\"line\":{\"color\":\"#2a3f5f\"}},\"annotationdefaults\":{\"arrowcolor\":\"#2a3f5f\",\"arrowhead\":0,\"arrowwidth\":1},\"geo\":{\"bgcolor\":\"white\",\"landcolor\":\"#E5ECF6\",\"subunitcolor\":\"white\",\"showland\":true,\"showlakes\":true,\"lakecolor\":\"white\"},\"title\":{\"x\":0.05},\"mapbox\":{\"style\":\"light\"}}},\"title\":{\"text\":\"Top Officer Countries \\u2192 Top 5 Entity Jurisdictions\"},\"font\":{\"size\":12},\"height\":600,\"width\":1000},                        {\"responsive\": true}                    ).then(function(){\n",
       "                            \n",
       "var gd = document.getElementById('6cb17494-c2c0-47c2-9822-ddceac7b6d02');\n",
       "var x = new MutationObserver(function (mutations, observer) {{\n",
       "        var display = window.getComputedStyle(gd).display;\n",
       "        if (!display || display === 'none') {{\n",
       "            console.log([gd, 'removed!']);\n",
       "            Plotly.purge(gd);\n",
       "            observer.disconnect();\n",
       "        }}\n",
       "}});\n",
       "\n",
       "// Listen for the removal of the full notebook cells\n",
       "var notebookContainer = gd.closest('#notebook-container');\n",
       "if (notebookContainer) {{\n",
       "    x.observe(notebookContainer, {childList: true});\n",
       "}}\n",
       "\n",
       "// Listen for the clearing of the current output cell\n",
       "var outputEl = gd.closest('.output');\n",
       "if (outputEl) {{\n",
       "    x.observe(outputEl, {childList: true});\n",
       "}}\n",
       "\n",
       "                        })                };                });            </script>        </div>"
      ]
     },
     "metadata": {},
     "output_type": "display_data"
    }
   ],
   "source": [
    "colors = px.colors.qualitative.Plotly\n",
    "\n",
    "origin_color_map = {country: colors[i % len(colors)] for i, country in enumerate(top_origins)}\n",
    "\n",
    "flow_counts = flow_counts[\n",
    "    flow_counts['countries_start'].isin(top_origins) &\n",
    "    flow_counts['jurisdiction_description_end'].isin(top_jurisdictions)\n",
    "]\n",
    "\n",
    "flow_counts['link_color'] = flow_counts['countries_start'].map(origin_color_map)\n",
    "\n",
    "labels = list(top_origins) + top_jurisdictions\n",
    "label_to_index = {label: i for i, label in enumerate(labels)}\n",
    "\n",
    "node_colors = [origin_color_map.get(label, \"lightgray\") for label in labels]\n",
    "\n",
    "fig = go.Figure(data=[go.Sankey(\n",
    "    node=dict(\n",
    "        pad=30,\n",
    "        thickness=20,\n",
    "        line=dict(color=\"black\", width=0.5),\n",
    "        label=labels,\n",
    "        color=node_colors\n",
    "    ),\n",
    "    link=dict(\n",
    "        source=flow_counts['countries_start'].map(label_to_index),\n",
    "        target=flow_counts['jurisdiction_description_end'].map(label_to_index),\n",
    "        value=flow_counts['count'],\n",
    "        color=flow_counts['link_color']\n",
    "    )\n",
    ")])\n",
    "\n",
    "fig.update_layout(\n",
    "    title_text=\"Top Officer Countries → Top 5 Entity Jurisdictions\",\n",
    "    font=dict(size=12),\n",
    "    height=600,\n",
    "    width=1000\n",
    ")\n",
    "fig.show()"
   ]
  },
  {
   "cell_type": "code",
   "execution_count": 216,
   "id": "70c1c3e5-4e65-40d8-b857-5f659d3451cf",
   "metadata": {},
   "outputs": [
    {
     "name": "stdout",
     "output_type": "stream",
     "text": [
      "           countries_start jurisdiction_description_end  count  proportion\n",
      "0                  Bermuda                      Bahamas      1        0.01\n",
      "1                  Bermuda                     Barbados      1        0.01\n",
      "2                  Bermuda                      Bermuda   9596       97.77\n",
      "3                  Bermuda       British Virgin Islands    164        1.67\n",
      "4                  Bermuda                        Malta     53        0.54\n",
      "5   British Virgin Islands                      Bahamas    148        1.32\n",
      "6   British Virgin Islands                      Bermuda    190        1.70\n",
      "7   British Virgin Islands       British Virgin Islands  10356       92.70\n",
      "8   British Virgin Islands                        Malta    477        4.27\n",
      "9                    China                      Bahamas     20        0.29\n",
      "10                   China                      Bermuda    663        9.57\n",
      "11                   China       British Virgin Islands   5915       85.39\n",
      "12                   China                        Malta    329        4.75\n",
      "13               Hong Kong                      Bahamas     44        0.50\n",
      "14               Hong Kong                      Bermuda   1337       15.17\n",
      "15               Hong Kong       British Virgin Islands   7315       82.97\n",
      "16               Hong Kong                        Malta    120        1.36\n",
      "17               Indonesia                      Bahamas      8        0.11\n",
      "18               Indonesia                      Bermuda     48        0.66\n",
      "19               Indonesia       British Virgin Islands   7252       99.11\n",
      "20               Indonesia                        Malta      9        0.12\n",
      "21                   Malta                      Bermuda     11        0.02\n",
      "22                   Malta       British Virgin Islands     63        0.11\n",
      "23                   Malta                        Malta  58320       99.87\n",
      "24               Singapore                      Bahamas     13        0.15\n",
      "25               Singapore                      Bermuda    333        3.84\n",
      "26               Singapore       British Virgin Islands   8227       94.75\n",
      "27               Singapore                        Malta    110        1.27\n",
      "28                Thailand                      Bahamas      9        0.14\n",
      "29                Thailand                      Bermuda     55        0.88\n",
      "30                Thailand       British Virgin Islands   6130       98.57\n",
      "31                Thailand                        Malta     25        0.40\n",
      "32          United Kingdom                      Bahamas     76        0.52\n",
      "33          United Kingdom                      Bermuda   7813       53.54\n",
      "34          United Kingdom       British Virgin Islands   1817       12.45\n",
      "35          United Kingdom                        Malta   4886       33.48\n",
      "36           United States                      Bahamas     30        0.27\n",
      "37           United States                     Barbados      2        0.02\n",
      "38           United States                      Bermuda   8559       77.05\n",
      "39           United States       British Virgin Islands   1165       10.49\n",
      "40           United States                        Malta   1352       12.17\n"
     ]
    }
   ],
   "source": [
    "summary_table = (\n",
    "    flow_counts.groupby(['countries_start', 'jurisdiction_description_end'])['count']\n",
    "    .sum()\n",
    "    .reset_index()\n",
    ")\n",
    "\n",
    "summary_table['proportion'] = summary_table.groupby('countries_start')['count'].transform(\n",
    "    lambda x: x / x.sum()\n",
    ")\n",
    "\n",
    "summary_table['proportion'] = (summary_table['proportion'] * 100).round(2)\n",
    "\n",
    "print(summary_table)"
   ]
  }
 ],
 "metadata": {
  "kernelspec": {
   "display_name": "Python 3 (ipykernel)",
   "language": "python",
   "name": "python3"
  },
  "language_info": {
   "codemirror_mode": {
    "name": "ipython",
    "version": 3
   },
   "file_extension": ".py",
   "mimetype": "text/x-python",
   "name": "python",
   "nbconvert_exporter": "python",
   "pygments_lexer": "ipython3",
   "version": "3.11.7"
  }
 },
 "nbformat": 4,
 "nbformat_minor": 5
}
