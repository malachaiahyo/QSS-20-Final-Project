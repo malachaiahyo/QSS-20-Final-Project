{
 "cells": [
  {
   "cell_type": "code",
   "execution_count": 2,
   "id": "a24c1345",
   "metadata": {},
   "outputs": [],
   "source": [
    "## helpful packages\n",
    "import pandas as pd\n",
    "import numpy as np\n",
    "import random\n",
    "import re\n",
    "import string\n",
    "import requests\n",
    "import plotnine \n",
    "from plotnine import *\n",
    "import matplotlib.pyplot as plt\n",
    "import yaml\n",
    "#import warnings\n",
    "#warnings.filterwarnings(\"ignore\")\n",
    "\n",
    "## sklearn imports\n",
    "from sklearn.linear_model import LogisticRegression, LogisticRegressionCV\n",
    "from sklearn.metrics import accuracy_score, f1_score, precision_score, recall_score\n",
    "from sklearn.tree import DecisionTreeClassifier\n",
    "from sklearn import tree\n",
    "from sklearn.ensemble import RandomForestClassifier, GradientBoostingClassifier, AdaBoostClassifier\n",
    "from sklearn import preprocessing\n",
    "from sklearn.preprocessing import StandardScaler\n",
    "\n",
    "## print mult things\n",
    "from IPython.core.interactiveshell import InteractiveShell\n",
    "InteractiveShell.ast_node_interactivity = \"all\"\n",
    "\n"
   ]
  },
  {
   "cell_type": "code",
   "execution_count": 3,
   "id": "b5bdf68d",
   "metadata": {},
   "outputs": [
    {
     "name": "stderr",
     "output_type": "stream",
     "text": [
      "/var/folders/5x/0sqjbpy13p3gzjlddpxqjtfw0000gn/T/ipykernel_15046/2313704109.py:2: DtypeWarning: Columns (2,3,6,7,10,11,12,13,14,15,16,17,20) have mixed types. Specify dtype option on import or set low_memory=False.\n",
      "/var/folders/5x/0sqjbpy13p3gzjlddpxqjtfw0000gn/T/ipykernel_15046/2313704109.py:5: DtypeWarning: Columns (4,5,6,7) have mixed types. Specify dtype option on import or set low_memory=False.\n"
     ]
    }
   ],
   "source": [
    "\n",
    "addresses_df = pd.read_csv('nodes-addresses.csv')\n",
    "entities_df = pd.read_csv('nodes-entities.csv')\n",
    "intermediaries_df = pd.read_csv('nodes-intermediaries.csv') # do not use\n",
    "officers_df = pd.read_csv('nodes-officers.csv') # do not use \n",
    "relationships_df = pd.read_csv('relationships.csv')"
   ]
  },
  {
   "cell_type": "code",
   "execution_count": 4,
   "id": "1dff1d1b",
   "metadata": {},
   "outputs": [
    {
     "data": {
      "application/vnd.microsoft.datawrangler.viewer.v0+json": {
       "columns": [
        {
         "name": "index",
         "rawType": "int64",
         "type": "integer"
        },
        {
         "name": "node_id_start",
         "rawType": "int64",
         "type": "integer"
        },
        {
         "name": "node_id_end",
         "rawType": "int64",
         "type": "integer"
        },
        {
         "name": "rel_type",
         "rawType": "object",
         "type": "string"
        },
        {
         "name": "link",
         "rawType": "object",
         "type": "string"
        },
        {
         "name": "status",
         "rawType": "object",
         "type": "unknown"
        },
        {
         "name": "start_date",
         "rawType": "object",
         "type": "unknown"
        },
        {
         "name": "end_date",
         "rawType": "object",
         "type": "unknown"
        },
        {
         "name": "sourceID",
         "rawType": "object",
         "type": "string"
        }
       ],
       "ref": "02eaac1c-b123-4a3e-8eeb-53ef05bfe746",
       "rows": [
        [
         "0",
         "10002580",
         "14106952",
         "registered_address",
         "registered address",
         null,
         null,
         null,
         "Panama Papers"
        ],
        [
         "1",
         "10004460",
         "14101133",
         "registered_address",
         "registered address",
         null,
         null,
         null,
         "Panama Papers"
        ],
        [
         "2",
         "10023813",
         "14105100",
         "registered_address",
         "registered address",
         null,
         null,
         null,
         "Panama Papers"
        ],
        [
         "3",
         "10023840",
         "14100712",
         "registered_address",
         "registered address",
         null,
         null,
         null,
         "Panama Papers"
        ],
        [
         "4",
         "10010428",
         "14093957",
         "registered_address",
         "registered address",
         null,
         null,
         null,
         "Panama Papers"
        ]
       ],
       "shape": {
        "columns": 8,
        "rows": 5
       }
      },
      "text/html": [
       "<div>\n",
       "<style scoped>\n",
       "    .dataframe tbody tr th:only-of-type {\n",
       "        vertical-align: middle;\n",
       "    }\n",
       "\n",
       "    .dataframe tbody tr th {\n",
       "        vertical-align: top;\n",
       "    }\n",
       "\n",
       "    .dataframe thead th {\n",
       "        text-align: right;\n",
       "    }\n",
       "</style>\n",
       "<table border=\"1\" class=\"dataframe\">\n",
       "  <thead>\n",
       "    <tr style=\"text-align: right;\">\n",
       "      <th></th>\n",
       "      <th>node_id_start</th>\n",
       "      <th>node_id_end</th>\n",
       "      <th>rel_type</th>\n",
       "      <th>link</th>\n",
       "      <th>status</th>\n",
       "      <th>start_date</th>\n",
       "      <th>end_date</th>\n",
       "      <th>sourceID</th>\n",
       "    </tr>\n",
       "  </thead>\n",
       "  <tbody>\n",
       "    <tr>\n",
       "      <th>0</th>\n",
       "      <td>10002580</td>\n",
       "      <td>14106952</td>\n",
       "      <td>registered_address</td>\n",
       "      <td>registered address</td>\n",
       "      <td>NaN</td>\n",
       "      <td>NaN</td>\n",
       "      <td>NaN</td>\n",
       "      <td>Panama Papers</td>\n",
       "    </tr>\n",
       "    <tr>\n",
       "      <th>1</th>\n",
       "      <td>10004460</td>\n",
       "      <td>14101133</td>\n",
       "      <td>registered_address</td>\n",
       "      <td>registered address</td>\n",
       "      <td>NaN</td>\n",
       "      <td>NaN</td>\n",
       "      <td>NaN</td>\n",
       "      <td>Panama Papers</td>\n",
       "    </tr>\n",
       "    <tr>\n",
       "      <th>2</th>\n",
       "      <td>10023813</td>\n",
       "      <td>14105100</td>\n",
       "      <td>registered_address</td>\n",
       "      <td>registered address</td>\n",
       "      <td>NaN</td>\n",
       "      <td>NaN</td>\n",
       "      <td>NaN</td>\n",
       "      <td>Panama Papers</td>\n",
       "    </tr>\n",
       "    <tr>\n",
       "      <th>3</th>\n",
       "      <td>10023840</td>\n",
       "      <td>14100712</td>\n",
       "      <td>registered_address</td>\n",
       "      <td>registered address</td>\n",
       "      <td>NaN</td>\n",
       "      <td>NaN</td>\n",
       "      <td>NaN</td>\n",
       "      <td>Panama Papers</td>\n",
       "    </tr>\n",
       "    <tr>\n",
       "      <th>4</th>\n",
       "      <td>10010428</td>\n",
       "      <td>14093957</td>\n",
       "      <td>registered_address</td>\n",
       "      <td>registered address</td>\n",
       "      <td>NaN</td>\n",
       "      <td>NaN</td>\n",
       "      <td>NaN</td>\n",
       "      <td>Panama Papers</td>\n",
       "    </tr>\n",
       "  </tbody>\n",
       "</table>\n",
       "</div>"
      ],
      "text/plain": [
       "   node_id_start  node_id_end            rel_type                link status  \\\n",
       "0       10002580     14106952  registered_address  registered address    NaN   \n",
       "1       10004460     14101133  registered_address  registered address    NaN   \n",
       "2       10023813     14105100  registered_address  registered address    NaN   \n",
       "3       10023840     14100712  registered_address  registered address    NaN   \n",
       "4       10010428     14093957  registered_address  registered address    NaN   \n",
       "\n",
       "  start_date end_date       sourceID  \n",
       "0        NaN      NaN  Panama Papers  \n",
       "1        NaN      NaN  Panama Papers  \n",
       "2        NaN      NaN  Panama Papers  \n",
       "3        NaN      NaN  Panama Papers  \n",
       "4        NaN      NaN  Panama Papers  "
      ]
     },
     "execution_count": 4,
     "metadata": {},
     "output_type": "execute_result"
    },
    {
     "data": {
      "application/vnd.microsoft.datawrangler.viewer.v0+json": {
       "columns": [
        {
         "name": "index",
         "rawType": "int64",
         "type": "integer"
        },
        {
         "name": "node_id",
         "rawType": "int64",
         "type": "integer"
        },
        {
         "name": "name",
         "rawType": "object",
         "type": "string"
        },
        {
         "name": "original_name",
         "rawType": "object",
         "type": "string"
        },
        {
         "name": "former_name",
         "rawType": "object",
         "type": "unknown"
        },
        {
         "name": "jurisdiction",
         "rawType": "object",
         "type": "string"
        },
        {
         "name": "jurisdiction_description",
         "rawType": "object",
         "type": "string"
        },
        {
         "name": "company_type",
         "rawType": "object",
         "type": "unknown"
        },
        {
         "name": "address",
         "rawType": "object",
         "type": "string"
        },
        {
         "name": "internal_id",
         "rawType": "float64",
         "type": "float"
        },
        {
         "name": "incorporation_date",
         "rawType": "object",
         "type": "string"
        },
        {
         "name": "inactivation_date",
         "rawType": "object",
         "type": "string"
        },
        {
         "name": "struck_off_date",
         "rawType": "object",
         "type": "string"
        },
        {
         "name": "dorm_date",
         "rawType": "object",
         "type": "unknown"
        },
        {
         "name": "status",
         "rawType": "object",
         "type": "string"
        },
        {
         "name": "service_provider",
         "rawType": "object",
         "type": "string"
        },
        {
         "name": "ibcRUC",
         "rawType": "object",
         "type": "string"
        },
        {
         "name": "country_codes",
         "rawType": "object",
         "type": "string"
        },
        {
         "name": "countries",
         "rawType": "object",
         "type": "string"
        },
        {
         "name": "sourceID",
         "rawType": "object",
         "type": "string"
        },
        {
         "name": "valid_until",
         "rawType": "object",
         "type": "string"
        },
        {
         "name": "note",
         "rawType": "object",
         "type": "unknown"
        }
       ],
       "ref": "92ff678e-b370-4983-90f9-10300c030c52",
       "rows": [
        [
         "0",
         "10000001",
         "TIANSHENG INDUSTRY AND TRADING CO., LTD.",
         "TIANSHENG INDUSTRY AND TRADING CO., LTD.",
         null,
         "SAM",
         "Samoa",
         null,
         "ORION HOUSE SERVICES (HK) LIMITED ROOM 1401; 14/F.; WORLD COMMERCE  CENTRE; HARBOUR CITY; 7-11 CANTON ROAD; TSIM SHA TSUI; KOWLOON; HONG KONG",
         "1001256.0",
         "23-MAR-2006",
         "18-FEB-2013",
         "15-FEB-2013",
         null,
         "Defaulted",
         "Mossack Fonseca",
         "25221",
         "HKG",
         "Hong Kong",
         "Panama Papers",
         "The Panama Papers data is current through 2015",
         null
        ],
        [
         "1",
         "10000002",
         "NINGBO SUNRISE ENTERPRISES UNITED CO., LTD.",
         "NINGBO SUNRISE ENTERPRISES UNITED CO., LTD.",
         null,
         "SAM",
         "Samoa",
         null,
         "ORION HOUSE SERVICES (HK) LIMITED ROOM 1401; 14/F.; WORLD COMMERCE  CENTRE; HARBOUR CITY; 7-11 CANTON ROAD; TSIM SHA TSUI; KOWLOON; HONG KONG",
         "1001263.0",
         "27-MAR-2006",
         "27-FEB-2014",
         "15-FEB-2014",
         null,
         "Defaulted",
         "Mossack Fonseca",
         "25249",
         "HKG",
         "Hong Kong",
         "Panama Papers",
         "The Panama Papers data is current through 2015",
         null
        ],
        [
         "2",
         "10000003",
         "HOTFOCUS CO., LTD.",
         "HOTFOCUS CO., LTD.",
         null,
         "SAM",
         "Samoa",
         null,
         "ORION HOUSE SERVICES (HK) LIMITED ROOM 1401; 14/F.; WORLD COMMERCE  CENTRE; HARBOUR CITY; 7-11 CANTON ROAD; TSIM SHA TSUI; KOWLOON; HONG KONG",
         "1000896.0",
         "10-JAN-2006",
         "15-FEB-2012",
         "15-FEB-2012",
         null,
         "Defaulted",
         "Mossack Fonseca",
         "24138",
         "HKG",
         "Hong Kong",
         "Panama Papers",
         "The Panama Papers data is current through 2015",
         null
        ],
        [
         "3",
         "10000004",
         "SKY-BLUE GIFTS & TOYS CO., LTD.",
         "SKY-BLUE GIFTS & TOYS CO., LTD.",
         null,
         "SAM",
         "Samoa",
         null,
         "ORION HOUSE SERVICES (HK) LIMITED ROOM 1401; 14/F.; WORLD COMMERCE  CENTRE; HARBOUR CITY; 7-11 CANTON ROAD; TSIM SHA TSUI; KOWLOON; HONG KONG",
         "1000914.0",
         "06-JAN-2006",
         "16-FEB-2009",
         "15-FEB-2009",
         null,
         "Defaulted",
         "Mossack Fonseca",
         "24012",
         "HKG",
         "Hong Kong",
         "Panama Papers",
         "The Panama Papers data is current through 2015",
         null
        ],
        [
         "4",
         "10000005",
         "FORTUNEMAKER INVESTMENTS CORPORATION",
         "FORTUNEMAKER INVESTMENTS CORPORATION",
         null,
         "SAM",
         "Samoa",
         null,
         "LOYAL PORT LIMITED 8/F; CRAWFORD TOWER 99 JERVOIS STREET SHEUNG WAN; HONG KONG",
         "1001266.0",
         "19-APR-2006",
         "15-MAY-2009",
         "15-FEB-2008",
         null,
         "Changed agent",
         "Mossack Fonseca",
         "R25638",
         "HKG",
         "Hong Kong",
         "Panama Papers",
         "The Panama Papers data is current through 2015",
         null
        ]
       ],
       "shape": {
        "columns": 21,
        "rows": 5
       }
      },
      "text/html": [
       "<div>\n",
       "<style scoped>\n",
       "    .dataframe tbody tr th:only-of-type {\n",
       "        vertical-align: middle;\n",
       "    }\n",
       "\n",
       "    .dataframe tbody tr th {\n",
       "        vertical-align: top;\n",
       "    }\n",
       "\n",
       "    .dataframe thead th {\n",
       "        text-align: right;\n",
       "    }\n",
       "</style>\n",
       "<table border=\"1\" class=\"dataframe\">\n",
       "  <thead>\n",
       "    <tr style=\"text-align: right;\">\n",
       "      <th></th>\n",
       "      <th>node_id</th>\n",
       "      <th>name</th>\n",
       "      <th>original_name</th>\n",
       "      <th>former_name</th>\n",
       "      <th>jurisdiction</th>\n",
       "      <th>jurisdiction_description</th>\n",
       "      <th>company_type</th>\n",
       "      <th>address</th>\n",
       "      <th>internal_id</th>\n",
       "      <th>incorporation_date</th>\n",
       "      <th>...</th>\n",
       "      <th>struck_off_date</th>\n",
       "      <th>dorm_date</th>\n",
       "      <th>status</th>\n",
       "      <th>service_provider</th>\n",
       "      <th>ibcRUC</th>\n",
       "      <th>country_codes</th>\n",
       "      <th>countries</th>\n",
       "      <th>sourceID</th>\n",
       "      <th>valid_until</th>\n",
       "      <th>note</th>\n",
       "    </tr>\n",
       "  </thead>\n",
       "  <tbody>\n",
       "    <tr>\n",
       "      <th>0</th>\n",
       "      <td>10000001</td>\n",
       "      <td>TIANSHENG INDUSTRY AND TRADING CO., LTD.</td>\n",
       "      <td>TIANSHENG INDUSTRY AND TRADING CO., LTD.</td>\n",
       "      <td>NaN</td>\n",
       "      <td>SAM</td>\n",
       "      <td>Samoa</td>\n",
       "      <td>NaN</td>\n",
       "      <td>ORION HOUSE SERVICES (HK) LIMITED ROOM 1401; 1...</td>\n",
       "      <td>1001256.0</td>\n",
       "      <td>23-MAR-2006</td>\n",
       "      <td>...</td>\n",
       "      <td>15-FEB-2013</td>\n",
       "      <td>NaN</td>\n",
       "      <td>Defaulted</td>\n",
       "      <td>Mossack Fonseca</td>\n",
       "      <td>25221</td>\n",
       "      <td>HKG</td>\n",
       "      <td>Hong Kong</td>\n",
       "      <td>Panama Papers</td>\n",
       "      <td>The Panama Papers data is current through 2015</td>\n",
       "      <td>NaN</td>\n",
       "    </tr>\n",
       "    <tr>\n",
       "      <th>1</th>\n",
       "      <td>10000002</td>\n",
       "      <td>NINGBO SUNRISE ENTERPRISES UNITED CO., LTD.</td>\n",
       "      <td>NINGBO SUNRISE ENTERPRISES UNITED CO., LTD.</td>\n",
       "      <td>NaN</td>\n",
       "      <td>SAM</td>\n",
       "      <td>Samoa</td>\n",
       "      <td>NaN</td>\n",
       "      <td>ORION HOUSE SERVICES (HK) LIMITED ROOM 1401; 1...</td>\n",
       "      <td>1001263.0</td>\n",
       "      <td>27-MAR-2006</td>\n",
       "      <td>...</td>\n",
       "      <td>15-FEB-2014</td>\n",
       "      <td>NaN</td>\n",
       "      <td>Defaulted</td>\n",
       "      <td>Mossack Fonseca</td>\n",
       "      <td>25249</td>\n",
       "      <td>HKG</td>\n",
       "      <td>Hong Kong</td>\n",
       "      <td>Panama Papers</td>\n",
       "      <td>The Panama Papers data is current through 2015</td>\n",
       "      <td>NaN</td>\n",
       "    </tr>\n",
       "    <tr>\n",
       "      <th>2</th>\n",
       "      <td>10000003</td>\n",
       "      <td>HOTFOCUS CO., LTD.</td>\n",
       "      <td>HOTFOCUS CO., LTD.</td>\n",
       "      <td>NaN</td>\n",
       "      <td>SAM</td>\n",
       "      <td>Samoa</td>\n",
       "      <td>NaN</td>\n",
       "      <td>ORION HOUSE SERVICES (HK) LIMITED ROOM 1401; 1...</td>\n",
       "      <td>1000896.0</td>\n",
       "      <td>10-JAN-2006</td>\n",
       "      <td>...</td>\n",
       "      <td>15-FEB-2012</td>\n",
       "      <td>NaN</td>\n",
       "      <td>Defaulted</td>\n",
       "      <td>Mossack Fonseca</td>\n",
       "      <td>24138</td>\n",
       "      <td>HKG</td>\n",
       "      <td>Hong Kong</td>\n",
       "      <td>Panama Papers</td>\n",
       "      <td>The Panama Papers data is current through 2015</td>\n",
       "      <td>NaN</td>\n",
       "    </tr>\n",
       "    <tr>\n",
       "      <th>3</th>\n",
       "      <td>10000004</td>\n",
       "      <td>SKY-BLUE GIFTS &amp; TOYS CO., LTD.</td>\n",
       "      <td>SKY-BLUE GIFTS &amp; TOYS CO., LTD.</td>\n",
       "      <td>NaN</td>\n",
       "      <td>SAM</td>\n",
       "      <td>Samoa</td>\n",
       "      <td>NaN</td>\n",
       "      <td>ORION HOUSE SERVICES (HK) LIMITED ROOM 1401; 1...</td>\n",
       "      <td>1000914.0</td>\n",
       "      <td>06-JAN-2006</td>\n",
       "      <td>...</td>\n",
       "      <td>15-FEB-2009</td>\n",
       "      <td>NaN</td>\n",
       "      <td>Defaulted</td>\n",
       "      <td>Mossack Fonseca</td>\n",
       "      <td>24012</td>\n",
       "      <td>HKG</td>\n",
       "      <td>Hong Kong</td>\n",
       "      <td>Panama Papers</td>\n",
       "      <td>The Panama Papers data is current through 2015</td>\n",
       "      <td>NaN</td>\n",
       "    </tr>\n",
       "    <tr>\n",
       "      <th>4</th>\n",
       "      <td>10000005</td>\n",
       "      <td>FORTUNEMAKER INVESTMENTS CORPORATION</td>\n",
       "      <td>FORTUNEMAKER INVESTMENTS CORPORATION</td>\n",
       "      <td>NaN</td>\n",
       "      <td>SAM</td>\n",
       "      <td>Samoa</td>\n",
       "      <td>NaN</td>\n",
       "      <td>LOYAL PORT LIMITED 8/F; CRAWFORD TOWER 99 JERV...</td>\n",
       "      <td>1001266.0</td>\n",
       "      <td>19-APR-2006</td>\n",
       "      <td>...</td>\n",
       "      <td>15-FEB-2008</td>\n",
       "      <td>NaN</td>\n",
       "      <td>Changed agent</td>\n",
       "      <td>Mossack Fonseca</td>\n",
       "      <td>R25638</td>\n",
       "      <td>HKG</td>\n",
       "      <td>Hong Kong</td>\n",
       "      <td>Panama Papers</td>\n",
       "      <td>The Panama Papers data is current through 2015</td>\n",
       "      <td>NaN</td>\n",
       "    </tr>\n",
       "  </tbody>\n",
       "</table>\n",
       "<p>5 rows × 21 columns</p>\n",
       "</div>"
      ],
      "text/plain": [
       "    node_id                                         name  \\\n",
       "0  10000001     TIANSHENG INDUSTRY AND TRADING CO., LTD.   \n",
       "1  10000002  NINGBO SUNRISE ENTERPRISES UNITED CO., LTD.   \n",
       "2  10000003                           HOTFOCUS CO., LTD.   \n",
       "3  10000004              SKY-BLUE GIFTS & TOYS CO., LTD.   \n",
       "4  10000005         FORTUNEMAKER INVESTMENTS CORPORATION   \n",
       "\n",
       "                                 original_name former_name jurisdiction  \\\n",
       "0     TIANSHENG INDUSTRY AND TRADING CO., LTD.         NaN          SAM   \n",
       "1  NINGBO SUNRISE ENTERPRISES UNITED CO., LTD.         NaN          SAM   \n",
       "2                           HOTFOCUS CO., LTD.         NaN          SAM   \n",
       "3              SKY-BLUE GIFTS & TOYS CO., LTD.         NaN          SAM   \n",
       "4         FORTUNEMAKER INVESTMENTS CORPORATION         NaN          SAM   \n",
       "\n",
       "  jurisdiction_description company_type  \\\n",
       "0                    Samoa          NaN   \n",
       "1                    Samoa          NaN   \n",
       "2                    Samoa          NaN   \n",
       "3                    Samoa          NaN   \n",
       "4                    Samoa          NaN   \n",
       "\n",
       "                                             address  internal_id  \\\n",
       "0  ORION HOUSE SERVICES (HK) LIMITED ROOM 1401; 1...    1001256.0   \n",
       "1  ORION HOUSE SERVICES (HK) LIMITED ROOM 1401; 1...    1001263.0   \n",
       "2  ORION HOUSE SERVICES (HK) LIMITED ROOM 1401; 1...    1000896.0   \n",
       "3  ORION HOUSE SERVICES (HK) LIMITED ROOM 1401; 1...    1000914.0   \n",
       "4  LOYAL PORT LIMITED 8/F; CRAWFORD TOWER 99 JERV...    1001266.0   \n",
       "\n",
       "  incorporation_date  ... struck_off_date dorm_date         status  \\\n",
       "0        23-MAR-2006  ...     15-FEB-2013       NaN      Defaulted   \n",
       "1        27-MAR-2006  ...     15-FEB-2014       NaN      Defaulted   \n",
       "2        10-JAN-2006  ...     15-FEB-2012       NaN      Defaulted   \n",
       "3        06-JAN-2006  ...     15-FEB-2009       NaN      Defaulted   \n",
       "4        19-APR-2006  ...     15-FEB-2008       NaN  Changed agent   \n",
       "\n",
       "  service_provider  ibcRUC country_codes  countries       sourceID  \\\n",
       "0  Mossack Fonseca   25221           HKG  Hong Kong  Panama Papers   \n",
       "1  Mossack Fonseca   25249           HKG  Hong Kong  Panama Papers   \n",
       "2  Mossack Fonseca   24138           HKG  Hong Kong  Panama Papers   \n",
       "3  Mossack Fonseca   24012           HKG  Hong Kong  Panama Papers   \n",
       "4  Mossack Fonseca  R25638           HKG  Hong Kong  Panama Papers   \n",
       "\n",
       "                                      valid_until note  \n",
       "0  The Panama Papers data is current through 2015  NaN  \n",
       "1  The Panama Papers data is current through 2015  NaN  \n",
       "2  The Panama Papers data is current through 2015  NaN  \n",
       "3  The Panama Papers data is current through 2015  NaN  \n",
       "4  The Panama Papers data is current through 2015  NaN  \n",
       "\n",
       "[5 rows x 21 columns]"
      ]
     },
     "execution_count": 4,
     "metadata": {},
     "output_type": "execute_result"
    },
    {
     "data": {
      "application/vnd.microsoft.datawrangler.viewer.v0+json": {
       "columns": [
        {
         "name": "index",
         "rawType": "int64",
         "type": "integer"
        },
        {
         "name": "node_id",
         "rawType": "int64",
         "type": "integer"
        },
        {
         "name": "address",
         "rawType": "object",
         "type": "string"
        },
        {
         "name": "name",
         "rawType": "object",
         "type": "unknown"
        },
        {
         "name": "countries",
         "rawType": "object",
         "type": "string"
        },
        {
         "name": "country_codes",
         "rawType": "object",
         "type": "string"
        },
        {
         "name": "sourceID",
         "rawType": "object",
         "type": "string"
        },
        {
         "name": "valid_until",
         "rawType": "object",
         "type": "string"
        },
        {
         "name": "note",
         "rawType": "object",
         "type": "unknown"
        }
       ],
       "ref": "e965e7be-6fb0-4f71-a15b-615619b44cf0",
       "rows": [
        [
         "0",
         "24000001",
         "ANNEX FREDERICK & SHIRLEY STS, P.O. BOX N-4805, NASSAU, BAHAMAS",
         null,
         "Bahamas",
         "BHS",
         "Bahamas Leaks",
         "The Bahamas Leaks data is current through early 2016.",
         null
        ],
        [
         "1",
         "24000002",
         "SUITE E-2,UNION COURT BUILDING, P.O. BOX N-8188, NASSAU, BAHAMAS",
         null,
         "Bahamas",
         "BHS",
         "Bahamas Leaks",
         "The Bahamas Leaks data is current through early 2016.",
         null
        ],
        [
         "2",
         "24000003",
         "LYFORD CAY HOUSE, LYFORD CAY, P.O. BOX N-7785, NASSAU, BAHAMAS",
         null,
         "Bahamas",
         "BHS",
         "Bahamas Leaks",
         "The Bahamas Leaks data is current through early 2016.",
         null
        ],
        [
         "3",
         "24000004",
         "P.O. BOX N-3708 BAHAMAS FINANCIAL CENTRE, P.O. BOX N-3708 SHIRLEY & CHARLOTTE STS, NASSAU, BAHAMAS",
         null,
         "Bahamas",
         "BHS",
         "Bahamas Leaks",
         "The Bahamas Leaks data is current through early 2016.",
         null
        ],
        [
         "4",
         "24000005",
         "LYFORD CAY HOUSE, 3RD FLOOR, LYFORD CAY, P.O. BOX N-3024, NASSAU, BAHAMAS",
         null,
         "Bahamas",
         "BHS",
         "Bahamas Leaks",
         "The Bahamas Leaks data is current through early 2016.",
         null
        ]
       ],
       "shape": {
        "columns": 8,
        "rows": 5
       }
      },
      "text/html": [
       "<div>\n",
       "<style scoped>\n",
       "    .dataframe tbody tr th:only-of-type {\n",
       "        vertical-align: middle;\n",
       "    }\n",
       "\n",
       "    .dataframe tbody tr th {\n",
       "        vertical-align: top;\n",
       "    }\n",
       "\n",
       "    .dataframe thead th {\n",
       "        text-align: right;\n",
       "    }\n",
       "</style>\n",
       "<table border=\"1\" class=\"dataframe\">\n",
       "  <thead>\n",
       "    <tr style=\"text-align: right;\">\n",
       "      <th></th>\n",
       "      <th>node_id</th>\n",
       "      <th>address</th>\n",
       "      <th>name</th>\n",
       "      <th>countries</th>\n",
       "      <th>country_codes</th>\n",
       "      <th>sourceID</th>\n",
       "      <th>valid_until</th>\n",
       "      <th>note</th>\n",
       "    </tr>\n",
       "  </thead>\n",
       "  <tbody>\n",
       "    <tr>\n",
       "      <th>0</th>\n",
       "      <td>24000001</td>\n",
       "      <td>ANNEX FREDERICK &amp; SHIRLEY STS, P.O. BOX N-4805...</td>\n",
       "      <td>NaN</td>\n",
       "      <td>Bahamas</td>\n",
       "      <td>BHS</td>\n",
       "      <td>Bahamas Leaks</td>\n",
       "      <td>The Bahamas Leaks data is current through earl...</td>\n",
       "      <td>NaN</td>\n",
       "    </tr>\n",
       "    <tr>\n",
       "      <th>1</th>\n",
       "      <td>24000002</td>\n",
       "      <td>SUITE E-2,UNION COURT BUILDING, P.O. BOX N-818...</td>\n",
       "      <td>NaN</td>\n",
       "      <td>Bahamas</td>\n",
       "      <td>BHS</td>\n",
       "      <td>Bahamas Leaks</td>\n",
       "      <td>The Bahamas Leaks data is current through earl...</td>\n",
       "      <td>NaN</td>\n",
       "    </tr>\n",
       "    <tr>\n",
       "      <th>2</th>\n",
       "      <td>24000003</td>\n",
       "      <td>LYFORD CAY HOUSE, LYFORD CAY, P.O. BOX N-7785,...</td>\n",
       "      <td>NaN</td>\n",
       "      <td>Bahamas</td>\n",
       "      <td>BHS</td>\n",
       "      <td>Bahamas Leaks</td>\n",
       "      <td>The Bahamas Leaks data is current through earl...</td>\n",
       "      <td>NaN</td>\n",
       "    </tr>\n",
       "    <tr>\n",
       "      <th>3</th>\n",
       "      <td>24000004</td>\n",
       "      <td>P.O. BOX N-3708 BAHAMAS FINANCIAL CENTRE, P.O....</td>\n",
       "      <td>NaN</td>\n",
       "      <td>Bahamas</td>\n",
       "      <td>BHS</td>\n",
       "      <td>Bahamas Leaks</td>\n",
       "      <td>The Bahamas Leaks data is current through earl...</td>\n",
       "      <td>NaN</td>\n",
       "    </tr>\n",
       "    <tr>\n",
       "      <th>4</th>\n",
       "      <td>24000005</td>\n",
       "      <td>LYFORD CAY HOUSE, 3RD FLOOR, LYFORD CAY, P.O. ...</td>\n",
       "      <td>NaN</td>\n",
       "      <td>Bahamas</td>\n",
       "      <td>BHS</td>\n",
       "      <td>Bahamas Leaks</td>\n",
       "      <td>The Bahamas Leaks data is current through earl...</td>\n",
       "      <td>NaN</td>\n",
       "    </tr>\n",
       "  </tbody>\n",
       "</table>\n",
       "</div>"
      ],
      "text/plain": [
       "    node_id                                            address name countries  \\\n",
       "0  24000001  ANNEX FREDERICK & SHIRLEY STS, P.O. BOX N-4805...  NaN   Bahamas   \n",
       "1  24000002  SUITE E-2,UNION COURT BUILDING, P.O. BOX N-818...  NaN   Bahamas   \n",
       "2  24000003  LYFORD CAY HOUSE, LYFORD CAY, P.O. BOX N-7785,...  NaN   Bahamas   \n",
       "3  24000004  P.O. BOX N-3708 BAHAMAS FINANCIAL CENTRE, P.O....  NaN   Bahamas   \n",
       "4  24000005  LYFORD CAY HOUSE, 3RD FLOOR, LYFORD CAY, P.O. ...  NaN   Bahamas   \n",
       "\n",
       "  country_codes       sourceID  \\\n",
       "0           BHS  Bahamas Leaks   \n",
       "1           BHS  Bahamas Leaks   \n",
       "2           BHS  Bahamas Leaks   \n",
       "3           BHS  Bahamas Leaks   \n",
       "4           BHS  Bahamas Leaks   \n",
       "\n",
       "                                         valid_until note  \n",
       "0  The Bahamas Leaks data is current through earl...  NaN  \n",
       "1  The Bahamas Leaks data is current through earl...  NaN  \n",
       "2  The Bahamas Leaks data is current through earl...  NaN  \n",
       "3  The Bahamas Leaks data is current through earl...  NaN  \n",
       "4  The Bahamas Leaks data is current through earl...  NaN  "
      ]
     },
     "execution_count": 4,
     "metadata": {},
     "output_type": "execute_result"
    }
   ],
   "source": [
    "relationships_df.head()\n",
    "entities_df.head()\n",
    "addresses_df.head()\n"
   ]
  },
  {
   "cell_type": "markdown",
   "id": "5a380b44",
   "metadata": {},
   "source": [
    "### Alternate merging style"
   ]
  },
  {
   "cell_type": "code",
   "execution_count": 5,
   "id": "a63a5fdc",
   "metadata": {},
   "outputs": [
    {
     "name": "stderr",
     "output_type": "stream",
     "text": [
      "/var/folders/5x/0sqjbpy13p3gzjlddpxqjtfw0000gn/T/ipykernel_15046/3933989109.py:1: DtypeWarning: Columns (4,5,6,7) have mixed types. Specify dtype option on import or set low_memory=False.\n",
      "/var/folders/5x/0sqjbpy13p3gzjlddpxqjtfw0000gn/T/ipykernel_15046/3933989109.py:5: DtypeWarning: Columns (2,3,6,7,10,11,12,13,14,15,16,17,20) have mixed types. Specify dtype option on import or set low_memory=False.\n"
     ]
    },
    {
     "name": "stdout",
     "output_type": "stream",
     "text": [
      "<class 'pandas.core.frame.DataFrame'>\n",
      "RangeIndex: 3339267 entries, 0 to 3339266\n",
      "Data columns (total 50 columns):\n",
      " #   Column                          Dtype \n",
      "---  ------                          ----- \n",
      " 0   node_id_start                   int64 \n",
      " 1   node_id_end                     int64 \n",
      " 2   rel_type                        object\n",
      " 3   link                            object\n",
      " 4   status                          object\n",
      " 5   start_date                      object\n",
      " 6   end_date                        object\n",
      " 7   sourceID                        object\n",
      " 8   address_start                   object\n",
      " 9   name_start                      object\n",
      " 10  countries_start                 object\n",
      " 11  country_codes_start             object\n",
      " 12  sourceID_start                  object\n",
      " 13  valid_until_start               object\n",
      " 14  note_start                      object\n",
      " 15  node_type_start                 object\n",
      " 16  original_name_start             object\n",
      " 17  former_name_start               object\n",
      " 18  jurisdiction_start              object\n",
      " 19  jurisdiction_description_start  object\n",
      " 20  company_type_start              object\n",
      " 21  internal_id_start               object\n",
      " 22  incorporation_date_start        object\n",
      " 23  inactivation_date_start         object\n",
      " 24  struck_off_date_start           object\n",
      " 25  dorm_date_start                 object\n",
      " 26  status_start                    object\n",
      " 27  service_provider_start          object\n",
      " 28  ibcRUC_start                    object\n",
      " 29  address_end                     object\n",
      " 30  name_end                        object\n",
      " 31  countries_end                   object\n",
      " 32  country_codes_end               object\n",
      " 33  sourceID_end                    object\n",
      " 34  valid_until_end                 object\n",
      " 35  note_end                        object\n",
      " 36  node_type_end                   object\n",
      " 37  original_name_end               object\n",
      " 38  former_name_end                 object\n",
      " 39  jurisdiction_end                object\n",
      " 40  jurisdiction_description_end    object\n",
      " 41  company_type_end                object\n",
      " 42  internal_id_end                 object\n",
      " 43  incorporation_date_end          object\n",
      " 44  inactivation_date_end           object\n",
      " 45  struck_off_date_end             object\n",
      " 46  dorm_date_end                   object\n",
      " 47  status_end                      object\n",
      " 48  service_provider_end            object\n",
      " 49  ibcRUC_end                      object\n",
      "dtypes: int64(2), object(48)\n",
      "memory usage: 1.2+ GB\n",
      "None\n"
     ]
    }
   ],
   "source": [
    "\n",
    "rels = pd.read_csv(\"relationships.csv\")\n",
    "\n",
    "# Read each node file, add a 'node_type' column\n",
    "addresses       = pd.read_csv(\"nodes-addresses.csv\"     ).assign(node_type=\"address\")\n",
    "entities        = pd.read_csv(\"nodes-entities.csv\"      ).assign(node_type=\"entity\")\n",
    "intermediaries  = pd.read_csv(\"nodes-intermediaries.csv\").assign(node_type=\"intermediary\")\n",
    "officers        = pd.read_csv(\"nodes-officers.csv\"      ).assign(node_type=\"officer\")\n",
    "\n",
    "# Stack them into one DataFrame\n",
    "nodes = pd.concat(\n",
    "    [addresses, entities, intermediaries, officers],\n",
    "    ignore_index=True,\n",
    "    sort=False\n",
    ")\n",
    "\n",
    "# Merge in the metadata for the 'start' node\n",
    "#    Suffix all node columns with '_start'; this brings in, e.g., name_start, countries_start, node_type_start, etc.\n",
    "rels = rels.merge(\n",
    "    nodes.add_suffix(\"_start\"),\n",
    "    left_on=\"node_id_start\",\n",
    "    right_on=\"node_id_start\",\n",
    "    how=\"left\"\n",
    ")\n",
    "\n",
    "# Merge in the metadata for the 'end' node\n",
    "#    Suffixing with '_end' brings in name_end, countries_end, node_type_end, etc.\n",
    "rels = rels.merge(\n",
    "    nodes.add_suffix(\"_end\"),\n",
    "    left_on=\"node_id_end\",\n",
    "    right_on=\"node_id_end\",\n",
    "    how=\"left\"\n",
    ")\n",
    "\n",
    "print(rels.info())\n"
   ]
  },
  {
   "cell_type": "code",
   "execution_count": 6,
   "id": "11dbd1d6",
   "metadata": {},
   "outputs": [
    {
     "data": {
      "application/vnd.microsoft.datawrangler.viewer.v0+json": {
       "columns": [
        {
         "name": "index",
         "rawType": "int64",
         "type": "integer"
        },
        {
         "name": "node_id_start",
         "rawType": "int64",
         "type": "integer"
        },
        {
         "name": "node_id_end",
         "rawType": "int64",
         "type": "integer"
        },
        {
         "name": "rel_type",
         "rawType": "object",
         "type": "string"
        },
        {
         "name": "link",
         "rawType": "object",
         "type": "string"
        },
        {
         "name": "status",
         "rawType": "object",
         "type": "unknown"
        },
        {
         "name": "start_date",
         "rawType": "object",
         "type": "unknown"
        },
        {
         "name": "end_date",
         "rawType": "object",
         "type": "unknown"
        },
        {
         "name": "sourceID",
         "rawType": "object",
         "type": "string"
        },
        {
         "name": "address_start",
         "rawType": "object",
         "type": "string"
        },
        {
         "name": "name_start",
         "rawType": "object",
         "type": "string"
        },
        {
         "name": "countries_start",
         "rawType": "object",
         "type": "string"
        },
        {
         "name": "country_codes_start",
         "rawType": "object",
         "type": "string"
        },
        {
         "name": "sourceID_start",
         "rawType": "object",
         "type": "string"
        },
        {
         "name": "valid_until_start",
         "rawType": "object",
         "type": "string"
        },
        {
         "name": "note_start",
         "rawType": "object",
         "type": "unknown"
        },
        {
         "name": "node_type_start",
         "rawType": "object",
         "type": "string"
        },
        {
         "name": "original_name_start",
         "rawType": "object",
         "type": "string"
        },
        {
         "name": "former_name_start",
         "rawType": "object",
         "type": "unknown"
        },
        {
         "name": "jurisdiction_start",
         "rawType": "object",
         "type": "string"
        },
        {
         "name": "jurisdiction_description_start",
         "rawType": "object",
         "type": "string"
        },
        {
         "name": "company_type_start",
         "rawType": "object",
         "type": "unknown"
        },
        {
         "name": "internal_id_start",
         "rawType": "object",
         "type": "unknown"
        },
        {
         "name": "incorporation_date_start",
         "rawType": "object",
         "type": "string"
        },
        {
         "name": "inactivation_date_start",
         "rawType": "object",
         "type": "unknown"
        },
        {
         "name": "struck_off_date_start",
         "rawType": "object",
         "type": "unknown"
        },
        {
         "name": "dorm_date_start",
         "rawType": "object",
         "type": "unknown"
        },
        {
         "name": "status_start",
         "rawType": "object",
         "type": "string"
        },
        {
         "name": "service_provider_start",
         "rawType": "object",
         "type": "string"
        },
        {
         "name": "ibcRUC_start",
         "rawType": "object",
         "type": "unknown"
        },
        {
         "name": "address_end",
         "rawType": "object",
         "type": "string"
        },
        {
         "name": "name_end",
         "rawType": "object",
         "type": "unknown"
        },
        {
         "name": "countries_end",
         "rawType": "object",
         "type": "string"
        },
        {
         "name": "country_codes_end",
         "rawType": "object",
         "type": "string"
        },
        {
         "name": "sourceID_end",
         "rawType": "object",
         "type": "string"
        },
        {
         "name": "valid_until_end",
         "rawType": "object",
         "type": "string"
        },
        {
         "name": "note_end",
         "rawType": "object",
         "type": "unknown"
        },
        {
         "name": "node_type_end",
         "rawType": "object",
         "type": "string"
        },
        {
         "name": "original_name_end",
         "rawType": "object",
         "type": "unknown"
        },
        {
         "name": "former_name_end",
         "rawType": "object",
         "type": "unknown"
        },
        {
         "name": "jurisdiction_end",
         "rawType": "object",
         "type": "unknown"
        },
        {
         "name": "jurisdiction_description_end",
         "rawType": "object",
         "type": "unknown"
        },
        {
         "name": "company_type_end",
         "rawType": "object",
         "type": "unknown"
        },
        {
         "name": "internal_id_end",
         "rawType": "object",
         "type": "unknown"
        },
        {
         "name": "incorporation_date_end",
         "rawType": "object",
         "type": "unknown"
        },
        {
         "name": "inactivation_date_end",
         "rawType": "object",
         "type": "unknown"
        },
        {
         "name": "struck_off_date_end",
         "rawType": "object",
         "type": "unknown"
        },
        {
         "name": "dorm_date_end",
         "rawType": "object",
         "type": "unknown"
        },
        {
         "name": "status_end",
         "rawType": "object",
         "type": "unknown"
        },
        {
         "name": "service_provider_end",
         "rawType": "object",
         "type": "unknown"
        },
        {
         "name": "ibcRUC_end",
         "rawType": "object",
         "type": "unknown"
        }
       ],
       "ref": "cb0fb22b-05cc-4be0-b49e-957df4445fca",
       "rows": [
        [
         "0",
         "10002580",
         "14106952",
         "registered_address",
         "registered address",
         null,
         null,
         null,
         "Panama Papers",
         "STEMBRIDGE TRUST (IRELAND) LIMITED 5 THE COURTYARD   CARMANHALL ROAD SANDYFORD DUBLIN 18 IRELAND",
         "FUSION TRADING LIMITED",
         "Ireland",
         "IRL",
         "Panama Papers",
         "The Panama Papers data is current through 2015",
         null,
         "entity",
         "FUSION TRADING LIMITED",
         null,
         "SAM",
         "Samoa",
         null,
         "1002255.0",
         "27-DEC-2006",
         "21-JUL-2010",
         "15-FEB-2011",
         null,
         "Defaulted",
         "Mossack Fonseca",
         "R29575",
         "STEMBRIDGE TRUST (IRELAND) LIMITED 5 THE COURTYARD   CARMANHALL ROAD SANDYFORD DUBLIN 18 IRELAND",
         null,
         "Ireland",
         "IRL",
         "Panama Papers",
         "The Panama Papers  data is current through 2015",
         null,
         "address",
         null,
         null,
         null,
         null,
         null,
         null,
         null,
         null,
         null,
         null,
         null,
         null,
         null
        ],
        [
         "1",
         "10004460",
         "14101133",
         "registered_address",
         "registered address",
         null,
         null,
         null,
         "Panama Papers",
         "MF CORPORATE (UK) LIMITED 520 S. 7TH STREET  SUITE C LAS VEGAS, NV 89101 U.  S.  A.",
         "MF CORPORATE (UK) LIMITED",
         "United States",
         "USA",
         "Panama Papers",
         "The Panama Papers data is current through 2015",
         null,
         "entity",
         "MF CORPORATE (UK) LIMITED",
         null,
         "UK",
         "United Kingdom",
         null,
         "1100006.0",
         "29-JUL-2005",
         "22-DEC-2011",
         "29-JUL-2006",
         null,
         "In transition",
         "Mossack Fonseca",
         null,
         "MF CORPORATE (UK) LIMITED 520 S. 7TH STREET  SUITE C LAS VEGAS, NV 89101 U.  S.  A.",
         null,
         "United States",
         "USA",
         "Panama Papers",
         "The Panama Papers  data is current through 2015",
         null,
         "address",
         null,
         null,
         null,
         null,
         null,
         null,
         null,
         null,
         null,
         null,
         null,
         null,
         null
        ],
        [
         "2",
         "10023813",
         "14105100",
         "registered_address",
         "registered address",
         null,
         null,
         null,
         "Panama Papers",
         "REIG INVESTMENTS LLP INVISION HOUSE WILBURY WAY HITCHIN HERTFORDSHIRE SG4 0XE UNITED KINGDOM",
         "REIG INVESTMENTS LLP",
         "United Kingdom",
         "GBR",
         "Panama Papers",
         "The Panama Papers data is current through 2015",
         null,
         "entity",
         "REIG INVESTMENTS LLP",
         null,
         "UK",
         "United Kingdom",
         null,
         "1100086.0",
         "24-NOV-2009",
         "27-JUL-2012",
         "24-NOV-2010",
         null,
         "In transition",
         "Mossack Fonseca",
         "OC256795",
         "REIG INVESTMENTS LLP INVISION HOUSE WILBURY WAY HITCHIN HERTFORDSHIRE SG4 0XE UNITED KINGDOM",
         null,
         "United Kingdom",
         "GBR",
         "Panama Papers",
         "The Panama Papers  data is current through 2015",
         null,
         "address",
         null,
         null,
         null,
         null,
         null,
         null,
         null,
         null,
         null,
         null,
         null,
         null,
         null
        ],
        [
         "3",
         "10023840",
         "14100712",
         "registered_address",
         "registered address",
         null,
         null,
         null,
         "Panama Papers",
         "MARCUSSI INTERNATIONAL LLP INVISION HOUSE WILBURY WAY HITCHIN HERTFORDSHIRE SG4 0XE UNITED KINGDOM",
         "MARCUSSI INTERNATIONAL LLP",
         "United Kingdom",
         "GBR",
         "Panama Papers",
         "The Panama Papers data is current through 2015",
         null,
         "entity",
         "MARCUSSI INTERNATIONAL LLP",
         null,
         "UK",
         "United Kingdom",
         null,
         "1100172.0",
         "25-SEP-2013",
         null,
         null,
         null,
         "Active",
         "Mossack Fonseca",
         "OC388103",
         "MARCUSSI INTERNATIONAL LLP INVISION HOUSE WILBURY WAY HITCHIN HERTFORDSHIRE SG4 0XE UNITED KINGDOM",
         null,
         "United Kingdom",
         "GBR",
         "Panama Papers",
         "The Panama Papers  data is current through 2015",
         null,
         "address",
         null,
         null,
         null,
         null,
         null,
         null,
         null,
         null,
         null,
         null,
         null,
         null,
         null
        ],
        [
         "4",
         "10010428",
         "14093957",
         "registered_address",
         "registered address",
         null,
         null,
         null,
         "Panama Papers",
         "COLLYER BRISTOW LLP SOLICITORS 4 BEDFORD ROW LONDON WC1R 4TF UNITED KINGDOM *S.I.*",
         "PULSAR HOLDINGS CORPORATION",
         "United Kingdom",
         "GBR",
         "Panama Papers",
         "The Panama Papers data is current through 2015",
         null,
         "entity",
         "PULSAR HOLDINGS CORPORATION",
         null,
         "PMA",
         "Panama",
         null,
         "12504.0",
         "13-SEP-1990",
         "10-OCT-1991",
         "13-DEC-1991",
         null,
         "Defaulted",
         "Mossack Fonseca",
         null,
         "COLLYER BRISTOW LLP SOLICITORS 4 BEDFORD ROW LONDON WC1R 4TF UNITED KINGDOM *S.I.*",
         null,
         "United Kingdom",
         "GBR",
         "Panama Papers",
         "The Panama Papers  data is current through 2015",
         null,
         "address",
         null,
         null,
         null,
         null,
         null,
         null,
         null,
         null,
         null,
         null,
         null,
         null,
         null
        ]
       ],
       "shape": {
        "columns": 50,
        "rows": 5
       }
      },
      "text/html": [
       "<div>\n",
       "<style scoped>\n",
       "    .dataframe tbody tr th:only-of-type {\n",
       "        vertical-align: middle;\n",
       "    }\n",
       "\n",
       "    .dataframe tbody tr th {\n",
       "        vertical-align: top;\n",
       "    }\n",
       "\n",
       "    .dataframe thead th {\n",
       "        text-align: right;\n",
       "    }\n",
       "</style>\n",
       "<table border=\"1\" class=\"dataframe\">\n",
       "  <thead>\n",
       "    <tr style=\"text-align: right;\">\n",
       "      <th></th>\n",
       "      <th>node_id_start</th>\n",
       "      <th>node_id_end</th>\n",
       "      <th>rel_type</th>\n",
       "      <th>link</th>\n",
       "      <th>status</th>\n",
       "      <th>start_date</th>\n",
       "      <th>end_date</th>\n",
       "      <th>sourceID</th>\n",
       "      <th>address_start</th>\n",
       "      <th>name_start</th>\n",
       "      <th>...</th>\n",
       "      <th>jurisdiction_description_end</th>\n",
       "      <th>company_type_end</th>\n",
       "      <th>internal_id_end</th>\n",
       "      <th>incorporation_date_end</th>\n",
       "      <th>inactivation_date_end</th>\n",
       "      <th>struck_off_date_end</th>\n",
       "      <th>dorm_date_end</th>\n",
       "      <th>status_end</th>\n",
       "      <th>service_provider_end</th>\n",
       "      <th>ibcRUC_end</th>\n",
       "    </tr>\n",
       "  </thead>\n",
       "  <tbody>\n",
       "    <tr>\n",
       "      <th>0</th>\n",
       "      <td>10002580</td>\n",
       "      <td>14106952</td>\n",
       "      <td>registered_address</td>\n",
       "      <td>registered address</td>\n",
       "      <td>NaN</td>\n",
       "      <td>NaN</td>\n",
       "      <td>NaN</td>\n",
       "      <td>Panama Papers</td>\n",
       "      <td>STEMBRIDGE TRUST (IRELAND) LIMITED 5 THE COURT...</td>\n",
       "      <td>FUSION TRADING LIMITED</td>\n",
       "      <td>...</td>\n",
       "      <td>NaN</td>\n",
       "      <td>NaN</td>\n",
       "      <td>NaN</td>\n",
       "      <td>NaN</td>\n",
       "      <td>NaN</td>\n",
       "      <td>NaN</td>\n",
       "      <td>NaN</td>\n",
       "      <td>NaN</td>\n",
       "      <td>NaN</td>\n",
       "      <td>NaN</td>\n",
       "    </tr>\n",
       "    <tr>\n",
       "      <th>1</th>\n",
       "      <td>10004460</td>\n",
       "      <td>14101133</td>\n",
       "      <td>registered_address</td>\n",
       "      <td>registered address</td>\n",
       "      <td>NaN</td>\n",
       "      <td>NaN</td>\n",
       "      <td>NaN</td>\n",
       "      <td>Panama Papers</td>\n",
       "      <td>MF CORPORATE (UK) LIMITED 520 S. 7TH STREET  S...</td>\n",
       "      <td>MF CORPORATE (UK) LIMITED</td>\n",
       "      <td>...</td>\n",
       "      <td>NaN</td>\n",
       "      <td>NaN</td>\n",
       "      <td>NaN</td>\n",
       "      <td>NaN</td>\n",
       "      <td>NaN</td>\n",
       "      <td>NaN</td>\n",
       "      <td>NaN</td>\n",
       "      <td>NaN</td>\n",
       "      <td>NaN</td>\n",
       "      <td>NaN</td>\n",
       "    </tr>\n",
       "    <tr>\n",
       "      <th>2</th>\n",
       "      <td>10023813</td>\n",
       "      <td>14105100</td>\n",
       "      <td>registered_address</td>\n",
       "      <td>registered address</td>\n",
       "      <td>NaN</td>\n",
       "      <td>NaN</td>\n",
       "      <td>NaN</td>\n",
       "      <td>Panama Papers</td>\n",
       "      <td>REIG INVESTMENTS LLP INVISION HOUSE WILBURY WA...</td>\n",
       "      <td>REIG INVESTMENTS LLP</td>\n",
       "      <td>...</td>\n",
       "      <td>NaN</td>\n",
       "      <td>NaN</td>\n",
       "      <td>NaN</td>\n",
       "      <td>NaN</td>\n",
       "      <td>NaN</td>\n",
       "      <td>NaN</td>\n",
       "      <td>NaN</td>\n",
       "      <td>NaN</td>\n",
       "      <td>NaN</td>\n",
       "      <td>NaN</td>\n",
       "    </tr>\n",
       "    <tr>\n",
       "      <th>3</th>\n",
       "      <td>10023840</td>\n",
       "      <td>14100712</td>\n",
       "      <td>registered_address</td>\n",
       "      <td>registered address</td>\n",
       "      <td>NaN</td>\n",
       "      <td>NaN</td>\n",
       "      <td>NaN</td>\n",
       "      <td>Panama Papers</td>\n",
       "      <td>MARCUSSI INTERNATIONAL LLP INVISION HOUSE WILB...</td>\n",
       "      <td>MARCUSSI INTERNATIONAL LLP</td>\n",
       "      <td>...</td>\n",
       "      <td>NaN</td>\n",
       "      <td>NaN</td>\n",
       "      <td>NaN</td>\n",
       "      <td>NaN</td>\n",
       "      <td>NaN</td>\n",
       "      <td>NaN</td>\n",
       "      <td>NaN</td>\n",
       "      <td>NaN</td>\n",
       "      <td>NaN</td>\n",
       "      <td>NaN</td>\n",
       "    </tr>\n",
       "    <tr>\n",
       "      <th>4</th>\n",
       "      <td>10010428</td>\n",
       "      <td>14093957</td>\n",
       "      <td>registered_address</td>\n",
       "      <td>registered address</td>\n",
       "      <td>NaN</td>\n",
       "      <td>NaN</td>\n",
       "      <td>NaN</td>\n",
       "      <td>Panama Papers</td>\n",
       "      <td>COLLYER BRISTOW LLP SOLICITORS 4 BEDFORD ROW L...</td>\n",
       "      <td>PULSAR HOLDINGS CORPORATION</td>\n",
       "      <td>...</td>\n",
       "      <td>NaN</td>\n",
       "      <td>NaN</td>\n",
       "      <td>NaN</td>\n",
       "      <td>NaN</td>\n",
       "      <td>NaN</td>\n",
       "      <td>NaN</td>\n",
       "      <td>NaN</td>\n",
       "      <td>NaN</td>\n",
       "      <td>NaN</td>\n",
       "      <td>NaN</td>\n",
       "    </tr>\n",
       "  </tbody>\n",
       "</table>\n",
       "<p>5 rows × 50 columns</p>\n",
       "</div>"
      ],
      "text/plain": [
       "   node_id_start  node_id_end            rel_type                link status  \\\n",
       "0       10002580     14106952  registered_address  registered address    NaN   \n",
       "1       10004460     14101133  registered_address  registered address    NaN   \n",
       "2       10023813     14105100  registered_address  registered address    NaN   \n",
       "3       10023840     14100712  registered_address  registered address    NaN   \n",
       "4       10010428     14093957  registered_address  registered address    NaN   \n",
       "\n",
       "  start_date end_date       sourceID  \\\n",
       "0        NaN      NaN  Panama Papers   \n",
       "1        NaN      NaN  Panama Papers   \n",
       "2        NaN      NaN  Panama Papers   \n",
       "3        NaN      NaN  Panama Papers   \n",
       "4        NaN      NaN  Panama Papers   \n",
       "\n",
       "                                       address_start  \\\n",
       "0  STEMBRIDGE TRUST (IRELAND) LIMITED 5 THE COURT...   \n",
       "1  MF CORPORATE (UK) LIMITED 520 S. 7TH STREET  S...   \n",
       "2  REIG INVESTMENTS LLP INVISION HOUSE WILBURY WA...   \n",
       "3  MARCUSSI INTERNATIONAL LLP INVISION HOUSE WILB...   \n",
       "4  COLLYER BRISTOW LLP SOLICITORS 4 BEDFORD ROW L...   \n",
       "\n",
       "                    name_start  ... jurisdiction_description_end  \\\n",
       "0       FUSION TRADING LIMITED  ...                          NaN   \n",
       "1    MF CORPORATE (UK) LIMITED  ...                          NaN   \n",
       "2         REIG INVESTMENTS LLP  ...                          NaN   \n",
       "3   MARCUSSI INTERNATIONAL LLP  ...                          NaN   \n",
       "4  PULSAR HOLDINGS CORPORATION  ...                          NaN   \n",
       "\n",
       "  company_type_end internal_id_end incorporation_date_end  \\\n",
       "0              NaN             NaN                    NaN   \n",
       "1              NaN             NaN                    NaN   \n",
       "2              NaN             NaN                    NaN   \n",
       "3              NaN             NaN                    NaN   \n",
       "4              NaN             NaN                    NaN   \n",
       "\n",
       "  inactivation_date_end struck_off_date_end dorm_date_end status_end  \\\n",
       "0                   NaN                 NaN           NaN        NaN   \n",
       "1                   NaN                 NaN           NaN        NaN   \n",
       "2                   NaN                 NaN           NaN        NaN   \n",
       "3                   NaN                 NaN           NaN        NaN   \n",
       "4                   NaN                 NaN           NaN        NaN   \n",
       "\n",
       "  service_provider_end ibcRUC_end  \n",
       "0                  NaN        NaN  \n",
       "1                  NaN        NaN  \n",
       "2                  NaN        NaN  \n",
       "3                  NaN        NaN  \n",
       "4                  NaN        NaN  \n",
       "\n",
       "[5 rows x 50 columns]"
      ]
     },
     "execution_count": 6,
     "metadata": {},
     "output_type": "execute_result"
    },
    {
     "data": {
      "text/plain": [
       "3339267"
      ]
     },
     "execution_count": 6,
     "metadata": {},
     "output_type": "execute_result"
    }
   ],
   "source": [
    "rels.head()\n",
    "len(rels)\n",
    "\n"
   ]
  },
  {
   "cell_type": "code",
   "execution_count": 7,
   "id": "07dc3422",
   "metadata": {},
   "outputs": [],
   "source": [
    "## Code to s\n",
    "# rels.to_csv(\"rels.csv\", index=False)"
   ]
  },
  {
   "cell_type": "code",
   "execution_count": 8,
   "id": "d8bce475",
   "metadata": {},
   "outputs": [],
   "source": [
    "# dropping unnecessary columns from dataset\n",
    "\n",
    "rels.drop(columns=[\"status\", \"start_date\", \"end_date\", \"note_start\", \"dorm_date_start\", \"valid_until_end\", \"valid_until_start\", \"note_start\", \"note_end\"], inplace=True)"
   ]
  },
  {
   "cell_type": "code",
   "execution_count": 18,
   "id": "2e9bcbcd",
   "metadata": {},
   "outputs": [
    {
     "name": "stdout",
     "output_type": "stream",
     "text": [
      "Top 10 countries for entities (based on start_country, semicolon separated values counted individually):\n",
      "countries_start\n",
      "British Virgin Islands    93349\n",
      "Malta                     83981\n",
      "Barbados                  48090\n",
      "Bermuda                   17324\n",
      "Hong Kong                 15383\n",
      "Cayman Islands            14856\n",
      "United Kingdom            10001\n",
      "United States              7934\n",
      "Russia                     7508\n",
      "Isle of Man                4103\n",
      "Name: count, dtype: int64\n"
     ]
    },
    {
     "data": {
      "text/plain": [
       "<Axes: xlabel='countries_start'>"
      ]
     },
     "execution_count": 18,
     "metadata": {},
     "output_type": "execute_result"
    },
    {
     "data": {
      "text/plain": [
       "Text(0.5, 1.0, 'Top 10 Countries for Entities to be physically based in')"
      ]
     },
     "execution_count": 18,
     "metadata": {},
     "output_type": "execute_result"
    },
    {
     "data": {
      "text/plain": [
       "Text(0.5, 0, 'Country')"
      ]
     },
     "execution_count": 18,
     "metadata": {},
     "output_type": "execute_result"
    },
    {
     "data": {
      "text/plain": [
       "Text(0, 0.5, 'Number of Entities')"
      ]
     },
     "execution_count": 18,
     "metadata": {},
     "output_type": "execute_result"
    },
    {
     "data": {
      "text/plain": [
       "(array([0, 1, 2, 3, 4, 5, 6, 7, 8, 9]),\n",
       " [Text(0, 0, 'British Virgin Islands'),\n",
       "  Text(1, 0, 'Malta'),\n",
       "  Text(2, 0, 'Barbados'),\n",
       "  Text(3, 0, 'Bermuda'),\n",
       "  Text(4, 0, 'Hong Kong'),\n",
       "  Text(5, 0, 'Cayman Islands'),\n",
       "  Text(6, 0, 'United Kingdom'),\n",
       "  Text(7, 0, 'United States'),\n",
       "  Text(8, 0, 'Russia'),\n",
       "  Text(9, 0, 'Isle of Man')])"
      ]
     },
     "execution_count": 18,
     "metadata": {},
     "output_type": "execute_result"
    },
    {
     "data": {
      "image/png": "[encoded data removed]",
      "text/plain": [
       "<Figure size 1200x600 with 1 Axes>"
      ]
     },
     "metadata": {},
     "output_type": "display_data"
    }
   ],
   "source": [
    "# Filter for entities\n",
    "entity_rels = rels[rels['node_type_start'] == 'entity']\n",
    "\n",
    "# Create a new series by splitting countries_start by semicolon and exploding the list\n",
    "# This handles NaN values by first filling them with an empty string, then filtering out empty strings after split\n",
    "split_countries = entity_rels['countries_start'].fillna('').str.split(';').explode()\n",
    "\n",
    "# Remove any empty strings that might result from splitting or from original NaNs\n",
    "split_countries = split_countries[split_countries != '']\n",
    "\n",
    "# Get the top 10 countries for entities\n",
    "value_counts = split_countries.value_counts()\n",
    "# Filter out \"Not identified\" before getting the top 10\n",
    "filtered_value_counts = value_counts[value_counts.index != 'Not identified']\n",
    "top_10_entity_countries = filtered_value_counts.nlargest(10)\n",
    "\n",
    "print(\"Top 10 countries for entities (based on start_country, semicolon separated values counted individually):\")\n",
    "print(top_10_entity_countries)\n",
    "\n",
    "# Create a bar plot for the top 10 countries\n",
    "# Sort the data for gradient coloring\n",
    "sorted_countries = top_10_entity_countries.sort_values(ascending=False)\n",
    "# Create a color map from light blue to dark blue\n",
    "colors = plt.cm.Blues(np.linspace(1, 0.4, len(sorted_countries))) # Darkest for highest, lighter for lower\n",
    "\n",
    "sorted_countries.plot(kind='bar', figsize=(12, 6), color=colors)\n",
    "plt.title('Top 10 Countries for Entities to be physically based in')\n",
    "plt.xlabel('Country')\n",
    "plt.ylabel('Number of Entities')\n",
    "plt.xticks(rotation=45, ha='right') # Adjusted rotation for better label visibility\n",
    "plt.tight_layout()\n",
    "plt.show()\n"
   ]
  },
  {
   "cell_type": "code",
   "execution_count": null,
   "id": "c91738f1",
   "metadata": {},
   "outputs": [
    {
     "name": "stdout",
     "output_type": "stream",
     "text": [
      "Top 10 jurisdictions for entities (based on jurisdiction_description_start):\n",
      "jurisdiction_description_start\n",
      "Malta                     83948\n",
      "British Virgin Islands    64042\n",
      "Aruba                     51820\n",
      "Barbados                  48546\n",
      "Bahamas                   18241\n",
      "Bermuda                   16992\n",
      "Cayman Islands            10915\n",
      "Isle of Man                3659\n",
      "Panama                     3416\n",
      "Samoa                      3326\n",
      "Name: count, dtype: int64\n"
     ]
    },
    {
     "data": {
      "text/plain": [
       "<Axes: xlabel='jurisdiction_description_start'>"
      ]
     },
     "execution_count": 19,
     "metadata": {},
     "output_type": "execute_result"
    },
    {
     "data": {
      "text/plain": [
       "Text(0.5, 1.0, 'Top 10 Jurisdictions for Entities')"
      ]
     },
     "execution_count": 19,
     "metadata": {},
     "output_type": "execute_result"
    },
    {
     "data": {
      "text/plain": [
       "Text(0.5, 0, 'Jurisdiction')"
      ]
     },
     "execution_count": 19,
     "metadata": {},
     "output_type": "execute_result"
    },
    {
     "data": {
      "text/plain": [
       "Text(0, 0.5, 'Number of Entities')"
      ]
     },
     "execution_count": 19,
     "metadata": {},
     "output_type": "execute_result"
    },
    {
     "data": {
      "text/plain": [
       "(array([0, 1, 2, 3, 4, 5, 6, 7, 8, 9]),\n",
       " [Text(0, 0, 'Malta'),\n",
       "  Text(1, 0, 'British Virgin Islands'),\n",
       "  Text(2, 0, 'Aruba'),\n",
       "  Text(3, 0, 'Barbados'),\n",
       "  Text(4, 0, 'Bahamas'),\n",
       "  Text(5, 0, 'Bermuda'),\n",
       "  Text(6, 0, 'Cayman Islands'),\n",
       "  Text(7, 0, 'Isle of Man'),\n",
       "  Text(8, 0, 'Panama'),\n",
       "  Text(9, 0, 'Samoa')])"
      ]
     },
     "execution_count": 19,
     "metadata": {},
     "output_type": "execute_result"
    },
    {
     "data": {
      "image/png": "[encoded data removed]",
      "text/plain": [
       "<Figure size 1200x600 with 1 Axes>"
      ]
     },
     "metadata": {},
     "output_type": "display_data"
    }
   ],
   "source": [
    "# Filter for entities\n",
    "entity_rels = rels[rels['node_type_start'] == 'entity']\n",
    "\n",
    "# Get the top 10 jurisdictions for entities\n",
    "jurisdiction_counts = entity_rels['jurisdiction_description_start'].value_counts()\n",
    "# Filter out \"Undetermined\" before getting the top 10\n",
    "filtered_jurisdiction_counts = jurisdiction_counts[jurisdiction_counts.index != 'Undetermined']\n",
    "top_10_entity_jurisdictions = filtered_jurisdiction_counts.nlargest(10)\n",
    "\n",
    "print(\"Top 10 jurisdictions for entities (based on jurisdiction_description_start):\")\n",
    "print(top_10_entity_jurisdictions)\n",
    "\n",
    "# Create a bar plot for the top 10 jurisdictions\n",
    "# Sort the data for gradient coloring\n",
    "sorted_jurisdictions = top_10_entity_jurisdictions.sort_values(ascending=False)\n",
    "# Create a color map from light orange to dark orange\n",
    "colors = plt.cm.Oranges(np.linspace(1, 0.4, len(sorted_jurisdictions))) # Darkest for highest, lighter for lower\n",
    "\n",
    "sorted_jurisdictions.plot(kind='bar', figsize=(12, 6), color=colors)\n",
    "plt.title('Top 10 Jurisdictions for Entities')\n",
    "plt.xlabel('Jurisdiction')\n",
    "plt.ylabel('Number of Entities')\n",
    "plt.xticks(rotation=45, ha='right') # Added ha='right' for better label visibility\n",
    "plt.tight_layout()\n",
    "plt.show()\n"
   ]
  }
 ],
 "metadata": {
  "kernelspec": {
   "display_name": "myenv",
   "language": "python",
   "name": "myenv"
  },
  "language_info": {
   "codemirror_mode": {
    "name": "ipython",
    "version": 3
   },
   "file_extension": ".py",
   "mimetype": "text/x-python",
   "name": "python",
   "nbconvert_exporter": "python",
   "pygments_lexer": "ipython3",
   "version": "3.12.2"
  }
 },
 "nbformat": 4,
 "nbformat_minor": 5
}
