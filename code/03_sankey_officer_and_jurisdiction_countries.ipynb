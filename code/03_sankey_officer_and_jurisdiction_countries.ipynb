{
 "cells": [
  {
   "cell_type": "markdown",
   "id": "5098b0fc",
   "metadata": {},
   "source": [
    "# Sankey Graph of Officers and Entity Jurisdictions"
   ]
  },
  {
   "cell_type": "markdown",
   "id": "52f28ec9",
   "metadata": {},
   "source": [
    "This Jupyter Notebook analyzes entity data to understand the relationships between officer origin countries and entity registration jurisdictions. It loads and cleans the data, then filters for the top 5 entity jurisdictions and the top 10 officer origin countries based on entity flow counts. Finally, the notebook visualizes these flows using a Plotly Sankey diagram and calculates the proportion of entities from each top origin country going to each top jurisdiction."
   ]
  },
  {
   "cell_type": "code",
   "execution_count": 1,
   "id": "dd19c5c0-9bb6-463e-a316-f43c6186191f",
   "metadata": {},
   "outputs": [],
   "source": [
    "# import packages to create sankey graphs\n",
    "\n",
    "import plotly.graph_objects as go\n",
    "import pandas as pd\n",
    "import plotly.express as px"
   ]
  },
  {
   "cell_type": "code",
   "execution_count": 2,
   "id": "f53ebd33",
   "metadata": {},
   "outputs": [
    {
     "name": "stderr",
     "output_type": "stream",
     "text": [
      "/var/folders/5x/0sqjbpy13p3gzjlddpxqjtfw0000gn/T/ipykernel_16286/3436424098.py:3: DtypeWarning: Columns (4,5,6,7,8,10,11,14,16,17,18,19,20,21,22,23,24,25,26,27,28,29,30,31,32,33,34,37,39,40,41,42,43,45,46,47,48,49,50,51,52,53) have mixed types. Specify dtype option on import or set low_memory=False.\n",
      "  df = pd.read_csv(\"ICIJ_Merged.csv\")\n"
     ]
    },
    {
     "data": {
      "application/vnd.microsoft.datawrangler.viewer.v0+json": {
       "columns": [
        {
         "name": "index",
         "rawType": "int64",
         "type": "integer"
        },
        {
         "name": "node_id_start",
         "rawType": "int64",
         "type": "integer"
        },
        {
         "name": "node_id_end",
         "rawType": "int64",
         "type": "integer"
        },
        {
         "name": "rel_type",
         "rawType": "object",
         "type": "string"
        },
        {
         "name": "link",
         "rawType": "object",
         "type": "string"
        },
        {
         "name": "status",
         "rawType": "object",
         "type": "unknown"
        },
        {
         "name": "start_date",
         "rawType": "object",
         "type": "unknown"
        },
        {
         "name": "end_date",
         "rawType": "object",
         "type": "unknown"
        },
        {
         "name": "sourceid",
         "rawType": "object",
         "type": "string"
        },
        {
         "name": "address_start",
         "rawType": "object",
         "type": "string"
        },
        {
         "name": "name_start",
         "rawType": "object",
         "type": "string"
        },
        {
         "name": "countries_start",
         "rawType": "object",
         "type": "string"
        },
        {
         "name": "country_codes_start",
         "rawType": "object",
         "type": "string"
        },
        {
         "name": "sourceid_start",
         "rawType": "object",
         "type": "string"
        },
        {
         "name": "valid_until_start",
         "rawType": "object",
         "type": "string"
        },
        {
         "name": "note_start",
         "rawType": "object",
         "type": "unknown"
        },
        {
         "name": "node_type_start",
         "rawType": "object",
         "type": "string"
        },
        {
         "name": "original_name_start",
         "rawType": "object",
         "type": "string"
        },
        {
         "name": "former_name_start",
         "rawType": "object",
         "type": "unknown"
        },
        {
         "name": "jurisdiction_start",
         "rawType": "object",
         "type": "string"
        },
        {
         "name": "jurisdiction_description_start",
         "rawType": "object",
         "type": "string"
        },
        {
         "name": "company_type_start",
         "rawType": "object",
         "type": "unknown"
        },
        {
         "name": "internal_id_start",
         "rawType": "object",
         "type": "unknown"
        },
        {
         "name": "incorporation_date_start",
         "rawType": "object",
         "type": "string"
        },
        {
         "name": "inactivation_date_start",
         "rawType": "object",
         "type": "unknown"
        },
        {
         "name": "struck_off_date_start",
         "rawType": "object",
         "type": "unknown"
        },
        {
         "name": "dorm_date_start",
         "rawType": "object",
         "type": "unknown"
        },
        {
         "name": "status_start",
         "rawType": "object",
         "type": "string"
        },
        {
         "name": "service_provider_start",
         "rawType": "object",
         "type": "string"
        },
        {
         "name": "ibcruc_start",
         "rawType": "object",
         "type": "unknown"
        },
        {
         "name": "type_start",
         "rawType": "object",
         "type": "unknown"
        },
        {
         "name": "closed_date_start",
         "rawType": "object",
         "type": "unknown"
        },
        {
         "name": "address_end",
         "rawType": "object",
         "type": "string"
        },
        {
         "name": "name_end",
         "rawType": "object",
         "type": "unknown"
        },
        {
         "name": "countries_end",
         "rawType": "object",
         "type": "string"
        },
        {
         "name": "country_codes_end",
         "rawType": "object",
         "type": "string"
        },
        {
         "name": "sourceid_end",
         "rawType": "object",
         "type": "string"
        },
        {
         "name": "valid_until_end",
         "rawType": "object",
         "type": "string"
        },
        {
         "name": "note_end",
         "rawType": "object",
         "type": "unknown"
        },
        {
         "name": "node_type_end",
         "rawType": "object",
         "type": "string"
        },
        {
         "name": "original_name_end",
         "rawType": "object",
         "type": "unknown"
        },
        {
         "name": "former_name_end",
         "rawType": "object",
         "type": "unknown"
        },
        {
         "name": "jurisdiction_end",
         "rawType": "object",
         "type": "unknown"
        },
        {
         "name": "jurisdiction_description_end",
         "rawType": "object",
         "type": "unknown"
        },
        {
         "name": "company_type_end",
         "rawType": "object",
         "type": "unknown"
        },
        {
         "name": "internal_id_end",
         "rawType": "float64",
         "type": "float"
        },
        {
         "name": "incorporation_date_end",
         "rawType": "object",
         "type": "unknown"
        },
        {
         "name": "inactivation_date_end",
         "rawType": "object",
         "type": "unknown"
        },
        {
         "name": "struck_off_date_end",
         "rawType": "object",
         "type": "unknown"
        },
        {
         "name": "dorm_date_end",
         "rawType": "object",
         "type": "unknown"
        },
        {
         "name": "status_end",
         "rawType": "object",
         "type": "unknown"
        },
        {
         "name": "service_provider_end",
         "rawType": "object",
         "type": "unknown"
        },
        {
         "name": "ibcruc_end",
         "rawType": "object",
         "type": "unknown"
        },
        {
         "name": "type_end",
         "rawType": "object",
         "type": "unknown"
        },
        {
         "name": "closed_date_end",
         "rawType": "object",
         "type": "unknown"
        }
       ],
       "ref": "85bf5c86-00a4-4be7-a984-d06074e7abb2",
       "rows": [
        [
         "0",
         "10002580",
         "14106952",
         "registered_address",
         "registered address",
         null,
         null,
         null,
         "Panama Papers",
         "STEMBRIDGE TRUST (IRELAND) LIMITED 5 THE COURTYARD CARMANHALL ROAD SANDYFORD DUBLIN 18 IRELAND",
         "FUSION TRADING LIMITED",
         "Ireland",
         "IRL",
         "Panama Papers",
         "The Panama Papers data is current through 2015",
         null,
         "entity",
         "FUSION TRADING LIMITED",
         null,
         "SAM",
         "Samoa",
         null,
         null,
         "2006-12-27",
         "21-JUL-2010",
         "15-FEB-2011",
         null,
         "Defaulted",
         "Mossack Fonseca",
         "R29575",
         null,
         null,
         "STEMBRIDGE TRUST (IRELAND) LIMITED 5 THE COURTYARD CARMANHALL ROAD SANDYFORD DUBLIN 18 IRELAND",
         null,
         "Ireland",
         "IRL",
         "Panama Papers",
         "The Panama Papers data is current through 2015",
         null,
         "address",
         null,
         null,
         null,
         null,
         null,
         null,
         null,
         null,
         null,
         null,
         null,
         null,
         null,
         null,
         null
        ],
        [
         "1",
         "10004460",
         "14101133",
         "registered_address",
         "registered address",
         null,
         null,
         null,
         "Panama Papers",
         "MF CORPORATE (UK) LIMITED 520 S. 7TH STREET SUITE C LAS VEGAS, NV 89101 U. S. A.",
         "MF CORPORATE (UK) LIMITED",
         "United States",
         "USA",
         "Panama Papers",
         "The Panama Papers data is current through 2015",
         null,
         "entity",
         "MF CORPORATE (UK) LIMITED",
         null,
         "UK",
         "United Kingdom",
         null,
         null,
         "2005-07-29",
         "22-DEC-2011",
         "29-JUL-2006",
         null,
         "In transition",
         "Mossack Fonseca",
         null,
         null,
         null,
         "MF CORPORATE (UK) LIMITED 520 S. 7TH STREET SUITE C LAS VEGAS, NV 89101 U. S. A.",
         null,
         "United States",
         "USA",
         "Panama Papers",
         "The Panama Papers data is current through 2015",
         null,
         "address",
         null,
         null,
         null,
         null,
         null,
         null,
         null,
         null,
         null,
         null,
         null,
         null,
         null,
         null,
         null
        ],
        [
         "2",
         "10023813",
         "14105100",
         "registered_address",
         "registered address",
         null,
         null,
         null,
         "Panama Papers",
         "REIG INVESTMENTS LLP INVISION HOUSE WILBURY WAY HITCHIN HERTFORDSHIRE SG4 0XE UNITED KINGDOM",
         "REIG INVESTMENTS LLP",
         "United Kingdom",
         "GBR",
         "Panama Papers",
         "The Panama Papers data is current through 2015",
         null,
         "entity",
         "REIG INVESTMENTS LLP",
         null,
         "UK",
         "United Kingdom",
         null,
         null,
         "2009-11-24",
         "27-JUL-2012",
         "24-NOV-2010",
         null,
         "In transition",
         "Mossack Fonseca",
         "OC256795",
         null,
         null,
         "REIG INVESTMENTS LLP INVISION HOUSE WILBURY WAY HITCHIN HERTFORDSHIRE SG4 0XE UNITED KINGDOM",
         null,
         "United Kingdom",
         "GBR",
         "Panama Papers",
         "The Panama Papers data is current through 2015",
         null,
         "address",
         null,
         null,
         null,
         null,
         null,
         null,
         null,
         null,
         null,
         null,
         null,
         null,
         null,
         null,
         null
        ],
        [
         "3",
         "10023840",
         "14100712",
         "registered_address",
         "registered address",
         null,
         null,
         null,
         "Panama Papers",
         "MARCUSSI INTERNATIONAL LLP INVISION HOUSE WILBURY WAY HITCHIN HERTFORDSHIRE SG4 0XE UNITED KINGDOM",
         "MARCUSSI INTERNATIONAL LLP",
         "United Kingdom",
         "GBR",
         "Panama Papers",
         "The Panama Papers data is current through 2015",
         null,
         "entity",
         "MARCUSSI INTERNATIONAL LLP",
         null,
         "UK",
         "United Kingdom",
         null,
         null,
         "2013-09-25",
         null,
         null,
         null,
         "Active",
         "Mossack Fonseca",
         "OC388103",
         null,
         null,
         "MARCUSSI INTERNATIONAL LLP INVISION HOUSE WILBURY WAY HITCHIN HERTFORDSHIRE SG4 0XE UNITED KINGDOM",
         null,
         "United Kingdom",
         "GBR",
         "Panama Papers",
         "The Panama Papers data is current through 2015",
         null,
         "address",
         null,
         null,
         null,
         null,
         null,
         null,
         null,
         null,
         null,
         null,
         null,
         null,
         null,
         null,
         null
        ],
        [
         "4",
         "10010428",
         "14093957",
         "registered_address",
         "registered address",
         null,
         null,
         null,
         "Panama Papers",
         "COLLYER BRISTOW LLP SOLICITORS 4 BEDFORD ROW LONDON WC1R 4TF UNITED KINGDOM *S.I.*",
         "PULSAR HOLDINGS CORPORATION",
         "United Kingdom",
         "GBR",
         "Panama Papers",
         "The Panama Papers data is current through 2015",
         null,
         "entity",
         "PULSAR HOLDINGS CORPORATION",
         null,
         "PMA",
         "Panama",
         null,
         null,
         "1990-09-13",
         "10-OCT-1991",
         "13-DEC-1991",
         null,
         "Defaulted",
         "Mossack Fonseca",
         null,
         null,
         null,
         "COLLYER BRISTOW LLP SOLICITORS 4 BEDFORD ROW LONDON WC1R 4TF UNITED KINGDOM *S.I.*",
         null,
         "United Kingdom",
         "GBR",
         "Panama Papers",
         "The Panama Papers data is current through 2015",
         null,
         "address",
         null,
         null,
         null,
         null,
         null,
         null,
         null,
         null,
         null,
         null,
         null,
         null,
         null,
         null,
         null
        ]
       ],
       "shape": {
        "columns": 54,
        "rows": 5
       }
      },
      "text/html": [
       "<div>\n",
       "<style scoped>\n",
       "    .dataframe tbody tr th:only-of-type {\n",
       "        vertical-align: middle;\n",
       "    }\n",
       "\n",
       "    .dataframe tbody tr th {\n",
       "        vertical-align: top;\n",
       "    }\n",
       "\n",
       "    .dataframe thead th {\n",
       "        text-align: right;\n",
       "    }\n",
       "</style>\n",
       "<table border=\"1\" class=\"dataframe\">\n",
       "  <thead>\n",
       "    <tr style=\"text-align: right;\">\n",
       "      <th></th>\n",
       "      <th>node_id_start</th>\n",
       "      <th>node_id_end</th>\n",
       "      <th>rel_type</th>\n",
       "      <th>link</th>\n",
       "      <th>status</th>\n",
       "      <th>start_date</th>\n",
       "      <th>end_date</th>\n",
       "      <th>sourceid</th>\n",
       "      <th>address_start</th>\n",
       "      <th>name_start</th>\n",
       "      <th>...</th>\n",
       "      <th>internal_id_end</th>\n",
       "      <th>incorporation_date_end</th>\n",
       "      <th>inactivation_date_end</th>\n",
       "      <th>struck_off_date_end</th>\n",
       "      <th>dorm_date_end</th>\n",
       "      <th>status_end</th>\n",
       "      <th>service_provider_end</th>\n",
       "      <th>ibcruc_end</th>\n",
       "      <th>type_end</th>\n",
       "      <th>closed_date_end</th>\n",
       "    </tr>\n",
       "  </thead>\n",
       "  <tbody>\n",
       "    <tr>\n",
       "      <th>0</th>\n",
       "      <td>10002580</td>\n",
       "      <td>14106952</td>\n",
       "      <td>registered_address</td>\n",
       "      <td>registered address</td>\n",
       "      <td>NaN</td>\n",
       "      <td>NaN</td>\n",
       "      <td>NaN</td>\n",
       "      <td>Panama Papers</td>\n",
       "      <td>STEMBRIDGE TRUST (IRELAND) LIMITED 5 THE COURT...</td>\n",
       "      <td>FUSION TRADING LIMITED</td>\n",
       "      <td>...</td>\n",
       "      <td>NaN</td>\n",
       "      <td>NaN</td>\n",
       "      <td>NaN</td>\n",
       "      <td>NaN</td>\n",
       "      <td>NaN</td>\n",
       "      <td>NaN</td>\n",
       "      <td>NaN</td>\n",
       "      <td>NaN</td>\n",
       "      <td>NaN</td>\n",
       "      <td>NaN</td>\n",
       "    </tr>\n",
       "    <tr>\n",
       "      <th>1</th>\n",
       "      <td>10004460</td>\n",
       "      <td>14101133</td>\n",
       "      <td>registered_address</td>\n",
       "      <td>registered address</td>\n",
       "      <td>NaN</td>\n",
       "      <td>NaN</td>\n",
       "      <td>NaN</td>\n",
       "      <td>Panama Papers</td>\n",
       "      <td>MF CORPORATE (UK) LIMITED 520 S. 7TH STREET SU...</td>\n",
       "      <td>MF CORPORATE (UK) LIMITED</td>\n",
       "      <td>...</td>\n",
       "      <td>NaN</td>\n",
       "      <td>NaN</td>\n",
       "      <td>NaN</td>\n",
       "      <td>NaN</td>\n",
       "      <td>NaN</td>\n",
       "      <td>NaN</td>\n",
       "      <td>NaN</td>\n",
       "      <td>NaN</td>\n",
       "      <td>NaN</td>\n",
       "      <td>NaN</td>\n",
       "    </tr>\n",
       "    <tr>\n",
       "      <th>2</th>\n",
       "      <td>10023813</td>\n",
       "      <td>14105100</td>\n",
       "      <td>registered_address</td>\n",
       "      <td>registered address</td>\n",
       "      <td>NaN</td>\n",
       "      <td>NaN</td>\n",
       "      <td>NaN</td>\n",
       "      <td>Panama Papers</td>\n",
       "      <td>REIG INVESTMENTS LLP INVISION HOUSE WILBURY WA...</td>\n",
       "      <td>REIG INVESTMENTS LLP</td>\n",
       "      <td>...</td>\n",
       "      <td>NaN</td>\n",
       "      <td>NaN</td>\n",
       "      <td>NaN</td>\n",
       "      <td>NaN</td>\n",
       "      <td>NaN</td>\n",
       "      <td>NaN</td>\n",
       "      <td>NaN</td>\n",
       "      <td>NaN</td>\n",
       "      <td>NaN</td>\n",
       "      <td>NaN</td>\n",
       "    </tr>\n",
       "    <tr>\n",
       "      <th>3</th>\n",
       "      <td>10023840</td>\n",
       "      <td>14100712</td>\n",
       "      <td>registered_address</td>\n",
       "      <td>registered address</td>\n",
       "      <td>NaN</td>\n",
       "      <td>NaN</td>\n",
       "      <td>NaN</td>\n",
       "      <td>Panama Papers</td>\n",
       "      <td>MARCUSSI INTERNATIONAL LLP INVISION HOUSE WILB...</td>\n",
       "      <td>MARCUSSI INTERNATIONAL LLP</td>\n",
       "      <td>...</td>\n",
       "      <td>NaN</td>\n",
       "      <td>NaN</td>\n",
       "      <td>NaN</td>\n",
       "      <td>NaN</td>\n",
       "      <td>NaN</td>\n",
       "      <td>NaN</td>\n",
       "      <td>NaN</td>\n",
       "      <td>NaN</td>\n",
       "      <td>NaN</td>\n",
       "      <td>NaN</td>\n",
       "    </tr>\n",
       "    <tr>\n",
       "      <th>4</th>\n",
       "      <td>10010428</td>\n",
       "      <td>14093957</td>\n",
       "      <td>registered_address</td>\n",
       "      <td>registered address</td>\n",
       "      <td>NaN</td>\n",
       "      <td>NaN</td>\n",
       "      <td>NaN</td>\n",
       "      <td>Panama Papers</td>\n",
       "      <td>COLLYER BRISTOW LLP SOLICITORS 4 BEDFORD ROW L...</td>\n",
       "      <td>PULSAR HOLDINGS CORPORATION</td>\n",
       "      <td>...</td>\n",
       "      <td>NaN</td>\n",
       "      <td>NaN</td>\n",
       "      <td>NaN</td>\n",
       "      <td>NaN</td>\n",
       "      <td>NaN</td>\n",
       "      <td>NaN</td>\n",
       "      <td>NaN</td>\n",
       "      <td>NaN</td>\n",
       "      <td>NaN</td>\n",
       "      <td>NaN</td>\n",
       "    </tr>\n",
       "  </tbody>\n",
       "</table>\n",
       "<p>5 rows × 54 columns</p>\n",
       "</div>"
      ],
      "text/plain": [
       "   node_id_start  node_id_end            rel_type                link status  \\\n",
       "0       10002580     14106952  registered_address  registered address    NaN   \n",
       "1       10004460     14101133  registered_address  registered address    NaN   \n",
       "2       10023813     14105100  registered_address  registered address    NaN   \n",
       "3       10023840     14100712  registered_address  registered address    NaN   \n",
       "4       10010428     14093957  registered_address  registered address    NaN   \n",
       "\n",
       "  start_date end_date       sourceid  \\\n",
       "0        NaN      NaN  Panama Papers   \n",
       "1        NaN      NaN  Panama Papers   \n",
       "2        NaN      NaN  Panama Papers   \n",
       "3        NaN      NaN  Panama Papers   \n",
       "4        NaN      NaN  Panama Papers   \n",
       "\n",
       "                                       address_start  \\\n",
       "0  STEMBRIDGE TRUST (IRELAND) LIMITED 5 THE COURT...   \n",
       "1  MF CORPORATE (UK) LIMITED 520 S. 7TH STREET SU...   \n",
       "2  REIG INVESTMENTS LLP INVISION HOUSE WILBURY WA...   \n",
       "3  MARCUSSI INTERNATIONAL LLP INVISION HOUSE WILB...   \n",
       "4  COLLYER BRISTOW LLP SOLICITORS 4 BEDFORD ROW L...   \n",
       "\n",
       "                    name_start  ... internal_id_end incorporation_date_end  \\\n",
       "0       FUSION TRADING LIMITED  ...             NaN                    NaN   \n",
       "1    MF CORPORATE (UK) LIMITED  ...             NaN                    NaN   \n",
       "2         REIG INVESTMENTS LLP  ...             NaN                    NaN   \n",
       "3   MARCUSSI INTERNATIONAL LLP  ...             NaN                    NaN   \n",
       "4  PULSAR HOLDINGS CORPORATION  ...             NaN                    NaN   \n",
       "\n",
       "  inactivation_date_end struck_off_date_end dorm_date_end status_end  \\\n",
       "0                   NaN                 NaN           NaN        NaN   \n",
       "1                   NaN                 NaN           NaN        NaN   \n",
       "2                   NaN                 NaN           NaN        NaN   \n",
       "3                   NaN                 NaN           NaN        NaN   \n",
       "4                   NaN                 NaN           NaN        NaN   \n",
       "\n",
       "  service_provider_end ibcruc_end type_end closed_date_end  \n",
       "0                  NaN        NaN      NaN             NaN  \n",
       "1                  NaN        NaN      NaN             NaN  \n",
       "2                  NaN        NaN      NaN             NaN  \n",
       "3                  NaN        NaN      NaN             NaN  \n",
       "4                  NaN        NaN      NaN             NaN  \n",
       "\n",
       "[5 rows x 54 columns]"
      ]
     },
     "execution_count": 2,
     "metadata": {},
     "output_type": "execute_result"
    }
   ],
   "source": [
    "# load data\n",
    "\n",
    "df = pd.read_csv(\"ICIJ_Merged.csv\")\n",
    "df.head()"
   ]
  },
  {
   "cell_type": "code",
   "execution_count": 3,
   "id": "fd704b8d",
   "metadata": {},
   "outputs": [],
   "source": [
    "# Determine the top 5 jurisdictions based on the count of entities.\n",
    "# It filters the dataframe for rows where 'node_type_end' is 'entity',\n",
    "# then counts the occurrences of each 'jurisdiction_description_end',\n",
    "# selects the top 5 most frequent/popular, and converts their names to a list.\n",
    "top_jurisdictions = (\n",
    "    df[df['node_type_end'] == 'entity']['jurisdiction_description_end']\n",
    "    .value_counts()\n",
    "    .nlargest(5)\n",
    "    .index\n",
    "    .tolist()\n",
    ")\n",
    "\n",
    "# Create new dataframe which includes rows where:\n",
    "# 1. The 'node_type_start' is 'officer'.\n",
    "# 2. The 'node_type_end' is 'entity'.\n",
    "# 3. The 'jurisdiction_description_end' is one of the 'top_jurisdictions' identified above.\n",
    "df_filtered = df[\n",
    "    (df['node_type_start'] == 'officer') & \n",
    "    (df['node_type_end'] == 'entity') &\n",
    "    (df['jurisdiction_description_end'].isin(top_jurisdictions))\n",
    "]"
   ]
  },
  {
   "cell_type": "code",
   "execution_count": 4,
   "id": "a0e83204-6fee-4f51-8a4e-39f0db012868",
   "metadata": {},
   "outputs": [
    {
     "name": "stdout",
     "output_type": "stream",
     "text": [
      "jurisdiction_description_end\n",
      "Malta                     565267\n",
      "British Virgin Islands    391519\n",
      "Bermuda                   165947\n",
      "Barbados                  142731\n",
      "Bahamas                    52283\n",
      "Name: count, dtype: int64\n"
     ]
    }
   ],
   "source": [
    "print(df_filtered['jurisdiction_description_end'].value_counts())"
   ]
  },
  {
   "cell_type": "code",
   "execution_count": 5,
   "id": "74b528ed-e77e-4d6f-a09c-dee040ab6709",
   "metadata": {},
   "outputs": [
    {
     "name": "stdout",
     "output_type": "stream",
     "text": [
      "['Malta', 'British Virgin Islands', 'Bahamas', 'Bermuda', 'Barbados']\n"
     ]
    }
   ],
   "source": [
    "print(top_jurisdictions)"
   ]
  },
  {
   "cell_type": "markdown",
   "id": "146f3283",
   "metadata": {},
   "source": [
    "**Note:** we will use the top 5 jurisdictions that are found by the following code"
   ]
  },
  {
   "cell_type": "code",
   "execution_count": 6,
   "id": "017b0cff",
   "metadata": {},
   "outputs": [
    {
     "name": "stdout",
     "output_type": "stream",
     "text": [
      "             jurisdiction   count\n",
      "0                   Malta  565267\n",
      "1  British Virgin Islands  391519\n",
      "2                 Bermuda  165947\n",
      "3                Barbados  142731\n",
      "4                 Bahamas   52283\n"
     ]
    }
   ],
   "source": [
    "# Further filter df_filtered to ensure only top jurisdictions are considered (this step might be redundant if df_filtered is already correctly constructed).\n",
    "# Then, count the occurrences of each jurisdiction in 'jurisdiction_description_end'.\n",
    "juris_counts = (\n",
    "    df_filtered[df_filtered['jurisdiction_description_end'].isin(top_jurisdictions)]\n",
    "    ['jurisdiction_description_end']\n",
    "    .value_counts()\n",
    "    .reset_index() # Convert the Series to a DataFrame and make the index (jurisdictions) a column.\n",
    ")\n",
    "\n",
    "# Rename the columns of the new dataframe for clarity.\n",
    "juris_counts.columns = ['jurisdiction', 'count']\n",
    "\n",
    "print(juris_counts) "
   ]
  },
  {
   "cell_type": "code",
   "execution_count": 7,
   "id": "26c589bd",
   "metadata": {},
   "outputs": [
    {
     "name": "stderr",
     "output_type": "stream",
     "text": [
      "/var/folders/5x/0sqjbpy13p3gzjlddpxqjtfw0000gn/T/ipykernel_16286/404896383.py:2: SettingWithCopyWarning: \n",
      "A value is trying to be set on a copy of a slice from a DataFrame.\n",
      "Try using .loc[row_indexer,col_indexer] = value instead\n",
      "\n",
      "See the caveats in the documentation: https://pandas.pydata.org/pandas-docs/stable/user_guide/indexing.html#returning-a-view-versus-a-copy\n",
      "  df_filtered['countries_start'] = df_filtered['countries_start'].fillna(\"\").astype(str)\n",
      "/var/folders/5x/0sqjbpy13p3gzjlddpxqjtfw0000gn/T/ipykernel_16286/404896383.py:4: SettingWithCopyWarning: \n",
      "A value is trying to be set on a copy of a slice from a DataFrame.\n",
      "Try using .loc[row_indexer,col_indexer] = value instead\n",
      "\n",
      "See the caveats in the documentation: https://pandas.pydata.org/pandas-docs/stable/user_guide/indexing.html#returning-a-view-versus-a-copy\n",
      "  df_filtered['countries_start'] = df_filtered['countries_start'].str.split(';')\n"
     ]
    },
    {
     "name": "stdout",
     "output_type": "stream",
     "text": [
      "                  country   count\n",
      "0                   Malta  387148\n",
      "1          United Kingdom   97694\n",
      "2           United States   75592\n",
      "3  British Virgin Islands   74252\n",
      "4                 Bermuda   66634\n",
      "5               Hong Kong   59287\n",
      "6               Singapore   57816\n",
      "7               Indonesia   48366\n",
      "8                   China   45750\n",
      "9                Thailand   41195\n"
     ]
    }
   ],
   "source": [
    "# Fill NaN values in 'countries_start' with an empty string and ensure the column is of string type\n",
    "df_filtered['countries_start'] = df_filtered['countries_start'].fillna(\"\").astype(str)\n",
    "# Split the 'countries_start' string by ';' to handle multiple countries listed in a single entry\n",
    "df_filtered['countries_start'] = df_filtered['countries_start'].str.split(';')\n",
    "# Transform each item in the lists (from the split) into a separate row, duplicating other column values\n",
    "df_filtered = df_filtered.explode('countries_start')\n",
    "\n",
    "# Remove leading/trailing whitespace from the 'countries_start' entries\n",
    "df_filtered['countries_start'] = df_filtered['countries_start'].str.strip()\n",
    "\n",
    "# Filter out rows where 'countries_start' is an empty string after stripping\n",
    "df_filtered = df_filtered[df_filtered['countries_start'] != \"\"]\n",
    "\n",
    "# Filter out rows where 'countries_start' is \"not identified\" (case-insensitive) or an empty string\n",
    "df_filtered = df_filtered[\n",
    "    (df_filtered['countries_start'].str.lower() != \"not identified\") &\n",
    "    (df_filtered['countries_start'] != \"\")\n",
    "]\n",
    "# Count the occurrences of each country in 'countries_start' and convert the result to a dataframe\n",
    "country_counts = df_filtered['countries_start'].value_counts().reset_index()\n",
    "# Rename the columns of the new dataframe for clarity\n",
    "country_counts.columns = ['country', 'count']\n",
    "\n",
    "print(country_counts.head(10))"
   ]
  },
  {
   "cell_type": "code",
   "execution_count": 8,
   "id": "cbf89b57",
   "metadata": {},
   "outputs": [],
   "source": [
    "# Group data by officer origin country ('countries_start') and entity jurisdiction ('jurisdiction_description_end'),\n",
    "# count the number of occurrences for each combination, and reset the index to create a dataframe\n",
    "# The resulting 'flow_counts' df will have columns: 'countries_start', 'jurisdiction_description_end', and 'count'\n",
    "flow_counts = df_filtered.groupby(['countries_start', 'jurisdiction_description_end']).size().reset_index(name='count')\n",
    "\n",
    "# Create a list of the top 5 jurisdictions to focus on which were previously identified\n",
    "top_jurisdictions = ['Malta', 'British Virgin Islands', 'Bahamas', 'Bermuda', 'Barbados']\n",
    "\n",
    "# Filter to include only rows where 'jurisdiction_description_end' is one of the specified 'top_jurisdictions'\n",
    "flow_counts = flow_counts[flow_counts['jurisdiction_description_end'].isin(top_jurisdictions)]\n",
    "\n",
    "# Determine the top 10 officer origin countries ('countries_start') based on the sum of 'count'\n",
    "# (i.e., total flow from each country to the selected top jurisdictions)\n",
    "top_origins = (\n",
    "    flow_counts.groupby('countries_start')['count']\n",
    "    .sum()\n",
    "    .nlargest(10)\n",
    "    .index\n",
    "    .tolist()\n",
    ")\n",
    "\n",
    "# Create a unique list of labels for the sankey graph nodes\n",
    "# This list includes the top origin countries and the top jurisdictions\n",
    "# Jurisdictions are added only if they are not already present in the top_origins list (to avoid duplicates)\n",
    "labels = list(top_origins) + [j for j in top_jurisdictions if j not in top_origins]\n",
    "\n",
    "# Create a dictionary mapping each label (country or jurisdiction name) to a unique numerical index\n",
    "label_to_index = {label: i for i, label in enumerate(labels)}\n",
    "\n",
    "# Add a 'source' column to 'flow_counts' by mapping the 'countries_start' values to their corresponding numerical indices using 'label_to_index'\n",
    "flow_counts['source'] = flow_counts['countries_start'].map(label_to_index)\n",
    "\n",
    "# Add a 'target' column to 'flow_counts' by mapping the 'jurisdiction_description_end' values to their corresponding numerical indices using 'label_to_index'\n",
    "flow_counts['target'] = flow_counts['jurisdiction_description_end'].map(label_to_index)\n"
   ]
  },
  {
   "cell_type": "code",
   "execution_count": 9,
   "id": "6e8314f1-d3ef-41f5-ac66-9b51216f8741",
   "metadata": {},
   "outputs": [
    {
     "name": "stdout",
     "output_type": "stream",
     "text": [
      "jurisdiction_description_end\n",
      "British Virgin Islands    235\n",
      "Malta                     197\n",
      "Bahamas                   155\n",
      "Bermuda                   154\n",
      "Barbados                   14\n",
      "Name: count, dtype: int64\n"
     ]
    }
   ],
   "source": [
    "print(flow_counts['jurisdiction_description_end'].value_counts())"
   ]
  },
  {
   "cell_type": "code",
   "execution_count": 10,
   "id": "97045db7",
   "metadata": {},
   "outputs": [
    {
     "data": {
      "application/vnd.plotly.v1+json": {
       "config": {
        "plotlyServerURL": "https://plot.ly"
       },
       "data": [
        {
         "link": {
          "color": [
           "#FFA15A",
           "#FFA15A",
           "#FFA15A",
           "#FFA15A",
           "#FFA15A",
           "#AB63FA",
           "#AB63FA",
           "#AB63FA",
           "#AB63FA",
           "#AB63FA",
           "#FF97FF",
           "#FF97FF",
           "#FF97FF",
           "#FF97FF",
           "#19D3F3",
           "#19D3F3",
           "#19D3F3",
           "#19D3F3",
           "#B6E880",
           "#B6E880",
           "#B6E880",
           "#B6E880",
           "#636EFA",
           "#636EFA",
           "#636EFA",
           "#636EFA",
           "#FF6692",
           "#FF6692",
           "#FF6692",
           "#FF6692",
           "#FF6692",
           "#FECB52",
           "#FECB52",
           "#FECB52",
           "#FECB52",
           "#EF553B",
           "#EF553B",
           "#EF553B",
           "#EF553B",
           "#EF553B",
           "#00CC96",
           "#00CC96",
           "#00CC96",
           "#00CC96",
           "#00CC96"
          ],
          "source": {
           "bdata": "DQ0NDQ0LCwsLCwgICAgFBQUFBwcHBwoKCgoGBgYGBgkJCQkBAQEBAQICAgIC",
           "dtype": "i1"
          },
          "target": {
           "bdata": "DA4NCwoMDg0LCgwNCwoMDQsKDA0LCgwNCwoMDg0LCgwNCwoMDg0LCgwODQsK",
           "dtype": "i1"
          },
          "value": {
           "bdata": "DAAAAAoAAABc/gAAMQQAAKcBAACsAwAAAgAAAFEFAABEDQEAyQsAAFsAAADBEQAAbpcAACwJAABaAQAAISIAADfBAADlAgAAJgAAABYBAABguwAAUgAAAA4AAABAAAAAygEAADTmBQBKAAAAAQAAAAwJAADk1QAAnQIAACEAAABdAQAAm54AANIAAADuAQAACQAAANHNAADhLgAA9X4AAN0AAAAUAAAAGuIAAJAfAACtJAAA",
           "dtype": "i4"
          }
         },
         "node": {
          "color": [
           "#636EFA",
           "#EF553B",
           "#00CC96",
           "#AB63FA",
           "#FFA15A",
           "#19D3F3",
           "#FF6692",
           "#B6E880",
           "#FF97FF",
           "#FECB52",
           "#636EFA",
           "#AB63FA",
           "lightgray",
           "#FFA15A",
           "lightgray"
          ],
          "label": [
           "Malta",
           "United Kingdom",
           "United States",
           "British Virgin Islands",
           "Bermuda",
           "Hong Kong",
           "Singapore",
           "Indonesia",
           "China",
           "Thailand",
           "Malta",
           "British Virgin Islands",
           "Bahamas",
           "Bermuda",
           "Barbados"
          ],
          "line": {
           "color": "black",
           "width": 0.5
          },
          "pad": 30,
          "thickness": 20
         },
         "type": "sankey"
        }
       ],
       "layout": {
        "font": {
         "size": 12
        },
        "height": 600,
        "template": {
         "data": {
          "bar": [
           {
            "error_x": {
             "color": "#2a3f5f"
            },
            "error_y": {
             "color": "#2a3f5f"
            },
            "marker": {
             "line": {
              "color": "#E5ECF6",
              "width": 0.5
             },
             "pattern": {
              "fillmode": "overlay",
              "size": 10,
              "solidity": 0.2
             }
            },
            "type": "bar"
           }
          ],
          "barpolar": [
           {
            "marker": {
             "line": {
              "color": "#E5ECF6",
              "width": 0.5
             },
             "pattern": {
              "fillmode": "overlay",
              "size": 10,
              "solidity": 0.2
             }
            },
            "type": "barpolar"
           }
          ],
          "carpet": [
           {
            "aaxis": {
             "endlinecolor": "#2a3f5f",
             "gridcolor": "white",
             "linecolor": "white",
             "minorgridcolor": "white",
             "startlinecolor": "#2a3f5f"
            },
            "baxis": {
             "endlinecolor": "#2a3f5f",
             "gridcolor": "white",
             "linecolor": "white",
             "minorgridcolor": "white",
             "startlinecolor": "#2a3f5f"
            },
            "type": "carpet"
           }
          ],
          "choropleth": [
           {
            "colorbar": {
             "outlinewidth": 0,
             "ticks": ""
            },
            "type": "choropleth"
           }
          ],
          "contour": [
           {
            "colorbar": {
             "outlinewidth": 0,
             "ticks": ""
            },
            "colorscale": [
             [
              0,
              "#0d0887"
             ],
             [
              0.1111111111111111,
              "#46039f"
             ],
             [
              0.2222222222222222,
              "#7201a8"
             ],
             [
              0.3333333333333333,
              "#9c179e"
             ],
             [
              0.4444444444444444,
              "#bd3786"
             ],
             [
              0.5555555555555556,
              "#d8576b"
             ],
             [
              0.6666666666666666,
              "#ed7953"
             ],
             [
              0.7777777777777778,
              "#fb9f3a"
             ],
             [
              0.8888888888888888,
              "#fdca26"
             ],
             [
              1,
              "#f0f921"
             ]
            ],
            "type": "contour"
           }
          ],
          "contourcarpet": [
           {
            "colorbar": {
             "outlinewidth": 0,
             "ticks": ""
            },
            "type": "contourcarpet"
           }
          ],
          "heatmap": [
           {
            "colorbar": {
             "outlinewidth": 0,
             "ticks": ""
            },
            "colorscale": [
             [
              0,
              "#0d0887"
             ],
             [
              0.1111111111111111,
              "#46039f"
             ],
             [
              0.2222222222222222,
              "#7201a8"
             ],
             [
              0.3333333333333333,
              "#9c179e"
             ],
             [
              0.4444444444444444,
              "#bd3786"
             ],
             [
              0.5555555555555556,
              "#d8576b"
             ],
             [
              0.6666666666666666,
              "#ed7953"
             ],
             [
              0.7777777777777778,
              "#fb9f3a"
             ],
             [
              0.8888888888888888,
              "#fdca26"
             ],
             [
              1,
              "#f0f921"
             ]
            ],
            "type": "heatmap"
           }
          ],
          "histogram": [
           {
            "marker": {
             "pattern": {
              "fillmode": "overlay",
              "size": 10,
              "solidity": 0.2
             }
            },
            "type": "histogram"
           }
          ],
          "histogram2d": [
           {
            "colorbar": {
             "outlinewidth": 0,
             "ticks": ""
            },
            "colorscale": [
             [
              0,
              "#0d0887"
             ],
             [
              0.1111111111111111,
              "#46039f"
             ],
             [
              0.2222222222222222,
              "#7201a8"
             ],
             [
              0.3333333333333333,
              "#9c179e"
             ],
             [
              0.4444444444444444,
              "#bd3786"
             ],
             [
              0.5555555555555556,
              "#d8576b"
             ],
             [
              0.6666666666666666,
              "#ed7953"
             ],
             [
              0.7777777777777778,
              "#fb9f3a"
             ],
             [
              0.8888888888888888,
              "#fdca26"
             ],
             [
              1,
              "#f0f921"
             ]
            ],
            "type": "histogram2d"
           }
          ],
          "histogram2dcontour": [
           {
            "colorbar": {
             "outlinewidth": 0,
             "ticks": ""
            },
            "colorscale": [
             [
              0,
              "#0d0887"
             ],
             [
              0.1111111111111111,
              "#46039f"
             ],
             [
              0.2222222222222222,
              "#7201a8"
             ],
             [
              0.3333333333333333,
              "#9c179e"
             ],
             [
              0.4444444444444444,
              "#bd3786"
             ],
             [
              0.5555555555555556,
              "#d8576b"
             ],
             [
              0.6666666666666666,
              "#ed7953"
             ],
             [
              0.7777777777777778,
              "#fb9f3a"
             ],
             [
              0.8888888888888888,
              "#fdca26"
             ],
             [
              1,
              "#f0f921"
             ]
            ],
            "type": "histogram2dcontour"
           }
          ],
          "mesh3d": [
           {
            "colorbar": {
             "outlinewidth": 0,
             "ticks": ""
            },
            "type": "mesh3d"
           }
          ],
          "parcoords": [
           {
            "line": {
             "colorbar": {
              "outlinewidth": 0,
              "ticks": ""
             }
            },
            "type": "parcoords"
           }
          ],
          "pie": [
           {
            "automargin": true,
            "type": "pie"
           }
          ],
          "scatter": [
           {
            "fillpattern": {
             "fillmode": "overlay",
             "size": 10,
             "solidity": 0.2
            },
            "type": "scatter"
           }
          ],
          "scatter3d": [
           {
            "line": {
             "colorbar": {
              "outlinewidth": 0,
              "ticks": ""
             }
            },
            "marker": {
             "colorbar": {
              "outlinewidth": 0,
              "ticks": ""
             }
            },
            "type": "scatter3d"
           }
          ],
          "scattercarpet": [
           {
            "marker": {
             "colorbar": {
              "outlinewidth": 0,
              "ticks": ""
             }
            },
            "type": "scattercarpet"
           }
          ],
          "scattergeo": [
           {
            "marker": {
             "colorbar": {
              "outlinewidth": 0,
              "ticks": ""
             }
            },
            "type": "scattergeo"
           }
          ],
          "scattergl": [
           {
            "marker": {
             "colorbar": {
              "outlinewidth": 0,
              "ticks": ""
             }
            },
            "type": "scattergl"
           }
          ],
          "scattermap": [
           {
            "marker": {
             "colorbar": {
              "outlinewidth": 0,
              "ticks": ""
             }
            },
            "type": "scattermap"
           }
          ],
          "scattermapbox": [
           {
            "marker": {
             "colorbar": {
              "outlinewidth": 0,
              "ticks": ""
             }
            },
            "type": "scattermapbox"
           }
          ],
          "scatterpolar": [
           {
            "marker": {
             "colorbar": {
              "outlinewidth": 0,
              "ticks": ""
             }
            },
            "type": "scatterpolar"
           }
          ],
          "scatterpolargl": [
           {
            "marker": {
             "colorbar": {
              "outlinewidth": 0,
              "ticks": ""
             }
            },
            "type": "scatterpolargl"
           }
          ],
          "scatterternary": [
           {
            "marker": {
             "colorbar": {
              "outlinewidth": 0,
              "ticks": ""
             }
            },
            "type": "scatterternary"
           }
          ],
          "surface": [
           {
            "colorbar": {
             "outlinewidth": 0,
             "ticks": ""
            },
            "colorscale": [
             [
              0,
              "#0d0887"
             ],
             [
              0.1111111111111111,
              "#46039f"
             ],
             [
              0.2222222222222222,
              "#7201a8"
             ],
             [
              0.3333333333333333,
              "#9c179e"
             ],
             [
              0.4444444444444444,
              "#bd3786"
             ],
             [
              0.5555555555555556,
              "#d8576b"
             ],
             [
              0.6666666666666666,
              "#ed7953"
             ],
             [
              0.7777777777777778,
              "#fb9f3a"
             ],
             [
              0.8888888888888888,
              "#fdca26"
             ],
             [
              1,
              "#f0f921"
             ]
            ],
            "type": "surface"
           }
          ],
          "table": [
           {
            "cells": {
             "fill": {
              "color": "#EBF0F8"
             },
             "line": {
              "color": "white"
             }
            },
            "header": {
             "fill": {
              "color": "#C8D4E3"
             },
             "line": {
              "color": "white"
             }
            },
            "type": "table"
           }
          ]
         },
         "layout": {
          "annotationdefaults": {
           "arrowcolor": "#2a3f5f",
           "arrowhead": 0,
           "arrowwidth": 1
          },
          "autotypenumbers": "strict",
          "coloraxis": {
           "colorbar": {
            "outlinewidth": 0,
            "ticks": ""
           }
          },
          "colorscale": {
           "diverging": [
            [
             0,
             "#8e0152"
            ],
            [
             0.1,
             "#c51b7d"
            ],
            [
             0.2,
             "#de77ae"
            ],
            [
             0.3,
             "#f1b6da"
            ],
            [
             0.4,
             "#fde0ef"
            ],
            [
             0.5,
             "#f7f7f7"
            ],
            [
             0.6,
             "#e6f5d0"
            ],
            [
             0.7,
             "#b8e186"
            ],
            [
             0.8,
             "#7fbc41"
            ],
            [
             0.9,
             "#4d9221"
            ],
            [
             1,
             "#276419"
            ]
           ],
           "sequential": [
            [
             0,
             "#0d0887"
            ],
            [
             0.1111111111111111,
             "#46039f"
            ],
            [
             0.2222222222222222,
             "#7201a8"
            ],
            [
             0.3333333333333333,
             "#9c179e"
            ],
            [
             0.4444444444444444,
             "#bd3786"
            ],
            [
             0.5555555555555556,
             "#d8576b"
            ],
            [
             0.6666666666666666,
             "#ed7953"
            ],
            [
             0.7777777777777778,
             "#fb9f3a"
            ],
            [
             0.8888888888888888,
             "#fdca26"
            ],
            [
             1,
             "#f0f921"
            ]
           ],
           "sequentialminus": [
            [
             0,
             "#0d0887"
            ],
            [
             0.1111111111111111,
             "#46039f"
            ],
            [
             0.2222222222222222,
             "#7201a8"
            ],
            [
             0.3333333333333333,
             "#9c179e"
            ],
            [
             0.4444444444444444,
             "#bd3786"
            ],
            [
             0.5555555555555556,
             "#d8576b"
            ],
            [
             0.6666666666666666,
             "#ed7953"
            ],
            [
             0.7777777777777778,
             "#fb9f3a"
            ],
            [
             0.8888888888888888,
             "#fdca26"
            ],
            [
             1,
             "#f0f921"
            ]
           ]
          },
          "colorway": [
           "#636efa",
           "#EF553B",
           "#00cc96",
           "#ab63fa",
           "#FFA15A",
           "#19d3f3",
           "#FF6692",
           "#B6E880",
           "#FF97FF",
           "#FECB52"
          ],
          "font": {
           "color": "#2a3f5f"
          },
          "geo": {
           "bgcolor": "white",
           "lakecolor": "white",
           "landcolor": "#E5ECF6",
           "showlakes": true,
           "showland": true,
           "subunitcolor": "white"
          },
          "hoverlabel": {
           "align": "left"
          },
          "hovermode": "closest",
          "mapbox": {
           "style": "light"
          },
          "paper_bgcolor": "white",
          "plot_bgcolor": "#E5ECF6",
          "polar": {
           "angularaxis": {
            "gridcolor": "white",
            "linecolor": "white",
            "ticks": ""
           },
           "bgcolor": "#E5ECF6",
           "radialaxis": {
            "gridcolor": "white",
            "linecolor": "white",
            "ticks": ""
           }
          },
          "scene": {
           "xaxis": {
            "backgroundcolor": "#E5ECF6",
            "gridcolor": "white",
            "gridwidth": 2,
            "linecolor": "white",
            "showbackground": true,
            "ticks": "",
            "zerolinecolor": "white"
           },
           "yaxis": {
            "backgroundcolor": "#E5ECF6",
            "gridcolor": "white",
            "gridwidth": 2,
            "linecolor": "white",
            "showbackground": true,
            "ticks": "",
            "zerolinecolor": "white"
           },
           "zaxis": {
            "backgroundcolor": "#E5ECF6",
            "gridcolor": "white",
            "gridwidth": 2,
            "linecolor": "white",
            "showbackground": true,
            "ticks": "",
            "zerolinecolor": "white"
           }
          },
          "shapedefaults": {
           "line": {
            "color": "#2a3f5f"
           }
          },
          "ternary": {
           "aaxis": {
            "gridcolor": "white",
            "linecolor": "white",
            "ticks": ""
           },
           "baxis": {
            "gridcolor": "white",
            "linecolor": "white",
            "ticks": ""
           },
           "bgcolor": "#E5ECF6",
           "caxis": {
            "gridcolor": "white",
            "linecolor": "white",
            "ticks": ""
           }
          },
          "title": {
           "x": 0.05
          },
          "xaxis": {
           "automargin": true,
           "gridcolor": "white",
           "linecolor": "white",
           "ticks": "",
           "title": {
            "standoff": 15
           },
           "zerolinecolor": "white",
           "zerolinewidth": 2
          },
          "yaxis": {
           "automargin": true,
           "gridcolor": "white",
           "linecolor": "white",
           "ticks": "",
           "title": {
            "standoff": 15
           },
           "zerolinecolor": "white",
           "zerolinewidth": 2
          }
         }
        },
        "title": {
         "text": "Top Officer Countries → Top 5 Entity Jurisdictions"
        },
        "width": 1000
       }
      }
     },
     "metadata": {},
     "output_type": "display_data"
    }
   ],
   "source": [
    "# Define a list of qualitative colors from Plotly Express for styling\n",
    "colors = px.colors.qualitative.Plotly\n",
    "\n",
    "# Create a dictionary to map each top origin country to a unique color\n",
    "# Colors are cycled if the number of countries exceeds the number of available colors\n",
    "origin_color_map = {country: colors[i % len(colors)] for i, country in enumerate(top_origins)}\n",
    "\n",
    "# Filter the flow_counts DataFrame to include only flows:\n",
    "# Originating from one of the 'top_origins' countries and destined for one of the 'top_jurisdictions'\n",
    "flow_counts = flow_counts[\n",
    "    flow_counts['countries_start'].isin(top_origins) &\n",
    "    flow_counts['jurisdiction_description_end'].isin(top_jurisdictions)\n",
    "]\n",
    "\n",
    "# Add a 'link_color' column to flow_counts, assigning a color to each flow (link)\n",
    "# based on its origin country using the 'origin_color_map'\n",
    "flow_counts['link_color'] = flow_counts['countries_start'].map(origin_color_map)\n",
    "\n",
    "# Create a combined list of labels for sankey graph nodes: top origin countries followed by top jurisdictions\n",
    "# This list defines all unique nodes in the plot.\n",
    "labels = list(top_origins) + top_jurisdictions\n",
    "\n",
    "# Create a dictionary mapping each label (country or jurisdiction name) to a unique numerical index\n",
    "# Sankey diagrams require numerical indices for sources and targets.\n",
    "label_to_index = {label: i for i, label in enumerate(labels)}\n",
    "\n",
    "# Assign colors to each node:\n",
    "# Origin countries get their specific color from 'origin_color_map'\n",
    "# Other nodes (jurisdictions) are colored 'lightgray'\n",
    "node_colors = [origin_color_map.get(label, \"lightgray\") for label in labels]\n",
    "\n",
    "# Create the sankey graph \n",
    "fig = go.Figure(data=[go.Sankey(\n",
    "    # Define node properties\n",
    "    node=dict(\n",
    "        pad=30,  # Padding between nodes\n",
    "        thickness=20,  # Thickness of the nodes\n",
    "        line=dict(color=\"black\", width=0.5),  # Border line for nodes\n",
    "        label=labels,  # Labels for the nodes\n",
    "        color=node_colors  # Colors for the nodes\n",
    "    ),\n",
    "    # Define link properties\n",
    "    link=dict(\n",
    "        source=flow_counts['countries_start'].map(label_to_index),  # Map origin countries to numerical source indices\n",
    "        target=flow_counts['jurisdiction_description_end'].map(label_to_index),  # Map destination jurisdictions to numerical target indices\n",
    "        value=flow_counts['count'],  # Thickness of the links based on flow count\n",
    "        color=flow_counts['link_color']  # Color of the links based on origin country\n",
    "    )\n",
    ")])\n",
    "\n",
    "fig.update_layout(\n",
    "    title_text=\"Top Officer Countries → Top 5 Entity Jurisdictions\",  \n",
    "    font=dict(size=12), \n",
    "    height=600, \n",
    "    width=1000  \n",
    ")\n",
    "\n",
    "fig.show()"
   ]
  },
  {
   "cell_type": "markdown",
   "id": "b916ccef",
   "metadata": {},
   "source": [
    "### Creating summary table of sankey graph"
   ]
  },
  {
   "cell_type": "code",
   "execution_count": 11,
   "id": "f833c769",
   "metadata": {},
   "outputs": [
    {
     "data": {
      "text/plain": [
       "<bound method NDFrame.head of             Origin Country Destination Jurisdiction  Flow Count  \\\n",
       "0                  Bermuda                  Bahamas          12   \n",
       "1                  Bermuda                 Barbados          10   \n",
       "2                  Bermuda                  Bermuda       65116   \n",
       "3                  Bermuda   British Virgin Islands        1073   \n",
       "4                  Bermuda                    Malta         423   \n",
       "5   British Virgin Islands                  Bahamas         940   \n",
       "6   British Virgin Islands                 Barbados           2   \n",
       "7   British Virgin Islands                  Bermuda        1361   \n",
       "8   British Virgin Islands   British Virgin Islands       68932   \n",
       "9   British Virgin Islands                    Malta        3017   \n",
       "10                   China                  Bahamas          91   \n",
       "11                   China                  Bermuda        4545   \n",
       "12                   China   British Virgin Islands       38766   \n",
       "13                   China                    Malta        2348   \n",
       "14               Hong Kong                  Bahamas         346   \n",
       "15               Hong Kong                  Bermuda        8737   \n",
       "16               Hong Kong   British Virgin Islands       49463   \n",
       "17               Hong Kong                    Malta         741   \n",
       "18               Indonesia                  Bahamas          38   \n",
       "19               Indonesia                  Bermuda         278   \n",
       "20               Indonesia   British Virgin Islands       47968   \n",
       "21               Indonesia                    Malta          82   \n",
       "22                   Malta                  Bahamas          14   \n",
       "23                   Malta                  Bermuda          64   \n",
       "24                   Malta   British Virgin Islands         458   \n",
       "25                   Malta                    Malta      386612   \n",
       "26               Singapore                  Bahamas          74   \n",
       "27               Singapore                 Barbados           1   \n",
       "28               Singapore                  Bermuda        2316   \n",
       "29               Singapore   British Virgin Islands       54756   \n",
       "30               Singapore                    Malta         669   \n",
       "31                Thailand                  Bahamas          33   \n",
       "32                Thailand                  Bermuda         349   \n",
       "33                Thailand   British Virgin Islands       40603   \n",
       "34                Thailand                    Malta         210   \n",
       "35          United Kingdom                  Bahamas         494   \n",
       "36          United Kingdom                 Barbados           9   \n",
       "37          United Kingdom                  Bermuda       52689   \n",
       "38          United Kingdom   British Virgin Islands       12001   \n",
       "39          United Kingdom                    Malta       32501   \n",
       "40           United States                  Bahamas         221   \n",
       "41           United States                 Barbados          20   \n",
       "42           United States                  Bermuda       57882   \n",
       "43           United States   British Virgin Islands        8080   \n",
       "44           United States                    Malta        9389   \n",
       "\n",
       "    Proportion (%)  \n",
       "0             0.02  \n",
       "1             0.02  \n",
       "2            97.72  \n",
       "3             1.61  \n",
       "4             0.63  \n",
       "5             1.27  \n",
       "6             0.00  \n",
       "7             1.83  \n",
       "8            92.84  \n",
       "9             4.06  \n",
       "10            0.20  \n",
       "11            9.93  \n",
       "12           84.73  \n",
       "13            5.13  \n",
       "14            0.58  \n",
       "15           14.74  \n",
       "16           83.43  \n",
       "17            1.25  \n",
       "18            0.08  \n",
       "19            0.57  \n",
       "20           99.18  \n",
       "21            0.17  \n",
       "22            0.00  \n",
       "23            0.02  \n",
       "24            0.12  \n",
       "25           99.86  \n",
       "26            0.13  \n",
       "27            0.00  \n",
       "28            4.01  \n",
       "29           94.71  \n",
       "30            1.16  \n",
       "31            0.08  \n",
       "32            0.85  \n",
       "33           98.56  \n",
       "34            0.51  \n",
       "35            0.51  \n",
       "36            0.01  \n",
       "37           53.93  \n",
       "38           12.28  \n",
       "39           33.27  \n",
       "40            0.29  \n",
       "41            0.03  \n",
       "42           76.57  \n",
       "43           10.69  \n",
       "44           12.42  >"
      ]
     },
     "execution_count": 11,
     "metadata": {},
     "output_type": "execute_result"
    }
   ],
   "source": [
    "# Group data by origin country and destination jurisdiction, then sum the counts for each group\n",
    "summary_table = (\n",
    "    flow_counts.groupby(['countries_start', 'jurisdiction_description_end'])['count']\n",
    "    .sum()\n",
    "    .reset_index()\n",
    ")\n",
    "\n",
    "# calculate the proportion of flow for each origin country to each jurisdiction\n",
    "# for each origin country, calculate the count for each jurisdiction as a fraction of the total count for that origin\n",
    "summary_table['proportion'] = summary_table.groupby('countries_start')['count'].transform(\n",
    "    lambda x: x / x.sum()\n",
    ")\n",
    "\n",
    "# Convert the proportion to a percentage and round to two decimal places\n",
    "summary_table['proportion'] = (summary_table['proportion'] * 100).round(2)\n",
    "\n",
    "# Rename columns for better readability\n",
    "summary_table = summary_table.rename(columns={\n",
    "    'countries_start': 'Origin Country',\n",
    "    'jurisdiction_description_end': 'Destination Jurisdiction',\n",
    "    'count': 'Flow Count',\n",
    "    'proportion': 'Proportion (%)'\n",
    "})\n",
    "\n",
    "# Display the resulting summary table\n",
    "summary_table.head"
   ]
  }
 ],
 "metadata": {
  "kernelspec": {
   "display_name": "myenv",
   "language": "python",
   "name": "myenv"
  },
  "language_info": {
   "codemirror_mode": {
    "name": "ipython",
    "version": 3
   },
   "file_extension": ".py",
   "mimetype": "text/x-python",
   "name": "python",
   "nbconvert_exporter": "python",
   "pygments_lexer": "ipython3",
   "version": "3.12.2"
  }
 },
 "nbformat": 4,
 "nbformat_minor": 5
}
